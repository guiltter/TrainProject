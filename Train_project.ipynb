{
  "cells": [
    {
      "cell_type": "code",
      "execution_count": null,
      "metadata": {
        "id": "G_qn4IB2L-lZ"
      },
      "outputs": [],
      "source": [
        "import numpy as np\n",
        "import math\n",
        "import pandas as pd\n",
        "import seaborn as sns\n",
        "import matplotlib.pyplot as plt\n",
        "train_data = pd.read_csv('railway.csv')"
      ]
    },
    {
      "cell_type": "markdown",
      "metadata": {
        "id": "O5qZG00SM62I"
      },
      "source": [
        "# 1-Data Wrangling\n",
        "Now that we've loaded our data, it's time to check the data for errors and clean them, commonly known as 'Data Wrangling'."
      ]
    },
    {
      "cell_type": "markdown",
      "source": [
        "## **0-General Properties:**"
      ],
      "metadata": {
        "id": "dPRfCWsRHi6K"
      }
    },
    {
      "cell_type": "code",
      "execution_count": null,
      "metadata": {
        "colab": {
          "base_uri": "https://localhost:8080/",
          "height": 434
        },
        "id": "tWSZ7PeONIRi",
        "outputId": "f28bb625-3911-4ddc-f859-1e4613d81a1b"
      },
      "outputs": [
        {
          "output_type": "execute_result",
          "data": {
            "text/plain": [
              "            Transaction ID Date of Purchase Time of Purchase Purchase Type  \\\n",
              "0  da8a6ba8-b3dc-4677-b176       2023-12-08         12:41:11        Online   \n",
              "1  b0cdd1b0-f214-4197-be53       2023-12-16         11:23:01       Station   \n",
              "2  f3ba7a96-f713-40d9-9629       2023-12-19         19:51:27        Online   \n",
              "3  b2471f11-4fe7-4c87-8ab4       2023-12-20         23:00:36       Station   \n",
              "4  2be00b45-0762-485e-a7a3       2023-12-27         18:22:56        Online   \n",
              "\n",
              "  Payment Method Railcard Ticket Class Ticket Type  Price  \\\n",
              "0    Contactless    Adult     Standard     Advance     43   \n",
              "1    Credit Card    Adult     Standard     Advance     23   \n",
              "2    Credit Card      NaN     Standard     Advance      3   \n",
              "3    Credit Card      NaN     Standard     Advance     13   \n",
              "4    Contactless      NaN     Standard     Advance     76   \n",
              "\n",
              "       Departure Station    Arrival Destination Date of Journey  \\\n",
              "0      London Paddington  Liverpool Lime Street      2024-01-01   \n",
              "1     London Kings Cross                   York      2024-01-01   \n",
              "2  Liverpool Lime Street  Manchester Piccadilly      2024-01-02   \n",
              "3      London Paddington                Reading      2024-01-01   \n",
              "4  Liverpool Lime Street          London Euston      2024-01-01   \n",
              "\n",
              "  Departure Time Arrival Time Actual Arrival Time Journey Status  \\\n",
              "0       11:00:00     13:30:00            13:30:00        On Time   \n",
              "1       09:45:00     11:35:00            11:40:00        Delayed   \n",
              "2       18:15:00     18:45:00            18:45:00        On Time   \n",
              "3       21:30:00     22:30:00            22:30:00        On Time   \n",
              "4       16:45:00     19:00:00            19:00:00        On Time   \n",
              "\n",
              "  Reason for Delay Refund Request  \n",
              "0              NaN             No  \n",
              "1   Signal Failure             No  \n",
              "2              NaN             No  \n",
              "3              NaN             No  \n",
              "4              NaN             No  "
            ],
            "text/html": [
              "\n",
              "  <div id=\"df-f428de9a-2d5a-4972-8ee7-b8c8fa979caa\" class=\"colab-df-container\">\n",
              "    <div>\n",
              "<style scoped>\n",
              "    .dataframe tbody tr th:only-of-type {\n",
              "        vertical-align: middle;\n",
              "    }\n",
              "\n",
              "    .dataframe tbody tr th {\n",
              "        vertical-align: top;\n",
              "    }\n",
              "\n",
              "    .dataframe thead th {\n",
              "        text-align: right;\n",
              "    }\n",
              "</style>\n",
              "<table border=\"1\" class=\"dataframe\">\n",
              "  <thead>\n",
              "    <tr style=\"text-align: right;\">\n",
              "      <th></th>\n",
              "      <th>Transaction ID</th>\n",
              "      <th>Date of Purchase</th>\n",
              "      <th>Time of Purchase</th>\n",
              "      <th>Purchase Type</th>\n",
              "      <th>Payment Method</th>\n",
              "      <th>Railcard</th>\n",
              "      <th>Ticket Class</th>\n",
              "      <th>Ticket Type</th>\n",
              "      <th>Price</th>\n",
              "      <th>Departure Station</th>\n",
              "      <th>Arrival Destination</th>\n",
              "      <th>Date of Journey</th>\n",
              "      <th>Departure Time</th>\n",
              "      <th>Arrival Time</th>\n",
              "      <th>Actual Arrival Time</th>\n",
              "      <th>Journey Status</th>\n",
              "      <th>Reason for Delay</th>\n",
              "      <th>Refund Request</th>\n",
              "    </tr>\n",
              "  </thead>\n",
              "  <tbody>\n",
              "    <tr>\n",
              "      <th>0</th>\n",
              "      <td>da8a6ba8-b3dc-4677-b176</td>\n",
              "      <td>2023-12-08</td>\n",
              "      <td>12:41:11</td>\n",
              "      <td>Online</td>\n",
              "      <td>Contactless</td>\n",
              "      <td>Adult</td>\n",
              "      <td>Standard</td>\n",
              "      <td>Advance</td>\n",
              "      <td>43</td>\n",
              "      <td>London Paddington</td>\n",
              "      <td>Liverpool Lime Street</td>\n",
              "      <td>2024-01-01</td>\n",
              "      <td>11:00:00</td>\n",
              "      <td>13:30:00</td>\n",
              "      <td>13:30:00</td>\n",
              "      <td>On Time</td>\n",
              "      <td>NaN</td>\n",
              "      <td>No</td>\n",
              "    </tr>\n",
              "    <tr>\n",
              "      <th>1</th>\n",
              "      <td>b0cdd1b0-f214-4197-be53</td>\n",
              "      <td>2023-12-16</td>\n",
              "      <td>11:23:01</td>\n",
              "      <td>Station</td>\n",
              "      <td>Credit Card</td>\n",
              "      <td>Adult</td>\n",
              "      <td>Standard</td>\n",
              "      <td>Advance</td>\n",
              "      <td>23</td>\n",
              "      <td>London Kings Cross</td>\n",
              "      <td>York</td>\n",
              "      <td>2024-01-01</td>\n",
              "      <td>09:45:00</td>\n",
              "      <td>11:35:00</td>\n",
              "      <td>11:40:00</td>\n",
              "      <td>Delayed</td>\n",
              "      <td>Signal Failure</td>\n",
              "      <td>No</td>\n",
              "    </tr>\n",
              "    <tr>\n",
              "      <th>2</th>\n",
              "      <td>f3ba7a96-f713-40d9-9629</td>\n",
              "      <td>2023-12-19</td>\n",
              "      <td>19:51:27</td>\n",
              "      <td>Online</td>\n",
              "      <td>Credit Card</td>\n",
              "      <td>NaN</td>\n",
              "      <td>Standard</td>\n",
              "      <td>Advance</td>\n",
              "      <td>3</td>\n",
              "      <td>Liverpool Lime Street</td>\n",
              "      <td>Manchester Piccadilly</td>\n",
              "      <td>2024-01-02</td>\n",
              "      <td>18:15:00</td>\n",
              "      <td>18:45:00</td>\n",
              "      <td>18:45:00</td>\n",
              "      <td>On Time</td>\n",
              "      <td>NaN</td>\n",
              "      <td>No</td>\n",
              "    </tr>\n",
              "    <tr>\n",
              "      <th>3</th>\n",
              "      <td>b2471f11-4fe7-4c87-8ab4</td>\n",
              "      <td>2023-12-20</td>\n",
              "      <td>23:00:36</td>\n",
              "      <td>Station</td>\n",
              "      <td>Credit Card</td>\n",
              "      <td>NaN</td>\n",
              "      <td>Standard</td>\n",
              "      <td>Advance</td>\n",
              "      <td>13</td>\n",
              "      <td>London Paddington</td>\n",
              "      <td>Reading</td>\n",
              "      <td>2024-01-01</td>\n",
              "      <td>21:30:00</td>\n",
              "      <td>22:30:00</td>\n",
              "      <td>22:30:00</td>\n",
              "      <td>On Time</td>\n",
              "      <td>NaN</td>\n",
              "      <td>No</td>\n",
              "    </tr>\n",
              "    <tr>\n",
              "      <th>4</th>\n",
              "      <td>2be00b45-0762-485e-a7a3</td>\n",
              "      <td>2023-12-27</td>\n",
              "      <td>18:22:56</td>\n",
              "      <td>Online</td>\n",
              "      <td>Contactless</td>\n",
              "      <td>NaN</td>\n",
              "      <td>Standard</td>\n",
              "      <td>Advance</td>\n",
              "      <td>76</td>\n",
              "      <td>Liverpool Lime Street</td>\n",
              "      <td>London Euston</td>\n",
              "      <td>2024-01-01</td>\n",
              "      <td>16:45:00</td>\n",
              "      <td>19:00:00</td>\n",
              "      <td>19:00:00</td>\n",
              "      <td>On Time</td>\n",
              "      <td>NaN</td>\n",
              "      <td>No</td>\n",
              "    </tr>\n",
              "  </tbody>\n",
              "</table>\n",
              "</div>\n",
              "    <div class=\"colab-df-buttons\">\n",
              "\n",
              "  <div class=\"colab-df-container\">\n",
              "    <button class=\"colab-df-convert\" onclick=\"convertToInteractive('df-f428de9a-2d5a-4972-8ee7-b8c8fa979caa')\"\n",
              "            title=\"Convert this dataframe to an interactive table.\"\n",
              "            style=\"display:none;\">\n",
              "\n",
              "  <svg xmlns=\"http://www.w3.org/2000/svg\" height=\"24px\" viewBox=\"0 -960 960 960\">\n",
              "    <path d=\"M120-120v-720h720v720H120Zm60-500h600v-160H180v160Zm220 220h160v-160H400v160Zm0 220h160v-160H400v160ZM180-400h160v-160H180v160Zm440 0h160v-160H620v160ZM180-180h160v-160H180v160Zm440 0h160v-160H620v160Z\"/>\n",
              "  </svg>\n",
              "    </button>\n",
              "\n",
              "  <style>\n",
              "    .colab-df-container {\n",
              "      display:flex;\n",
              "      gap: 12px;\n",
              "    }\n",
              "\n",
              "    .colab-df-convert {\n",
              "      background-color: #E8F0FE;\n",
              "      border: none;\n",
              "      border-radius: 50%;\n",
              "      cursor: pointer;\n",
              "      display: none;\n",
              "      fill: #1967D2;\n",
              "      height: 32px;\n",
              "      padding: 0 0 0 0;\n",
              "      width: 32px;\n",
              "    }\n",
              "\n",
              "    .colab-df-convert:hover {\n",
              "      background-color: #E2EBFA;\n",
              "      box-shadow: 0px 1px 2px rgba(60, 64, 67, 0.3), 0px 1px 3px 1px rgba(60, 64, 67, 0.15);\n",
              "      fill: #174EA6;\n",
              "    }\n",
              "\n",
              "    .colab-df-buttons div {\n",
              "      margin-bottom: 4px;\n",
              "    }\n",
              "\n",
              "    [theme=dark] .colab-df-convert {\n",
              "      background-color: #3B4455;\n",
              "      fill: #D2E3FC;\n",
              "    }\n",
              "\n",
              "    [theme=dark] .colab-df-convert:hover {\n",
              "      background-color: #434B5C;\n",
              "      box-shadow: 0px 1px 3px 1px rgba(0, 0, 0, 0.15);\n",
              "      filter: drop-shadow(0px 1px 2px rgba(0, 0, 0, 0.3));\n",
              "      fill: #FFFFFF;\n",
              "    }\n",
              "  </style>\n",
              "\n",
              "    <script>\n",
              "      const buttonEl =\n",
              "        document.querySelector('#df-f428de9a-2d5a-4972-8ee7-b8c8fa979caa button.colab-df-convert');\n",
              "      buttonEl.style.display =\n",
              "        google.colab.kernel.accessAllowed ? 'block' : 'none';\n",
              "\n",
              "      async function convertToInteractive(key) {\n",
              "        const element = document.querySelector('#df-f428de9a-2d5a-4972-8ee7-b8c8fa979caa');\n",
              "        const dataTable =\n",
              "          await google.colab.kernel.invokeFunction('convertToInteractive',\n",
              "                                                    [key], {});\n",
              "        if (!dataTable) return;\n",
              "\n",
              "        const docLinkHtml = 'Like what you see? Visit the ' +\n",
              "          '<a target=\"_blank\" href=https://colab.research.google.com/notebooks/data_table.ipynb>data table notebook</a>'\n",
              "          + ' to learn more about interactive tables.';\n",
              "        element.innerHTML = '';\n",
              "        dataTable['output_type'] = 'display_data';\n",
              "        await google.colab.output.renderOutput(dataTable, element);\n",
              "        const docLink = document.createElement('div');\n",
              "        docLink.innerHTML = docLinkHtml;\n",
              "        element.appendChild(docLink);\n",
              "      }\n",
              "    </script>\n",
              "  </div>\n",
              "\n",
              "\n",
              "<div id=\"df-3a597d26-3eef-43c3-8962-15ceef98d94f\">\n",
              "  <button class=\"colab-df-quickchart\" onclick=\"quickchart('df-3a597d26-3eef-43c3-8962-15ceef98d94f')\"\n",
              "            title=\"Suggest charts\"\n",
              "            style=\"display:none;\">\n",
              "\n",
              "<svg xmlns=\"http://www.w3.org/2000/svg\" height=\"24px\"viewBox=\"0 0 24 24\"\n",
              "     width=\"24px\">\n",
              "    <g>\n",
              "        <path d=\"M19 3H5c-1.1 0-2 .9-2 2v14c0 1.1.9 2 2 2h14c1.1 0 2-.9 2-2V5c0-1.1-.9-2-2-2zM9 17H7v-7h2v7zm4 0h-2V7h2v10zm4 0h-2v-4h2v4z\"/>\n",
              "    </g>\n",
              "</svg>\n",
              "  </button>\n",
              "\n",
              "<style>\n",
              "  .colab-df-quickchart {\n",
              "      --bg-color: #E8F0FE;\n",
              "      --fill-color: #1967D2;\n",
              "      --hover-bg-color: #E2EBFA;\n",
              "      --hover-fill-color: #174EA6;\n",
              "      --disabled-fill-color: #AAA;\n",
              "      --disabled-bg-color: #DDD;\n",
              "  }\n",
              "\n",
              "  [theme=dark] .colab-df-quickchart {\n",
              "      --bg-color: #3B4455;\n",
              "      --fill-color: #D2E3FC;\n",
              "      --hover-bg-color: #434B5C;\n",
              "      --hover-fill-color: #FFFFFF;\n",
              "      --disabled-bg-color: #3B4455;\n",
              "      --disabled-fill-color: #666;\n",
              "  }\n",
              "\n",
              "  .colab-df-quickchart {\n",
              "    background-color: var(--bg-color);\n",
              "    border: none;\n",
              "    border-radius: 50%;\n",
              "    cursor: pointer;\n",
              "    display: none;\n",
              "    fill: var(--fill-color);\n",
              "    height: 32px;\n",
              "    padding: 0;\n",
              "    width: 32px;\n",
              "  }\n",
              "\n",
              "  .colab-df-quickchart:hover {\n",
              "    background-color: var(--hover-bg-color);\n",
              "    box-shadow: 0 1px 2px rgba(60, 64, 67, 0.3), 0 1px 3px 1px rgba(60, 64, 67, 0.15);\n",
              "    fill: var(--button-hover-fill-color);\n",
              "  }\n",
              "\n",
              "  .colab-df-quickchart-complete:disabled,\n",
              "  .colab-df-quickchart-complete:disabled:hover {\n",
              "    background-color: var(--disabled-bg-color);\n",
              "    fill: var(--disabled-fill-color);\n",
              "    box-shadow: none;\n",
              "  }\n",
              "\n",
              "  .colab-df-spinner {\n",
              "    border: 2px solid var(--fill-color);\n",
              "    border-color: transparent;\n",
              "    border-bottom-color: var(--fill-color);\n",
              "    animation:\n",
              "      spin 1s steps(1) infinite;\n",
              "  }\n",
              "\n",
              "  @keyframes spin {\n",
              "    0% {\n",
              "      border-color: transparent;\n",
              "      border-bottom-color: var(--fill-color);\n",
              "      border-left-color: var(--fill-color);\n",
              "    }\n",
              "    20% {\n",
              "      border-color: transparent;\n",
              "      border-left-color: var(--fill-color);\n",
              "      border-top-color: var(--fill-color);\n",
              "    }\n",
              "    30% {\n",
              "      border-color: transparent;\n",
              "      border-left-color: var(--fill-color);\n",
              "      border-top-color: var(--fill-color);\n",
              "      border-right-color: var(--fill-color);\n",
              "    }\n",
              "    40% {\n",
              "      border-color: transparent;\n",
              "      border-right-color: var(--fill-color);\n",
              "      border-top-color: var(--fill-color);\n",
              "    }\n",
              "    60% {\n",
              "      border-color: transparent;\n",
              "      border-right-color: var(--fill-color);\n",
              "    }\n",
              "    80% {\n",
              "      border-color: transparent;\n",
              "      border-right-color: var(--fill-color);\n",
              "      border-bottom-color: var(--fill-color);\n",
              "    }\n",
              "    90% {\n",
              "      border-color: transparent;\n",
              "      border-bottom-color: var(--fill-color);\n",
              "    }\n",
              "  }\n",
              "</style>\n",
              "\n",
              "  <script>\n",
              "    async function quickchart(key) {\n",
              "      const quickchartButtonEl =\n",
              "        document.querySelector('#' + key + ' button');\n",
              "      quickchartButtonEl.disabled = true;  // To prevent multiple clicks.\n",
              "      quickchartButtonEl.classList.add('colab-df-spinner');\n",
              "      try {\n",
              "        const charts = await google.colab.kernel.invokeFunction(\n",
              "            'suggestCharts', [key], {});\n",
              "      } catch (error) {\n",
              "        console.error('Error during call to suggestCharts:', error);\n",
              "      }\n",
              "      quickchartButtonEl.classList.remove('colab-df-spinner');\n",
              "      quickchartButtonEl.classList.add('colab-df-quickchart-complete');\n",
              "    }\n",
              "    (() => {\n",
              "      let quickchartButtonEl =\n",
              "        document.querySelector('#df-3a597d26-3eef-43c3-8962-15ceef98d94f button');\n",
              "      quickchartButtonEl.style.display =\n",
              "        google.colab.kernel.accessAllowed ? 'block' : 'none';\n",
              "    })();\n",
              "  </script>\n",
              "</div>\n",
              "\n",
              "    </div>\n",
              "  </div>\n"
            ],
            "application/vnd.google.colaboratory.intrinsic+json": {
              "type": "dataframe",
              "variable_name": "train_data",
              "summary": "{\n  \"name\": \"train_data\",\n  \"rows\": 31653,\n  \"fields\": [\n    {\n      \"column\": \"Transaction ID\",\n      \"properties\": {\n        \"dtype\": \"string\",\n        \"num_unique_values\": 31653,\n        \"samples\": [\n          \"5cba8154-329e-4670-805b\",\n          \"cc742a5e-bce6-440e-96f1\",\n          \"2c1cd8e6-031d-498a-9acd\"\n        ],\n        \"semantic_type\": \"\",\n        \"description\": \"\"\n      }\n    },\n    {\n      \"column\": \"Date of Purchase\",\n      \"properties\": {\n        \"dtype\": \"object\",\n        \"num_unique_values\": 128,\n        \"samples\": [\n          \"2024-02-18\",\n          \"2024-02-03\",\n          \"2024-01-13\"\n        ],\n        \"semantic_type\": \"\",\n        \"description\": \"\"\n      }\n    },\n    {\n      \"column\": \"Time of Purchase\",\n      \"properties\": {\n        \"dtype\": \"object\",\n        \"num_unique_values\": 24351,\n        \"samples\": [\n          \"09:39:16\",\n          \"07:46:14\",\n          \"12:46:48\"\n        ],\n        \"semantic_type\": \"\",\n        \"description\": \"\"\n      }\n    },\n    {\n      \"column\": \"Purchase Type\",\n      \"properties\": {\n        \"dtype\": \"category\",\n        \"num_unique_values\": 2,\n        \"samples\": [\n          \"Station\",\n          \"Online\"\n        ],\n        \"semantic_type\": \"\",\n        \"description\": \"\"\n      }\n    },\n    {\n      \"column\": \"Payment Method\",\n      \"properties\": {\n        \"dtype\": \"category\",\n        \"num_unique_values\": 3,\n        \"samples\": [\n          \"Contactless\",\n          \"Credit Card\"\n        ],\n        \"semantic_type\": \"\",\n        \"description\": \"\"\n      }\n    },\n    {\n      \"column\": \"Railcard\",\n      \"properties\": {\n        \"dtype\": \"category\",\n        \"num_unique_values\": 3,\n        \"samples\": [\n          \"Adult\",\n          \"Disabled\"\n        ],\n        \"semantic_type\": \"\",\n        \"description\": \"\"\n      }\n    },\n    {\n      \"column\": \"Ticket Class\",\n      \"properties\": {\n        \"dtype\": \"category\",\n        \"num_unique_values\": 2,\n        \"samples\": [\n          \"First Class\",\n          \"Standard\"\n        ],\n        \"semantic_type\": \"\",\n        \"description\": \"\"\n      }\n    },\n    {\n      \"column\": \"Ticket Type\",\n      \"properties\": {\n        \"dtype\": \"category\",\n        \"num_unique_values\": 3,\n        \"samples\": [\n          \"Advance\",\n          \"Off-Peak\"\n        ],\n        \"semantic_type\": \"\",\n        \"description\": \"\"\n      }\n    },\n    {\n      \"column\": \"Price\",\n      \"properties\": {\n        \"dtype\": \"number\",\n        \"std\": 29,\n        \"min\": 1,\n        \"max\": 267,\n        \"num_unique_values\": 125,\n        \"samples\": [\n          33,\n          22\n        ],\n        \"semantic_type\": \"\",\n        \"description\": \"\"\n      }\n    },\n    {\n      \"column\": \"Departure Station\",\n      \"properties\": {\n        \"dtype\": \"category\",\n        \"num_unique_values\": 12,\n        \"samples\": [\n          \"Edinburgh Waverley\",\n          \"Reading\"\n        ],\n        \"semantic_type\": \"\",\n        \"description\": \"\"\n      }\n    },\n    {\n      \"column\": \"Arrival Destination\",\n      \"properties\": {\n        \"dtype\": \"category\",\n        \"num_unique_values\": 32,\n        \"samples\": [\n          \"Wakefield\",\n          \"Leeds\"\n        ],\n        \"semantic_type\": \"\",\n        \"description\": \"\"\n      }\n    },\n    {\n      \"column\": \"Date of Journey\",\n      \"properties\": {\n        \"dtype\": \"object\",\n        \"num_unique_values\": 121,\n        \"samples\": [\n          \"2024-01-29\",\n          \"2024-02-18\"\n        ],\n        \"semantic_type\": \"\",\n        \"description\": \"\"\n      }\n    },\n    {\n      \"column\": \"Departure Time\",\n      \"properties\": {\n        \"dtype\": \"object\",\n        \"num_unique_values\": 96,\n        \"samples\": [\n          \"10:15:00\",\n          \"04:45:00\"\n        ],\n        \"semantic_type\": \"\",\n        \"description\": \"\"\n      }\n    },\n    {\n      \"column\": \"Arrival Time\",\n      \"properties\": {\n        \"dtype\": \"object\",\n        \"num_unique_values\": 203,\n        \"samples\": [\n          \"08:45:00\",\n          \"02:30:00\"\n        ],\n        \"semantic_type\": \"\",\n        \"description\": \"\"\n      }\n    },\n    {\n      \"column\": \"Actual Arrival Time\",\n      \"properties\": {\n        \"dtype\": \"object\",\n        \"num_unique_values\": 623,\n        \"samples\": [\n          \"12:32:00\",\n          \"11:43:00\"\n        ],\n        \"semantic_type\": \"\",\n        \"description\": \"\"\n      }\n    },\n    {\n      \"column\": \"Journey Status\",\n      \"properties\": {\n        \"dtype\": \"category\",\n        \"num_unique_values\": 3,\n        \"samples\": [\n          \"On Time\",\n          \"Delayed\"\n        ],\n        \"semantic_type\": \"\",\n        \"description\": \"\"\n      }\n    },\n    {\n      \"column\": \"Reason for Delay\",\n      \"properties\": {\n        \"dtype\": \"category\",\n        \"num_unique_values\": 8,\n        \"samples\": [\n          \"Technical Issue\",\n          \"Staff Shortage\"\n        ],\n        \"semantic_type\": \"\",\n        \"description\": \"\"\n      }\n    },\n    {\n      \"column\": \"Refund Request\",\n      \"properties\": {\n        \"dtype\": \"category\",\n        \"num_unique_values\": 2,\n        \"samples\": [\n          \"Yes\",\n          \"No\"\n        ],\n        \"semantic_type\": \"\",\n        \"description\": \"\"\n      }\n    }\n  ]\n}"
            }
          },
          "metadata": {},
          "execution_count": 62
        }
      ],
      "source": [
        "train_data.head()"
      ]
    },
    {
      "cell_type": "code",
      "execution_count": null,
      "metadata": {
        "colab": {
          "base_uri": "https://localhost:8080/"
        },
        "id": "xBYpE65PPOQI",
        "outputId": "8a56d228-2233-4b10-f2d1-bb4e8c0cdf78"
      },
      "outputs": [
        {
          "output_type": "stream",
          "name": "stdout",
          "text": [
            "<class 'pandas.core.frame.DataFrame'>\n",
            "RangeIndex: 31653 entries, 0 to 31652\n",
            "Data columns (total 18 columns):\n",
            " #   Column               Non-Null Count  Dtype \n",
            "---  ------               --------------  ----- \n",
            " 0   Transaction ID       31653 non-null  object\n",
            " 1   Date of Purchase     31653 non-null  object\n",
            " 2   Time of Purchase     31653 non-null  object\n",
            " 3   Purchase Type        31653 non-null  object\n",
            " 4   Payment Method       31653 non-null  object\n",
            " 5   Railcard             10735 non-null  object\n",
            " 6   Ticket Class         31653 non-null  object\n",
            " 7   Ticket Type          31653 non-null  object\n",
            " 8   Price                31653 non-null  int64 \n",
            " 9   Departure Station    31653 non-null  object\n",
            " 10  Arrival Destination  31653 non-null  object\n",
            " 11  Date of Journey      31653 non-null  object\n",
            " 12  Departure Time       31653 non-null  object\n",
            " 13  Arrival Time         31653 non-null  object\n",
            " 14  Actual Arrival Time  29773 non-null  object\n",
            " 15  Journey Status       31653 non-null  object\n",
            " 16  Reason for Delay     4172 non-null   object\n",
            " 17  Refund Request       31653 non-null  object\n",
            "dtypes: int64(1), object(17)\n",
            "memory usage: 4.3+ MB\n"
          ]
        }
      ],
      "source": [
        "train_data.info()"
      ]
    },
    {
      "cell_type": "markdown",
      "source": [
        "## **1- Identifying NaNs:**"
      ],
      "metadata": {
        "id": "fckB5XD6H0QB"
      }
    },
    {
      "cell_type": "code",
      "source": [
        "train_data.isnull().sum()"
      ],
      "metadata": {
        "colab": {
          "base_uri": "https://localhost:8080/",
          "height": 648
        },
        "id": "MRrIdXIzIBdJ",
        "outputId": "9665ad34-f8ff-4ec6-cf35-1a341e07b19c"
      },
      "execution_count": null,
      "outputs": [
        {
          "output_type": "execute_result",
          "data": {
            "text/plain": [
              "Transaction ID             0\n",
              "Date of Purchase           0\n",
              "Time of Purchase           0\n",
              "Purchase Type              0\n",
              "Payment Method             0\n",
              "Railcard               20918\n",
              "Ticket Class               0\n",
              "Ticket Type                0\n",
              "Price                      0\n",
              "Departure Station          0\n",
              "Arrival Destination        0\n",
              "Date of Journey            0\n",
              "Departure Time             0\n",
              "Arrival Time               0\n",
              "Actual Arrival Time     1880\n",
              "Journey Status             0\n",
              "Reason for Delay       27481\n",
              "Refund Request             0\n",
              "dtype: int64"
            ],
            "text/html": [
              "<div>\n",
              "<style scoped>\n",
              "    .dataframe tbody tr th:only-of-type {\n",
              "        vertical-align: middle;\n",
              "    }\n",
              "\n",
              "    .dataframe tbody tr th {\n",
              "        vertical-align: top;\n",
              "    }\n",
              "\n",
              "    .dataframe thead th {\n",
              "        text-align: right;\n",
              "    }\n",
              "</style>\n",
              "<table border=\"1\" class=\"dataframe\">\n",
              "  <thead>\n",
              "    <tr style=\"text-align: right;\">\n",
              "      <th></th>\n",
              "      <th>0</th>\n",
              "    </tr>\n",
              "  </thead>\n",
              "  <tbody>\n",
              "    <tr>\n",
              "      <th>Transaction ID</th>\n",
              "      <td>0</td>\n",
              "    </tr>\n",
              "    <tr>\n",
              "      <th>Date of Purchase</th>\n",
              "      <td>0</td>\n",
              "    </tr>\n",
              "    <tr>\n",
              "      <th>Time of Purchase</th>\n",
              "      <td>0</td>\n",
              "    </tr>\n",
              "    <tr>\n",
              "      <th>Purchase Type</th>\n",
              "      <td>0</td>\n",
              "    </tr>\n",
              "    <tr>\n",
              "      <th>Payment Method</th>\n",
              "      <td>0</td>\n",
              "    </tr>\n",
              "    <tr>\n",
              "      <th>Railcard</th>\n",
              "      <td>20918</td>\n",
              "    </tr>\n",
              "    <tr>\n",
              "      <th>Ticket Class</th>\n",
              "      <td>0</td>\n",
              "    </tr>\n",
              "    <tr>\n",
              "      <th>Ticket Type</th>\n",
              "      <td>0</td>\n",
              "    </tr>\n",
              "    <tr>\n",
              "      <th>Price</th>\n",
              "      <td>0</td>\n",
              "    </tr>\n",
              "    <tr>\n",
              "      <th>Departure Station</th>\n",
              "      <td>0</td>\n",
              "    </tr>\n",
              "    <tr>\n",
              "      <th>Arrival Destination</th>\n",
              "      <td>0</td>\n",
              "    </tr>\n",
              "    <tr>\n",
              "      <th>Date of Journey</th>\n",
              "      <td>0</td>\n",
              "    </tr>\n",
              "    <tr>\n",
              "      <th>Departure Time</th>\n",
              "      <td>0</td>\n",
              "    </tr>\n",
              "    <tr>\n",
              "      <th>Arrival Time</th>\n",
              "      <td>0</td>\n",
              "    </tr>\n",
              "    <tr>\n",
              "      <th>Actual Arrival Time</th>\n",
              "      <td>1880</td>\n",
              "    </tr>\n",
              "    <tr>\n",
              "      <th>Journey Status</th>\n",
              "      <td>0</td>\n",
              "    </tr>\n",
              "    <tr>\n",
              "      <th>Reason for Delay</th>\n",
              "      <td>27481</td>\n",
              "    </tr>\n",
              "    <tr>\n",
              "      <th>Refund Request</th>\n",
              "      <td>0</td>\n",
              "    </tr>\n",
              "  </tbody>\n",
              "</table>\n",
              "</div><br><label><b>dtype:</b> int64</label>"
            ]
          },
          "metadata": {},
          "execution_count": 64
        }
      ]
    },
    {
      "cell_type": "markdown",
      "metadata": {
        "id": "1vTKgATKz7Pe"
      },
      "source": [
        "\n",
        "\n",
        "As you can see, we have **three** columns with NaN values, specifically the 'Railcard' , 'Reason For delay' and  'Actual Arrival Time' columns. Two of which have logical reasons behind their missing values.\n",
        "\n",
        "First, the Railcard columnis left empty in the case a passanger is not a National Railcard Holder, therefore it makes sense to be have missing values.\n",
        "\n",
        "Second, the Reason For Delay column is left empty in the case of no delays, which is logically reasonable.\n",
        "\n",
        "Finally, the Actual Arrival Time column is left without an excuse for having empty spaces, this will be addressed further in the cleaning section.\n",
        "\n",
        "\n",
        "---"
      ]
    },
    {
      "cell_type": "markdown",
      "source": [
        "## **2-Duplicate Rows:**\n"
      ],
      "metadata": {
        "id": "yvLGitjYIsCC"
      }
    },
    {
      "cell_type": "markdown",
      "source": [
        "Now, we will check for duplicate rows of data."
      ],
      "metadata": {
        "id": "hCQceLmZIwAi"
      }
    },
    {
      "cell_type": "code",
      "execution_count": null,
      "metadata": {
        "colab": {
          "base_uri": "https://localhost:8080/"
        },
        "id": "U0t_V_to1V6X",
        "outputId": "cc662214-ceb3-4a55-ad41-eb224546a3f5"
      },
      "outputs": [
        {
          "output_type": "execute_result",
          "data": {
            "text/plain": [
              "0"
            ]
          },
          "metadata": {},
          "execution_count": 65
        }
      ],
      "source": [
        "train_data.duplicated().sum()"
      ]
    },
    {
      "cell_type": "markdown",
      "metadata": {
        "id": "oFPCqnAT1nQd"
      },
      "source": [
        "No duplicated rows of data is a sign of a complete, safe datset, but we must keep making sure of that before analysing.\n",
        "\n",
        "---\n"
      ]
    },
    {
      "cell_type": "markdown",
      "source": [
        "## **3-Checking for Mixed Data Types:**\n"
      ],
      "metadata": {
        "id": "7CMOUisni_oS"
      }
    },
    {
      "cell_type": "markdown",
      "source": [
        "Our next step is checking if the data types match."
      ],
      "metadata": {
        "id": "av0y0N3sjClo"
      }
    },
    {
      "cell_type": "code",
      "execution_count": null,
      "metadata": {
        "colab": {
          "base_uri": "https://localhost:8080/"
        },
        "id": "XQY58SKD15DG",
        "outputId": "a7271d54-8837-4149-cb6e-5409b460dfe2"
      },
      "outputs": [
        {
          "output_type": "stream",
          "name": "stdout",
          "text": [
            "<class 'pandas.core.frame.DataFrame'>\n",
            "RangeIndex: 31653 entries, 0 to 31652\n",
            "Data columns (total 18 columns):\n",
            " #   Column               Non-Null Count  Dtype \n",
            "---  ------               --------------  ----- \n",
            " 0   Transaction ID       31653 non-null  object\n",
            " 1   Date of Purchase     31653 non-null  object\n",
            " 2   Time of Purchase     31653 non-null  object\n",
            " 3   Purchase Type        31653 non-null  object\n",
            " 4   Payment Method       31653 non-null  object\n",
            " 5   Railcard             10735 non-null  object\n",
            " 6   Ticket Class         31653 non-null  object\n",
            " 7   Ticket Type          31653 non-null  object\n",
            " 8   Price                31653 non-null  int64 \n",
            " 9   Departure Station    31653 non-null  object\n",
            " 10  Arrival Destination  31653 non-null  object\n",
            " 11  Date of Journey      31653 non-null  object\n",
            " 12  Departure Time       31653 non-null  object\n",
            " 13  Arrival Time         31653 non-null  object\n",
            " 14  Actual Arrival Time  29773 non-null  object\n",
            " 15  Journey Status       31653 non-null  object\n",
            " 16  Reason for Delay     4172 non-null   object\n",
            " 17  Refund Request       31653 non-null  object\n",
            "dtypes: int64(1), object(17)\n",
            "memory usage: 4.3+ MB\n"
          ]
        }
      ],
      "source": [
        "train_data.info()"
      ]
    },
    {
      "cell_type": "code",
      "execution_count": null,
      "metadata": {
        "colab": {
          "base_uri": "https://localhost:8080/"
        },
        "id": "cBH4jPHT17sF",
        "outputId": "7a6c1192-7e74-4b28-b065-de068d928299"
      },
      "outputs": [
        {
          "output_type": "execute_result",
          "data": {
            "text/plain": [
              "            Transaction ID Date of Purchase Time of Purchase Purchase Type  \\\n",
              "0  da8a6ba8-b3dc-4677-b176       2023-12-08         12:41:11        Online   \n",
              "1  b0cdd1b0-f214-4197-be53       2023-12-16         11:23:01       Station   \n",
              "2  f3ba7a96-f713-40d9-9629       2023-12-19         19:51:27        Online   \n",
              "3  b2471f11-4fe7-4c87-8ab4       2023-12-20         23:00:36       Station   \n",
              "4  2be00b45-0762-485e-a7a3       2023-12-27         18:22:56        Online   \n",
              "\n",
              "  Payment Method Railcard Ticket Class Ticket Type  Price  \\\n",
              "0    Contactless    Adult     Standard     Advance     43   \n",
              "1    Credit Card    Adult     Standard     Advance     23   \n",
              "2    Credit Card      NaN     Standard     Advance      3   \n",
              "3    Credit Card      NaN     Standard     Advance     13   \n",
              "4    Contactless      NaN     Standard     Advance     76   \n",
              "\n",
              "       Departure Station    Arrival Destination Date of Journey  \\\n",
              "0      London Paddington  Liverpool Lime Street      2024-01-01   \n",
              "1     London Kings Cross                   York      2024-01-01   \n",
              "2  Liverpool Lime Street  Manchester Piccadilly      2024-01-02   \n",
              "3      London Paddington                Reading      2024-01-01   \n",
              "4  Liverpool Lime Street          London Euston      2024-01-01   \n",
              "\n",
              "  Departure Time Arrival Time Actual Arrival Time Journey Status  \\\n",
              "0       11:00:00     13:30:00            13:30:00        On Time   \n",
              "1       09:45:00     11:35:00            11:40:00        Delayed   \n",
              "2       18:15:00     18:45:00            18:45:00        On Time   \n",
              "3       21:30:00     22:30:00            22:30:00        On Time   \n",
              "4       16:45:00     19:00:00            19:00:00        On Time   \n",
              "\n",
              "  Reason for Delay Refund Request  \n",
              "0              NaN             No  \n",
              "1   Signal Failure             No  \n",
              "2              NaN             No  \n",
              "3              NaN             No  \n",
              "4              NaN             No  "
            ],
            "text/html": [
              "\n",
              "  <div id=\"df-f1c3f804-812f-4803-adba-25be53abb121\" class=\"colab-df-container\">\n",
              "    <div>\n",
              "<style scoped>\n",
              "    .dataframe tbody tr th:only-of-type {\n",
              "        vertical-align: middle;\n",
              "    }\n",
              "\n",
              "    .dataframe tbody tr th {\n",
              "        vertical-align: top;\n",
              "    }\n",
              "\n",
              "    .dataframe thead th {\n",
              "        text-align: right;\n",
              "    }\n",
              "</style>\n",
              "<table border=\"1\" class=\"dataframe\">\n",
              "  <thead>\n",
              "    <tr style=\"text-align: right;\">\n",
              "      <th></th>\n",
              "      <th>Transaction ID</th>\n",
              "      <th>Date of Purchase</th>\n",
              "      <th>Time of Purchase</th>\n",
              "      <th>Purchase Type</th>\n",
              "      <th>Payment Method</th>\n",
              "      <th>Railcard</th>\n",
              "      <th>Ticket Class</th>\n",
              "      <th>Ticket Type</th>\n",
              "      <th>Price</th>\n",
              "      <th>Departure Station</th>\n",
              "      <th>Arrival Destination</th>\n",
              "      <th>Date of Journey</th>\n",
              "      <th>Departure Time</th>\n",
              "      <th>Arrival Time</th>\n",
              "      <th>Actual Arrival Time</th>\n",
              "      <th>Journey Status</th>\n",
              "      <th>Reason for Delay</th>\n",
              "      <th>Refund Request</th>\n",
              "    </tr>\n",
              "  </thead>\n",
              "  <tbody>\n",
              "    <tr>\n",
              "      <th>0</th>\n",
              "      <td>da8a6ba8-b3dc-4677-b176</td>\n",
              "      <td>2023-12-08</td>\n",
              "      <td>12:41:11</td>\n",
              "      <td>Online</td>\n",
              "      <td>Contactless</td>\n",
              "      <td>Adult</td>\n",
              "      <td>Standard</td>\n",
              "      <td>Advance</td>\n",
              "      <td>43</td>\n",
              "      <td>London Paddington</td>\n",
              "      <td>Liverpool Lime Street</td>\n",
              "      <td>2024-01-01</td>\n",
              "      <td>11:00:00</td>\n",
              "      <td>13:30:00</td>\n",
              "      <td>13:30:00</td>\n",
              "      <td>On Time</td>\n",
              "      <td>NaN</td>\n",
              "      <td>No</td>\n",
              "    </tr>\n",
              "    <tr>\n",
              "      <th>1</th>\n",
              "      <td>b0cdd1b0-f214-4197-be53</td>\n",
              "      <td>2023-12-16</td>\n",
              "      <td>11:23:01</td>\n",
              "      <td>Station</td>\n",
              "      <td>Credit Card</td>\n",
              "      <td>Adult</td>\n",
              "      <td>Standard</td>\n",
              "      <td>Advance</td>\n",
              "      <td>23</td>\n",
              "      <td>London Kings Cross</td>\n",
              "      <td>York</td>\n",
              "      <td>2024-01-01</td>\n",
              "      <td>09:45:00</td>\n",
              "      <td>11:35:00</td>\n",
              "      <td>11:40:00</td>\n",
              "      <td>Delayed</td>\n",
              "      <td>Signal Failure</td>\n",
              "      <td>No</td>\n",
              "    </tr>\n",
              "    <tr>\n",
              "      <th>2</th>\n",
              "      <td>f3ba7a96-f713-40d9-9629</td>\n",
              "      <td>2023-12-19</td>\n",
              "      <td>19:51:27</td>\n",
              "      <td>Online</td>\n",
              "      <td>Credit Card</td>\n",
              "      <td>NaN</td>\n",
              "      <td>Standard</td>\n",
              "      <td>Advance</td>\n",
              "      <td>3</td>\n",
              "      <td>Liverpool Lime Street</td>\n",
              "      <td>Manchester Piccadilly</td>\n",
              "      <td>2024-01-02</td>\n",
              "      <td>18:15:00</td>\n",
              "      <td>18:45:00</td>\n",
              "      <td>18:45:00</td>\n",
              "      <td>On Time</td>\n",
              "      <td>NaN</td>\n",
              "      <td>No</td>\n",
              "    </tr>\n",
              "    <tr>\n",
              "      <th>3</th>\n",
              "      <td>b2471f11-4fe7-4c87-8ab4</td>\n",
              "      <td>2023-12-20</td>\n",
              "      <td>23:00:36</td>\n",
              "      <td>Station</td>\n",
              "      <td>Credit Card</td>\n",
              "      <td>NaN</td>\n",
              "      <td>Standard</td>\n",
              "      <td>Advance</td>\n",
              "      <td>13</td>\n",
              "      <td>London Paddington</td>\n",
              "      <td>Reading</td>\n",
              "      <td>2024-01-01</td>\n",
              "      <td>21:30:00</td>\n",
              "      <td>22:30:00</td>\n",
              "      <td>22:30:00</td>\n",
              "      <td>On Time</td>\n",
              "      <td>NaN</td>\n",
              "      <td>No</td>\n",
              "    </tr>\n",
              "    <tr>\n",
              "      <th>4</th>\n",
              "      <td>2be00b45-0762-485e-a7a3</td>\n",
              "      <td>2023-12-27</td>\n",
              "      <td>18:22:56</td>\n",
              "      <td>Online</td>\n",
              "      <td>Contactless</td>\n",
              "      <td>NaN</td>\n",
              "      <td>Standard</td>\n",
              "      <td>Advance</td>\n",
              "      <td>76</td>\n",
              "      <td>Liverpool Lime Street</td>\n",
              "      <td>London Euston</td>\n",
              "      <td>2024-01-01</td>\n",
              "      <td>16:45:00</td>\n",
              "      <td>19:00:00</td>\n",
              "      <td>19:00:00</td>\n",
              "      <td>On Time</td>\n",
              "      <td>NaN</td>\n",
              "      <td>No</td>\n",
              "    </tr>\n",
              "  </tbody>\n",
              "</table>\n",
              "</div>\n",
              "    <div class=\"colab-df-buttons\">\n",
              "\n",
              "  <div class=\"colab-df-container\">\n",
              "    <button class=\"colab-df-convert\" onclick=\"convertToInteractive('df-f1c3f804-812f-4803-adba-25be53abb121')\"\n",
              "            title=\"Convert this dataframe to an interactive table.\"\n",
              "            style=\"display:none;\">\n",
              "\n",
              "  <svg xmlns=\"http://www.w3.org/2000/svg\" height=\"24px\" viewBox=\"0 -960 960 960\">\n",
              "    <path d=\"M120-120v-720h720v720H120Zm60-500h600v-160H180v160Zm220 220h160v-160H400v160Zm0 220h160v-160H400v160ZM180-400h160v-160H180v160Zm440 0h160v-160H620v160ZM180-180h160v-160H180v160Zm440 0h160v-160H620v160Z\"/>\n",
              "  </svg>\n",
              "    </button>\n",
              "\n",
              "  <style>\n",
              "    .colab-df-container {\n",
              "      display:flex;\n",
              "      gap: 12px;\n",
              "    }\n",
              "\n",
              "    .colab-df-convert {\n",
              "      background-color: #E8F0FE;\n",
              "      border: none;\n",
              "      border-radius: 50%;\n",
              "      cursor: pointer;\n",
              "      display: none;\n",
              "      fill: #1967D2;\n",
              "      height: 32px;\n",
              "      padding: 0 0 0 0;\n",
              "      width: 32px;\n",
              "    }\n",
              "\n",
              "    .colab-df-convert:hover {\n",
              "      background-color: #E2EBFA;\n",
              "      box-shadow: 0px 1px 2px rgba(60, 64, 67, 0.3), 0px 1px 3px 1px rgba(60, 64, 67, 0.15);\n",
              "      fill: #174EA6;\n",
              "    }\n",
              "\n",
              "    .colab-df-buttons div {\n",
              "      margin-bottom: 4px;\n",
              "    }\n",
              "\n",
              "    [theme=dark] .colab-df-convert {\n",
              "      background-color: #3B4455;\n",
              "      fill: #D2E3FC;\n",
              "    }\n",
              "\n",
              "    [theme=dark] .colab-df-convert:hover {\n",
              "      background-color: #434B5C;\n",
              "      box-shadow: 0px 1px 3px 1px rgba(0, 0, 0, 0.15);\n",
              "      filter: drop-shadow(0px 1px 2px rgba(0, 0, 0, 0.3));\n",
              "      fill: #FFFFFF;\n",
              "    }\n",
              "  </style>\n",
              "\n",
              "    <script>\n",
              "      const buttonEl =\n",
              "        document.querySelector('#df-f1c3f804-812f-4803-adba-25be53abb121 button.colab-df-convert');\n",
              "      buttonEl.style.display =\n",
              "        google.colab.kernel.accessAllowed ? 'block' : 'none';\n",
              "\n",
              "      async function convertToInteractive(key) {\n",
              "        const element = document.querySelector('#df-f1c3f804-812f-4803-adba-25be53abb121');\n",
              "        const dataTable =\n",
              "          await google.colab.kernel.invokeFunction('convertToInteractive',\n",
              "                                                    [key], {});\n",
              "        if (!dataTable) return;\n",
              "\n",
              "        const docLinkHtml = 'Like what you see? Visit the ' +\n",
              "          '<a target=\"_blank\" href=https://colab.research.google.com/notebooks/data_table.ipynb>data table notebook</a>'\n",
              "          + ' to learn more about interactive tables.';\n",
              "        element.innerHTML = '';\n",
              "        dataTable['output_type'] = 'display_data';\n",
              "        await google.colab.output.renderOutput(dataTable, element);\n",
              "        const docLink = document.createElement('div');\n",
              "        docLink.innerHTML = docLinkHtml;\n",
              "        element.appendChild(docLink);\n",
              "      }\n",
              "    </script>\n",
              "  </div>\n",
              "\n",
              "\n",
              "<div id=\"df-cd4037d1-a8db-47e0-aa1e-44b94f1ce920\">\n",
              "  <button class=\"colab-df-quickchart\" onclick=\"quickchart('df-cd4037d1-a8db-47e0-aa1e-44b94f1ce920')\"\n",
              "            title=\"Suggest charts\"\n",
              "            style=\"display:none;\">\n",
              "\n",
              "<svg xmlns=\"http://www.w3.org/2000/svg\" height=\"24px\"viewBox=\"0 0 24 24\"\n",
              "     width=\"24px\">\n",
              "    <g>\n",
              "        <path d=\"M19 3H5c-1.1 0-2 .9-2 2v14c0 1.1.9 2 2 2h14c1.1 0 2-.9 2-2V5c0-1.1-.9-2-2-2zM9 17H7v-7h2v7zm4 0h-2V7h2v10zm4 0h-2v-4h2v4z\"/>\n",
              "    </g>\n",
              "</svg>\n",
              "  </button>\n",
              "\n",
              "<style>\n",
              "  .colab-df-quickchart {\n",
              "      --bg-color: #E8F0FE;\n",
              "      --fill-color: #1967D2;\n",
              "      --hover-bg-color: #E2EBFA;\n",
              "      --hover-fill-color: #174EA6;\n",
              "      --disabled-fill-color: #AAA;\n",
              "      --disabled-bg-color: #DDD;\n",
              "  }\n",
              "\n",
              "  [theme=dark] .colab-df-quickchart {\n",
              "      --bg-color: #3B4455;\n",
              "      --fill-color: #D2E3FC;\n",
              "      --hover-bg-color: #434B5C;\n",
              "      --hover-fill-color: #FFFFFF;\n",
              "      --disabled-bg-color: #3B4455;\n",
              "      --disabled-fill-color: #666;\n",
              "  }\n",
              "\n",
              "  .colab-df-quickchart {\n",
              "    background-color: var(--bg-color);\n",
              "    border: none;\n",
              "    border-radius: 50%;\n",
              "    cursor: pointer;\n",
              "    display: none;\n",
              "    fill: var(--fill-color);\n",
              "    height: 32px;\n",
              "    padding: 0;\n",
              "    width: 32px;\n",
              "  }\n",
              "\n",
              "  .colab-df-quickchart:hover {\n",
              "    background-color: var(--hover-bg-color);\n",
              "    box-shadow: 0 1px 2px rgba(60, 64, 67, 0.3), 0 1px 3px 1px rgba(60, 64, 67, 0.15);\n",
              "    fill: var(--button-hover-fill-color);\n",
              "  }\n",
              "\n",
              "  .colab-df-quickchart-complete:disabled,\n",
              "  .colab-df-quickchart-complete:disabled:hover {\n",
              "    background-color: var(--disabled-bg-color);\n",
              "    fill: var(--disabled-fill-color);\n",
              "    box-shadow: none;\n",
              "  }\n",
              "\n",
              "  .colab-df-spinner {\n",
              "    border: 2px solid var(--fill-color);\n",
              "    border-color: transparent;\n",
              "    border-bottom-color: var(--fill-color);\n",
              "    animation:\n",
              "      spin 1s steps(1) infinite;\n",
              "  }\n",
              "\n",
              "  @keyframes spin {\n",
              "    0% {\n",
              "      border-color: transparent;\n",
              "      border-bottom-color: var(--fill-color);\n",
              "      border-left-color: var(--fill-color);\n",
              "    }\n",
              "    20% {\n",
              "      border-color: transparent;\n",
              "      border-left-color: var(--fill-color);\n",
              "      border-top-color: var(--fill-color);\n",
              "    }\n",
              "    30% {\n",
              "      border-color: transparent;\n",
              "      border-left-color: var(--fill-color);\n",
              "      border-top-color: var(--fill-color);\n",
              "      border-right-color: var(--fill-color);\n",
              "    }\n",
              "    40% {\n",
              "      border-color: transparent;\n",
              "      border-right-color: var(--fill-color);\n",
              "      border-top-color: var(--fill-color);\n",
              "    }\n",
              "    60% {\n",
              "      border-color: transparent;\n",
              "      border-right-color: var(--fill-color);\n",
              "    }\n",
              "    80% {\n",
              "      border-color: transparent;\n",
              "      border-right-color: var(--fill-color);\n",
              "      border-bottom-color: var(--fill-color);\n",
              "    }\n",
              "    90% {\n",
              "      border-color: transparent;\n",
              "      border-bottom-color: var(--fill-color);\n",
              "    }\n",
              "  }\n",
              "</style>\n",
              "\n",
              "  <script>\n",
              "    async function quickchart(key) {\n",
              "      const quickchartButtonEl =\n",
              "        document.querySelector('#' + key + ' button');\n",
              "      quickchartButtonEl.disabled = true;  // To prevent multiple clicks.\n",
              "      quickchartButtonEl.classList.add('colab-df-spinner');\n",
              "      try {\n",
              "        const charts = await google.colab.kernel.invokeFunction(\n",
              "            'suggestCharts', [key], {});\n",
              "      } catch (error) {\n",
              "        console.error('Error during call to suggestCharts:', error);\n",
              "      }\n",
              "      quickchartButtonEl.classList.remove('colab-df-spinner');\n",
              "      quickchartButtonEl.classList.add('colab-df-quickchart-complete');\n",
              "    }\n",
              "    (() => {\n",
              "      let quickchartButtonEl =\n",
              "        document.querySelector('#df-cd4037d1-a8db-47e0-aa1e-44b94f1ce920 button');\n",
              "      quickchartButtonEl.style.display =\n",
              "        google.colab.kernel.accessAllowed ? 'block' : 'none';\n",
              "    })();\n",
              "  </script>\n",
              "</div>\n",
              "\n",
              "    </div>\n",
              "  </div>\n"
            ],
            "application/vnd.google.colaboratory.intrinsic+json": {
              "type": "dataframe",
              "variable_name": "train_data",
              "summary": "{\n  \"name\": \"train_data\",\n  \"rows\": 31653,\n  \"fields\": [\n    {\n      \"column\": \"Transaction ID\",\n      \"properties\": {\n        \"dtype\": \"string\",\n        \"num_unique_values\": 31653,\n        \"samples\": [\n          \"5cba8154-329e-4670-805b\",\n          \"cc742a5e-bce6-440e-96f1\",\n          \"2c1cd8e6-031d-498a-9acd\"\n        ],\n        \"semantic_type\": \"\",\n        \"description\": \"\"\n      }\n    },\n    {\n      \"column\": \"Date of Purchase\",\n      \"properties\": {\n        \"dtype\": \"object\",\n        \"num_unique_values\": 128,\n        \"samples\": [\n          \"2024-02-18\",\n          \"2024-02-03\",\n          \"2024-01-13\"\n        ],\n        \"semantic_type\": \"\",\n        \"description\": \"\"\n      }\n    },\n    {\n      \"column\": \"Time of Purchase\",\n      \"properties\": {\n        \"dtype\": \"object\",\n        \"num_unique_values\": 24351,\n        \"samples\": [\n          \"09:39:16\",\n          \"07:46:14\",\n          \"12:46:48\"\n        ],\n        \"semantic_type\": \"\",\n        \"description\": \"\"\n      }\n    },\n    {\n      \"column\": \"Purchase Type\",\n      \"properties\": {\n        \"dtype\": \"category\",\n        \"num_unique_values\": 2,\n        \"samples\": [\n          \"Station\",\n          \"Online\"\n        ],\n        \"semantic_type\": \"\",\n        \"description\": \"\"\n      }\n    },\n    {\n      \"column\": \"Payment Method\",\n      \"properties\": {\n        \"dtype\": \"category\",\n        \"num_unique_values\": 3,\n        \"samples\": [\n          \"Contactless\",\n          \"Credit Card\"\n        ],\n        \"semantic_type\": \"\",\n        \"description\": \"\"\n      }\n    },\n    {\n      \"column\": \"Railcard\",\n      \"properties\": {\n        \"dtype\": \"category\",\n        \"num_unique_values\": 3,\n        \"samples\": [\n          \"Adult\",\n          \"Disabled\"\n        ],\n        \"semantic_type\": \"\",\n        \"description\": \"\"\n      }\n    },\n    {\n      \"column\": \"Ticket Class\",\n      \"properties\": {\n        \"dtype\": \"category\",\n        \"num_unique_values\": 2,\n        \"samples\": [\n          \"First Class\",\n          \"Standard\"\n        ],\n        \"semantic_type\": \"\",\n        \"description\": \"\"\n      }\n    },\n    {\n      \"column\": \"Ticket Type\",\n      \"properties\": {\n        \"dtype\": \"category\",\n        \"num_unique_values\": 3,\n        \"samples\": [\n          \"Advance\",\n          \"Off-Peak\"\n        ],\n        \"semantic_type\": \"\",\n        \"description\": \"\"\n      }\n    },\n    {\n      \"column\": \"Price\",\n      \"properties\": {\n        \"dtype\": \"number\",\n        \"std\": 29,\n        \"min\": 1,\n        \"max\": 267,\n        \"num_unique_values\": 125,\n        \"samples\": [\n          33,\n          22\n        ],\n        \"semantic_type\": \"\",\n        \"description\": \"\"\n      }\n    },\n    {\n      \"column\": \"Departure Station\",\n      \"properties\": {\n        \"dtype\": \"category\",\n        \"num_unique_values\": 12,\n        \"samples\": [\n          \"Edinburgh Waverley\",\n          \"Reading\"\n        ],\n        \"semantic_type\": \"\",\n        \"description\": \"\"\n      }\n    },\n    {\n      \"column\": \"Arrival Destination\",\n      \"properties\": {\n        \"dtype\": \"category\",\n        \"num_unique_values\": 32,\n        \"samples\": [\n          \"Wakefield\",\n          \"Leeds\"\n        ],\n        \"semantic_type\": \"\",\n        \"description\": \"\"\n      }\n    },\n    {\n      \"column\": \"Date of Journey\",\n      \"properties\": {\n        \"dtype\": \"object\",\n        \"num_unique_values\": 121,\n        \"samples\": [\n          \"2024-01-29\",\n          \"2024-02-18\"\n        ],\n        \"semantic_type\": \"\",\n        \"description\": \"\"\n      }\n    },\n    {\n      \"column\": \"Departure Time\",\n      \"properties\": {\n        \"dtype\": \"object\",\n        \"num_unique_values\": 96,\n        \"samples\": [\n          \"10:15:00\",\n          \"04:45:00\"\n        ],\n        \"semantic_type\": \"\",\n        \"description\": \"\"\n      }\n    },\n    {\n      \"column\": \"Arrival Time\",\n      \"properties\": {\n        \"dtype\": \"object\",\n        \"num_unique_values\": 203,\n        \"samples\": [\n          \"08:45:00\",\n          \"02:30:00\"\n        ],\n        \"semantic_type\": \"\",\n        \"description\": \"\"\n      }\n    },\n    {\n      \"column\": \"Actual Arrival Time\",\n      \"properties\": {\n        \"dtype\": \"object\",\n        \"num_unique_values\": 623,\n        \"samples\": [\n          \"12:32:00\",\n          \"11:43:00\"\n        ],\n        \"semantic_type\": \"\",\n        \"description\": \"\"\n      }\n    },\n    {\n      \"column\": \"Journey Status\",\n      \"properties\": {\n        \"dtype\": \"category\",\n        \"num_unique_values\": 3,\n        \"samples\": [\n          \"On Time\",\n          \"Delayed\"\n        ],\n        \"semantic_type\": \"\",\n        \"description\": \"\"\n      }\n    },\n    {\n      \"column\": \"Reason for Delay\",\n      \"properties\": {\n        \"dtype\": \"category\",\n        \"num_unique_values\": 8,\n        \"samples\": [\n          \"Technical Issue\",\n          \"Staff Shortage\"\n        ],\n        \"semantic_type\": \"\",\n        \"description\": \"\"\n      }\n    },\n    {\n      \"column\": \"Refund Request\",\n      \"properties\": {\n        \"dtype\": \"category\",\n        \"num_unique_values\": 2,\n        \"samples\": [\n          \"Yes\",\n          \"No\"\n        ],\n        \"semantic_type\": \"\",\n        \"description\": \"\"\n      }\n    }\n  ]\n}"
            }
          },
          "metadata": {},
          "execution_count": 67
        }
      ],
      "source": [
        "train_data.head()"
      ]
    },
    {
      "cell_type": "markdown",
      "metadata": {
        "id": "v75lMn6W2cg1"
      },
      "source": [
        "As can be seen, multiple rows are in the wrong category. Specifically: Date of Purchase is classified as an object, not date-time, same deal with date of journey.\n",
        "\n",
        "---\n",
        "\n"
      ]
    },
    {
      "cell_type": "markdown",
      "source": [
        "## **4-Categorical Consistency:**"
      ],
      "metadata": {
        "id": "tHX7UM-XjglY"
      }
    },
    {
      "cell_type": "markdown",
      "source": [
        "Now its time to make sure that the categorical data here is consistent, (ie male isnt written as m sometimes, things like that)."
      ],
      "metadata": {
        "id": "YMsEDn4Cjm9Q"
      }
    },
    {
      "cell_type": "code",
      "execution_count": null,
      "metadata": {
        "colab": {
          "base_uri": "https://localhost:8080/"
        },
        "id": "rCapvngI3GX9",
        "outputId": "b7e0fb8d-172d-41cd-da9a-3aabd66b16c0"
      },
      "outputs": [
        {
          "output_type": "execute_result",
          "data": {
            "text/plain": [
              "array(['Adult', nan, 'Disabled', 'Senior'], dtype=object)"
            ]
          },
          "metadata": {},
          "execution_count": 68
        }
      ],
      "source": [
        "train_data['Railcard'].unique()"
      ]
    },
    {
      "cell_type": "code",
      "execution_count": null,
      "metadata": {
        "colab": {
          "base_uri": "https://localhost:8080/"
        },
        "id": "VEcAuyzr3OQM",
        "outputId": "2a603d7f-ee8e-4bcd-a6ab-b107cd3713b4"
      },
      "outputs": [
        {
          "output_type": "execute_result",
          "data": {
            "text/plain": [
              "array(['Advance', 'Off-Peak', 'Anytime'], dtype=object)"
            ]
          },
          "metadata": {},
          "execution_count": 69
        }
      ],
      "source": [
        "train_data['Ticket Type'].unique()"
      ]
    },
    {
      "cell_type": "code",
      "execution_count": null,
      "metadata": {
        "colab": {
          "base_uri": "https://localhost:8080/"
        },
        "id": "HElxUGaB3aYE",
        "outputId": "f3174230-a887-4d80-bbaf-8831c719cd1f"
      },
      "outputs": [
        {
          "output_type": "execute_result",
          "data": {
            "text/plain": [
              "array(['Contactless', 'Credit Card', 'Debit Card'], dtype=object)"
            ]
          },
          "metadata": {},
          "execution_count": 70
        }
      ],
      "source": [
        "train_data['Payment Method'].unique()"
      ]
    },
    {
      "cell_type": "code",
      "execution_count": null,
      "metadata": {
        "colab": {
          "base_uri": "https://localhost:8080/"
        },
        "id": "igteZLxZ3lCt",
        "outputId": "990165b3-3275-48ef-9e98-ebd38a723ced"
      },
      "outputs": [
        {
          "output_type": "execute_result",
          "data": {
            "text/plain": [
              "array(['Standard', 'First Class'], dtype=object)"
            ]
          },
          "metadata": {},
          "execution_count": 71
        }
      ],
      "source": [
        "train_data['Ticket Class'].unique()"
      ]
    },
    {
      "cell_type": "code",
      "execution_count": null,
      "metadata": {
        "colab": {
          "base_uri": "https://localhost:8080/"
        },
        "id": "8v2XlUaC3tfk",
        "outputId": "2f6bf9c2-42b2-4b4d-b35d-e8b616bb6ffa"
      },
      "outputs": [
        {
          "output_type": "execute_result",
          "data": {
            "text/plain": [
              "array(['No', 'Yes'], dtype=object)"
            ]
          },
          "metadata": {},
          "execution_count": 72
        }
      ],
      "source": [
        "train_data['Refund Request'].unique()"
      ]
    },
    {
      "cell_type": "code",
      "execution_count": null,
      "metadata": {
        "colab": {
          "base_uri": "https://localhost:8080/"
        },
        "id": "j0hsd6DB4VdW",
        "outputId": "44f6222b-9de7-445f-afd3-129acd868589"
      },
      "outputs": [
        {
          "output_type": "execute_result",
          "data": {
            "text/plain": [
              "array(['On Time', 'Delayed', 'Cancelled'], dtype=object)"
            ]
          },
          "metadata": {},
          "execution_count": 73
        }
      ],
      "source": [
        "train_data['Journey Status'].unique()"
      ]
    },
    {
      "cell_type": "markdown",
      "metadata": {
        "id": "_Q5tLxGh4Y-U"
      },
      "source": [
        "Rest assured, we can confirm that none of our catgeorical data is nuanced in its noting method. This means our data doesn't require any reassignment of any sort when it comes to categorical data."
      ]
    },
    {
      "cell_type": "markdown",
      "metadata": {
        "id": "dPwbYJ6W4x8W"
      },
      "source": [
        "\n",
        "\n",
        "---\n",
        "# 2-Data Cleaning\n",
        "Now that we've identified our problems, it's time to get to clear them of our dataset!\n",
        "\n",
        "---\n",
        "\n",
        "\n",
        "\n"
      ]
    },
    {
      "cell_type": "markdown",
      "metadata": {
        "id": "cfnoD2H12P_M"
      },
      "source": [
        "## **1- NaN values**:\n"
      ]
    },
    {
      "cell_type": "markdown",
      "source": [
        "First off, we can clear our NaN values from the Actual Arrival Time column by logically deducing that if there was no data written, that the journey was cancelled.\n",
        "\n",
        "This hypothesis is confirmed by the code below, where every row without an Actual Arrival Time value has been cancelled."
      ],
      "metadata": {
        "id": "-MaSNJ_FiaFh"
      }
    },
    {
      "cell_type": "code",
      "execution_count": null,
      "metadata": {
        "colab": {
          "base_uri": "https://localhost:8080/",
          "height": 825
        },
        "id": "XaBFzaKv5qd0",
        "outputId": "41f6c05f-64bc-4489-d049-bd94c3588d93"
      },
      "outputs": [
        {
          "output_type": "execute_result",
          "data": {
            "text/plain": [
              "                Transaction ID Date of Purchase Time of Purchase  \\\n",
              "39     69eaff73-ca3a-4831-905b       2024-01-01         03:52:29   \n",
              "75     a88f097f-bda3-4394-9c7d       2024-01-01         17:43:02   \n",
              "91     8a66ead7-e381-4311-b667       2024-01-02         00:54:33   \n",
              "111    d618c56f-3512-484d-9876       2024-01-02         03:33:32   \n",
              "148    eace2ada-5294-47e6-b4b8       2024-01-02         06:33:00   \n",
              "...                        ...              ...              ...   \n",
              "31639  465e3643-fb67-4deb-8ec9       2024-04-30         17:13:32   \n",
              "31641  2e96cde6-50c1-4311-8089       2024-04-30         17:16:04   \n",
              "31642  09e207d9-db49-4ec0-9c4f       2024-04-30         17:21:14   \n",
              "31644  1eacd955-f539-4c79-adb6       2024-04-30         17:26:33   \n",
              "31645  a0e238b7-1ad1-4bf7-bd6c       2024-04-30         18:11:50   \n",
              "\n",
              "      Purchase Type Payment Method  Railcard Ticket Class Ticket Type  Price  \\\n",
              "39           Online    Credit Card       NaN     Standard     Advance      7   \n",
              "75          Station     Debit Card  Disabled  First Class     Advance     35   \n",
              "91           Online    Credit Card       NaN     Standard    Off-Peak     10   \n",
              "111         Station    Credit Card       NaN     Standard    Off-Peak     12   \n",
              "148         Station    Credit Card       NaN  First Class     Anytime    235   \n",
              "...             ...            ...       ...          ...         ...    ...   \n",
              "31639       Station     Debit Card    Senior  First Class     Anytime    144   \n",
              "31641       Station    Credit Card     Adult     Standard     Anytime     95   \n",
              "31642        Online    Contactless       NaN     Standard     Anytime      5   \n",
              "31644        Online    Credit Card       NaN     Standard     Anytime     16   \n",
              "31645        Online    Credit Card    Senior  First Class     Anytime     13   \n",
              "\n",
              "           Departure Station    Arrival Destination Date of Journey  \\\n",
              "39             London Euston  Birmingham New Street      2024-01-02   \n",
              "75             London Euston  Birmingham New Street      2024-01-02   \n",
              "91             London Euston  Birmingham New Street      2024-01-02   \n",
              "111        London St Pancras  Birmingham New Street      2024-01-02   \n",
              "148    Liverpool Lime Street          London Euston      2024-01-02   \n",
              "...                      ...                    ...             ...   \n",
              "31639          London Euston  Manchester Piccadilly      2024-04-30   \n",
              "31641          London Euston  Manchester Piccadilly      2024-04-30   \n",
              "31642  Manchester Piccadilly  Liverpool Lime Street      2024-04-30   \n",
              "31644      London St Pancras  Birmingham New Street      2024-04-30   \n",
              "31645  Manchester Piccadilly  Liverpool Lime Street      2024-04-30   \n",
              "\n",
              "      Departure Time Arrival Time Actual Arrival Time Journey Status  \\\n",
              "39          02:15:00     03:35:00                 NaN      Cancelled   \n",
              "75          16:00:00     17:20:00                 NaN      Cancelled   \n",
              "91          02:15:00     03:35:00                 NaN      Cancelled   \n",
              "111         05:00:00     06:20:00                 NaN      Cancelled   \n",
              "148         08:00:00     10:15:00                 NaN      Cancelled   \n",
              "...              ...          ...                 ...            ...   \n",
              "31639       18:45:00     20:35:00                 NaN      Cancelled   \n",
              "31641       18:45:00     20:35:00                 NaN      Cancelled   \n",
              "31642       18:45:00     19:15:00                 NaN      Cancelled   \n",
              "31644       18:45:00     20:05:00                 NaN      Cancelled   \n",
              "31645       18:45:00     19:15:00                 NaN      Cancelled   \n",
              "\n",
              "         Reason for Delay Refund Request  \n",
              "39        Technical Issue             No  \n",
              "75        Technical Issue             No  \n",
              "91        Technical Issue            Yes  \n",
              "111              Staffing            Yes  \n",
              "148        Staff Shortage             No  \n",
              "...                   ...            ...  \n",
              "31639      Signal failure             No  \n",
              "31641      Signal failure            Yes  \n",
              "31642  Weather Conditions             No  \n",
              "31644      Signal Failure             No  \n",
              "31645  Weather Conditions             No  \n",
              "\n",
              "[1880 rows x 18 columns]"
            ],
            "text/html": [
              "\n",
              "  <div id=\"df-4377d3ff-7823-4c83-8d18-e84697e494f0\" class=\"colab-df-container\">\n",
              "    <div>\n",
              "<style scoped>\n",
              "    .dataframe tbody tr th:only-of-type {\n",
              "        vertical-align: middle;\n",
              "    }\n",
              "\n",
              "    .dataframe tbody tr th {\n",
              "        vertical-align: top;\n",
              "    }\n",
              "\n",
              "    .dataframe thead th {\n",
              "        text-align: right;\n",
              "    }\n",
              "</style>\n",
              "<table border=\"1\" class=\"dataframe\">\n",
              "  <thead>\n",
              "    <tr style=\"text-align: right;\">\n",
              "      <th></th>\n",
              "      <th>Transaction ID</th>\n",
              "      <th>Date of Purchase</th>\n",
              "      <th>Time of Purchase</th>\n",
              "      <th>Purchase Type</th>\n",
              "      <th>Payment Method</th>\n",
              "      <th>Railcard</th>\n",
              "      <th>Ticket Class</th>\n",
              "      <th>Ticket Type</th>\n",
              "      <th>Price</th>\n",
              "      <th>Departure Station</th>\n",
              "      <th>Arrival Destination</th>\n",
              "      <th>Date of Journey</th>\n",
              "      <th>Departure Time</th>\n",
              "      <th>Arrival Time</th>\n",
              "      <th>Actual Arrival Time</th>\n",
              "      <th>Journey Status</th>\n",
              "      <th>Reason for Delay</th>\n",
              "      <th>Refund Request</th>\n",
              "    </tr>\n",
              "  </thead>\n",
              "  <tbody>\n",
              "    <tr>\n",
              "      <th>39</th>\n",
              "      <td>69eaff73-ca3a-4831-905b</td>\n",
              "      <td>2024-01-01</td>\n",
              "      <td>03:52:29</td>\n",
              "      <td>Online</td>\n",
              "      <td>Credit Card</td>\n",
              "      <td>NaN</td>\n",
              "      <td>Standard</td>\n",
              "      <td>Advance</td>\n",
              "      <td>7</td>\n",
              "      <td>London Euston</td>\n",
              "      <td>Birmingham New Street</td>\n",
              "      <td>2024-01-02</td>\n",
              "      <td>02:15:00</td>\n",
              "      <td>03:35:00</td>\n",
              "      <td>NaN</td>\n",
              "      <td>Cancelled</td>\n",
              "      <td>Technical Issue</td>\n",
              "      <td>No</td>\n",
              "    </tr>\n",
              "    <tr>\n",
              "      <th>75</th>\n",
              "      <td>a88f097f-bda3-4394-9c7d</td>\n",
              "      <td>2024-01-01</td>\n",
              "      <td>17:43:02</td>\n",
              "      <td>Station</td>\n",
              "      <td>Debit Card</td>\n",
              "      <td>Disabled</td>\n",
              "      <td>First Class</td>\n",
              "      <td>Advance</td>\n",
              "      <td>35</td>\n",
              "      <td>London Euston</td>\n",
              "      <td>Birmingham New Street</td>\n",
              "      <td>2024-01-02</td>\n",
              "      <td>16:00:00</td>\n",
              "      <td>17:20:00</td>\n",
              "      <td>NaN</td>\n",
              "      <td>Cancelled</td>\n",
              "      <td>Technical Issue</td>\n",
              "      <td>No</td>\n",
              "    </tr>\n",
              "    <tr>\n",
              "      <th>91</th>\n",
              "      <td>8a66ead7-e381-4311-b667</td>\n",
              "      <td>2024-01-02</td>\n",
              "      <td>00:54:33</td>\n",
              "      <td>Online</td>\n",
              "      <td>Credit Card</td>\n",
              "      <td>NaN</td>\n",
              "      <td>Standard</td>\n",
              "      <td>Off-Peak</td>\n",
              "      <td>10</td>\n",
              "      <td>London Euston</td>\n",
              "      <td>Birmingham New Street</td>\n",
              "      <td>2024-01-02</td>\n",
              "      <td>02:15:00</td>\n",
              "      <td>03:35:00</td>\n",
              "      <td>NaN</td>\n",
              "      <td>Cancelled</td>\n",
              "      <td>Technical Issue</td>\n",
              "      <td>Yes</td>\n",
              "    </tr>\n",
              "    <tr>\n",
              "      <th>111</th>\n",
              "      <td>d618c56f-3512-484d-9876</td>\n",
              "      <td>2024-01-02</td>\n",
              "      <td>03:33:32</td>\n",
              "      <td>Station</td>\n",
              "      <td>Credit Card</td>\n",
              "      <td>NaN</td>\n",
              "      <td>Standard</td>\n",
              "      <td>Off-Peak</td>\n",
              "      <td>12</td>\n",
              "      <td>London St Pancras</td>\n",
              "      <td>Birmingham New Street</td>\n",
              "      <td>2024-01-02</td>\n",
              "      <td>05:00:00</td>\n",
              "      <td>06:20:00</td>\n",
              "      <td>NaN</td>\n",
              "      <td>Cancelled</td>\n",
              "      <td>Staffing</td>\n",
              "      <td>Yes</td>\n",
              "    </tr>\n",
              "    <tr>\n",
              "      <th>148</th>\n",
              "      <td>eace2ada-5294-47e6-b4b8</td>\n",
              "      <td>2024-01-02</td>\n",
              "      <td>06:33:00</td>\n",
              "      <td>Station</td>\n",
              "      <td>Credit Card</td>\n",
              "      <td>NaN</td>\n",
              "      <td>First Class</td>\n",
              "      <td>Anytime</td>\n",
              "      <td>235</td>\n",
              "      <td>Liverpool Lime Street</td>\n",
              "      <td>London Euston</td>\n",
              "      <td>2024-01-02</td>\n",
              "      <td>08:00:00</td>\n",
              "      <td>10:15:00</td>\n",
              "      <td>NaN</td>\n",
              "      <td>Cancelled</td>\n",
              "      <td>Staff Shortage</td>\n",
              "      <td>No</td>\n",
              "    </tr>\n",
              "    <tr>\n",
              "      <th>...</th>\n",
              "      <td>...</td>\n",
              "      <td>...</td>\n",
              "      <td>...</td>\n",
              "      <td>...</td>\n",
              "      <td>...</td>\n",
              "      <td>...</td>\n",
              "      <td>...</td>\n",
              "      <td>...</td>\n",
              "      <td>...</td>\n",
              "      <td>...</td>\n",
              "      <td>...</td>\n",
              "      <td>...</td>\n",
              "      <td>...</td>\n",
              "      <td>...</td>\n",
              "      <td>...</td>\n",
              "      <td>...</td>\n",
              "      <td>...</td>\n",
              "      <td>...</td>\n",
              "    </tr>\n",
              "    <tr>\n",
              "      <th>31639</th>\n",
              "      <td>465e3643-fb67-4deb-8ec9</td>\n",
              "      <td>2024-04-30</td>\n",
              "      <td>17:13:32</td>\n",
              "      <td>Station</td>\n",
              "      <td>Debit Card</td>\n",
              "      <td>Senior</td>\n",
              "      <td>First Class</td>\n",
              "      <td>Anytime</td>\n",
              "      <td>144</td>\n",
              "      <td>London Euston</td>\n",
              "      <td>Manchester Piccadilly</td>\n",
              "      <td>2024-04-30</td>\n",
              "      <td>18:45:00</td>\n",
              "      <td>20:35:00</td>\n",
              "      <td>NaN</td>\n",
              "      <td>Cancelled</td>\n",
              "      <td>Signal failure</td>\n",
              "      <td>No</td>\n",
              "    </tr>\n",
              "    <tr>\n",
              "      <th>31641</th>\n",
              "      <td>2e96cde6-50c1-4311-8089</td>\n",
              "      <td>2024-04-30</td>\n",
              "      <td>17:16:04</td>\n",
              "      <td>Station</td>\n",
              "      <td>Credit Card</td>\n",
              "      <td>Adult</td>\n",
              "      <td>Standard</td>\n",
              "      <td>Anytime</td>\n",
              "      <td>95</td>\n",
              "      <td>London Euston</td>\n",
              "      <td>Manchester Piccadilly</td>\n",
              "      <td>2024-04-30</td>\n",
              "      <td>18:45:00</td>\n",
              "      <td>20:35:00</td>\n",
              "      <td>NaN</td>\n",
              "      <td>Cancelled</td>\n",
              "      <td>Signal failure</td>\n",
              "      <td>Yes</td>\n",
              "    </tr>\n",
              "    <tr>\n",
              "      <th>31642</th>\n",
              "      <td>09e207d9-db49-4ec0-9c4f</td>\n",
              "      <td>2024-04-30</td>\n",
              "      <td>17:21:14</td>\n",
              "      <td>Online</td>\n",
              "      <td>Contactless</td>\n",
              "      <td>NaN</td>\n",
              "      <td>Standard</td>\n",
              "      <td>Anytime</td>\n",
              "      <td>5</td>\n",
              "      <td>Manchester Piccadilly</td>\n",
              "      <td>Liverpool Lime Street</td>\n",
              "      <td>2024-04-30</td>\n",
              "      <td>18:45:00</td>\n",
              "      <td>19:15:00</td>\n",
              "      <td>NaN</td>\n",
              "      <td>Cancelled</td>\n",
              "      <td>Weather Conditions</td>\n",
              "      <td>No</td>\n",
              "    </tr>\n",
              "    <tr>\n",
              "      <th>31644</th>\n",
              "      <td>1eacd955-f539-4c79-adb6</td>\n",
              "      <td>2024-04-30</td>\n",
              "      <td>17:26:33</td>\n",
              "      <td>Online</td>\n",
              "      <td>Credit Card</td>\n",
              "      <td>NaN</td>\n",
              "      <td>Standard</td>\n",
              "      <td>Anytime</td>\n",
              "      <td>16</td>\n",
              "      <td>London St Pancras</td>\n",
              "      <td>Birmingham New Street</td>\n",
              "      <td>2024-04-30</td>\n",
              "      <td>18:45:00</td>\n",
              "      <td>20:05:00</td>\n",
              "      <td>NaN</td>\n",
              "      <td>Cancelled</td>\n",
              "      <td>Signal Failure</td>\n",
              "      <td>No</td>\n",
              "    </tr>\n",
              "    <tr>\n",
              "      <th>31645</th>\n",
              "      <td>a0e238b7-1ad1-4bf7-bd6c</td>\n",
              "      <td>2024-04-30</td>\n",
              "      <td>18:11:50</td>\n",
              "      <td>Online</td>\n",
              "      <td>Credit Card</td>\n",
              "      <td>Senior</td>\n",
              "      <td>First Class</td>\n",
              "      <td>Anytime</td>\n",
              "      <td>13</td>\n",
              "      <td>Manchester Piccadilly</td>\n",
              "      <td>Liverpool Lime Street</td>\n",
              "      <td>2024-04-30</td>\n",
              "      <td>18:45:00</td>\n",
              "      <td>19:15:00</td>\n",
              "      <td>NaN</td>\n",
              "      <td>Cancelled</td>\n",
              "      <td>Weather Conditions</td>\n",
              "      <td>No</td>\n",
              "    </tr>\n",
              "  </tbody>\n",
              "</table>\n",
              "<p>1880 rows × 18 columns</p>\n",
              "</div>\n",
              "    <div class=\"colab-df-buttons\">\n",
              "\n",
              "  <div class=\"colab-df-container\">\n",
              "    <button class=\"colab-df-convert\" onclick=\"convertToInteractive('df-4377d3ff-7823-4c83-8d18-e84697e494f0')\"\n",
              "            title=\"Convert this dataframe to an interactive table.\"\n",
              "            style=\"display:none;\">\n",
              "\n",
              "  <svg xmlns=\"http://www.w3.org/2000/svg\" height=\"24px\" viewBox=\"0 -960 960 960\">\n",
              "    <path d=\"M120-120v-720h720v720H120Zm60-500h600v-160H180v160Zm220 220h160v-160H400v160Zm0 220h160v-160H400v160ZM180-400h160v-160H180v160Zm440 0h160v-160H620v160ZM180-180h160v-160H180v160Zm440 0h160v-160H620v160Z\"/>\n",
              "  </svg>\n",
              "    </button>\n",
              "\n",
              "  <style>\n",
              "    .colab-df-container {\n",
              "      display:flex;\n",
              "      gap: 12px;\n",
              "    }\n",
              "\n",
              "    .colab-df-convert {\n",
              "      background-color: #E8F0FE;\n",
              "      border: none;\n",
              "      border-radius: 50%;\n",
              "      cursor: pointer;\n",
              "      display: none;\n",
              "      fill: #1967D2;\n",
              "      height: 32px;\n",
              "      padding: 0 0 0 0;\n",
              "      width: 32px;\n",
              "    }\n",
              "\n",
              "    .colab-df-convert:hover {\n",
              "      background-color: #E2EBFA;\n",
              "      box-shadow: 0px 1px 2px rgba(60, 64, 67, 0.3), 0px 1px 3px 1px rgba(60, 64, 67, 0.15);\n",
              "      fill: #174EA6;\n",
              "    }\n",
              "\n",
              "    .colab-df-buttons div {\n",
              "      margin-bottom: 4px;\n",
              "    }\n",
              "\n",
              "    [theme=dark] .colab-df-convert {\n",
              "      background-color: #3B4455;\n",
              "      fill: #D2E3FC;\n",
              "    }\n",
              "\n",
              "    [theme=dark] .colab-df-convert:hover {\n",
              "      background-color: #434B5C;\n",
              "      box-shadow: 0px 1px 3px 1px rgba(0, 0, 0, 0.15);\n",
              "      filter: drop-shadow(0px 1px 2px rgba(0, 0, 0, 0.3));\n",
              "      fill: #FFFFFF;\n",
              "    }\n",
              "  </style>\n",
              "\n",
              "    <script>\n",
              "      const buttonEl =\n",
              "        document.querySelector('#df-4377d3ff-7823-4c83-8d18-e84697e494f0 button.colab-df-convert');\n",
              "      buttonEl.style.display =\n",
              "        google.colab.kernel.accessAllowed ? 'block' : 'none';\n",
              "\n",
              "      async function convertToInteractive(key) {\n",
              "        const element = document.querySelector('#df-4377d3ff-7823-4c83-8d18-e84697e494f0');\n",
              "        const dataTable =\n",
              "          await google.colab.kernel.invokeFunction('convertToInteractive',\n",
              "                                                    [key], {});\n",
              "        if (!dataTable) return;\n",
              "\n",
              "        const docLinkHtml = 'Like what you see? Visit the ' +\n",
              "          '<a target=\"_blank\" href=https://colab.research.google.com/notebooks/data_table.ipynb>data table notebook</a>'\n",
              "          + ' to learn more about interactive tables.';\n",
              "        element.innerHTML = '';\n",
              "        dataTable['output_type'] = 'display_data';\n",
              "        await google.colab.output.renderOutput(dataTable, element);\n",
              "        const docLink = document.createElement('div');\n",
              "        docLink.innerHTML = docLinkHtml;\n",
              "        element.appendChild(docLink);\n",
              "      }\n",
              "    </script>\n",
              "  </div>\n",
              "\n",
              "\n",
              "<div id=\"df-1ad07f18-6496-42e4-9f27-7a43cca21d0d\">\n",
              "  <button class=\"colab-df-quickchart\" onclick=\"quickchart('df-1ad07f18-6496-42e4-9f27-7a43cca21d0d')\"\n",
              "            title=\"Suggest charts\"\n",
              "            style=\"display:none;\">\n",
              "\n",
              "<svg xmlns=\"http://www.w3.org/2000/svg\" height=\"24px\"viewBox=\"0 0 24 24\"\n",
              "     width=\"24px\">\n",
              "    <g>\n",
              "        <path d=\"M19 3H5c-1.1 0-2 .9-2 2v14c0 1.1.9 2 2 2h14c1.1 0 2-.9 2-2V5c0-1.1-.9-2-2-2zM9 17H7v-7h2v7zm4 0h-2V7h2v10zm4 0h-2v-4h2v4z\"/>\n",
              "    </g>\n",
              "</svg>\n",
              "  </button>\n",
              "\n",
              "<style>\n",
              "  .colab-df-quickchart {\n",
              "      --bg-color: #E8F0FE;\n",
              "      --fill-color: #1967D2;\n",
              "      --hover-bg-color: #E2EBFA;\n",
              "      --hover-fill-color: #174EA6;\n",
              "      --disabled-fill-color: #AAA;\n",
              "      --disabled-bg-color: #DDD;\n",
              "  }\n",
              "\n",
              "  [theme=dark] .colab-df-quickchart {\n",
              "      --bg-color: #3B4455;\n",
              "      --fill-color: #D2E3FC;\n",
              "      --hover-bg-color: #434B5C;\n",
              "      --hover-fill-color: #FFFFFF;\n",
              "      --disabled-bg-color: #3B4455;\n",
              "      --disabled-fill-color: #666;\n",
              "  }\n",
              "\n",
              "  .colab-df-quickchart {\n",
              "    background-color: var(--bg-color);\n",
              "    border: none;\n",
              "    border-radius: 50%;\n",
              "    cursor: pointer;\n",
              "    display: none;\n",
              "    fill: var(--fill-color);\n",
              "    height: 32px;\n",
              "    padding: 0;\n",
              "    width: 32px;\n",
              "  }\n",
              "\n",
              "  .colab-df-quickchart:hover {\n",
              "    background-color: var(--hover-bg-color);\n",
              "    box-shadow: 0 1px 2px rgba(60, 64, 67, 0.3), 0 1px 3px 1px rgba(60, 64, 67, 0.15);\n",
              "    fill: var(--button-hover-fill-color);\n",
              "  }\n",
              "\n",
              "  .colab-df-quickchart-complete:disabled,\n",
              "  .colab-df-quickchart-complete:disabled:hover {\n",
              "    background-color: var(--disabled-bg-color);\n",
              "    fill: var(--disabled-fill-color);\n",
              "    box-shadow: none;\n",
              "  }\n",
              "\n",
              "  .colab-df-spinner {\n",
              "    border: 2px solid var(--fill-color);\n",
              "    border-color: transparent;\n",
              "    border-bottom-color: var(--fill-color);\n",
              "    animation:\n",
              "      spin 1s steps(1) infinite;\n",
              "  }\n",
              "\n",
              "  @keyframes spin {\n",
              "    0% {\n",
              "      border-color: transparent;\n",
              "      border-bottom-color: var(--fill-color);\n",
              "      border-left-color: var(--fill-color);\n",
              "    }\n",
              "    20% {\n",
              "      border-color: transparent;\n",
              "      border-left-color: var(--fill-color);\n",
              "      border-top-color: var(--fill-color);\n",
              "    }\n",
              "    30% {\n",
              "      border-color: transparent;\n",
              "      border-left-color: var(--fill-color);\n",
              "      border-top-color: var(--fill-color);\n",
              "      border-right-color: var(--fill-color);\n",
              "    }\n",
              "    40% {\n",
              "      border-color: transparent;\n",
              "      border-right-color: var(--fill-color);\n",
              "      border-top-color: var(--fill-color);\n",
              "    }\n",
              "    60% {\n",
              "      border-color: transparent;\n",
              "      border-right-color: var(--fill-color);\n",
              "    }\n",
              "    80% {\n",
              "      border-color: transparent;\n",
              "      border-right-color: var(--fill-color);\n",
              "      border-bottom-color: var(--fill-color);\n",
              "    }\n",
              "    90% {\n",
              "      border-color: transparent;\n",
              "      border-bottom-color: var(--fill-color);\n",
              "    }\n",
              "  }\n",
              "</style>\n",
              "\n",
              "  <script>\n",
              "    async function quickchart(key) {\n",
              "      const quickchartButtonEl =\n",
              "        document.querySelector('#' + key + ' button');\n",
              "      quickchartButtonEl.disabled = true;  // To prevent multiple clicks.\n",
              "      quickchartButtonEl.classList.add('colab-df-spinner');\n",
              "      try {\n",
              "        const charts = await google.colab.kernel.invokeFunction(\n",
              "            'suggestCharts', [key], {});\n",
              "      } catch (error) {\n",
              "        console.error('Error during call to suggestCharts:', error);\n",
              "      }\n",
              "      quickchartButtonEl.classList.remove('colab-df-spinner');\n",
              "      quickchartButtonEl.classList.add('colab-df-quickchart-complete');\n",
              "    }\n",
              "    (() => {\n",
              "      let quickchartButtonEl =\n",
              "        document.querySelector('#df-1ad07f18-6496-42e4-9f27-7a43cca21d0d button');\n",
              "      quickchartButtonEl.style.display =\n",
              "        google.colab.kernel.accessAllowed ? 'block' : 'none';\n",
              "    })();\n",
              "  </script>\n",
              "</div>\n",
              "\n",
              "  <div id=\"id_7b722ba5-d44c-413d-93b3-ad732d011a54\">\n",
              "    <style>\n",
              "      .colab-df-generate {\n",
              "        background-color: #E8F0FE;\n",
              "        border: none;\n",
              "        border-radius: 50%;\n",
              "        cursor: pointer;\n",
              "        display: none;\n",
              "        fill: #1967D2;\n",
              "        height: 32px;\n",
              "        padding: 0 0 0 0;\n",
              "        width: 32px;\n",
              "      }\n",
              "\n",
              "      .colab-df-generate:hover {\n",
              "        background-color: #E2EBFA;\n",
              "        box-shadow: 0px 1px 2px rgba(60, 64, 67, 0.3), 0px 1px 3px 1px rgba(60, 64, 67, 0.15);\n",
              "        fill: #174EA6;\n",
              "      }\n",
              "\n",
              "      [theme=dark] .colab-df-generate {\n",
              "        background-color: #3B4455;\n",
              "        fill: #D2E3FC;\n",
              "      }\n",
              "\n",
              "      [theme=dark] .colab-df-generate:hover {\n",
              "        background-color: #434B5C;\n",
              "        box-shadow: 0px 1px 3px 1px rgba(0, 0, 0, 0.15);\n",
              "        filter: drop-shadow(0px 1px 2px rgba(0, 0, 0, 0.3));\n",
              "        fill: #FFFFFF;\n",
              "      }\n",
              "    </style>\n",
              "    <button class=\"colab-df-generate\" onclick=\"generateWithVariable('NaN_Actual')\"\n",
              "            title=\"Generate code using this dataframe.\"\n",
              "            style=\"display:none;\">\n",
              "\n",
              "  <svg xmlns=\"http://www.w3.org/2000/svg\" height=\"24px\"viewBox=\"0 0 24 24\"\n",
              "       width=\"24px\">\n",
              "    <path d=\"M7,19H8.4L18.45,9,17,7.55,7,17.6ZM5,21V16.75L18.45,3.32a2,2,0,0,1,2.83,0l1.4,1.43a1.91,1.91,0,0,1,.58,1.4,1.91,1.91,0,0,1-.58,1.4L9.25,21ZM18.45,9,17,7.55Zm-12,3A5.31,5.31,0,0,0,4.9,8.1,5.31,5.31,0,0,0,1,6.5,5.31,5.31,0,0,0,4.9,4.9,5.31,5.31,0,0,0,6.5,1,5.31,5.31,0,0,0,8.1,4.9,5.31,5.31,0,0,0,12,6.5,5.46,5.46,0,0,0,6.5,12Z\"/>\n",
              "  </svg>\n",
              "    </button>\n",
              "    <script>\n",
              "      (() => {\n",
              "      const buttonEl =\n",
              "        document.querySelector('#id_7b722ba5-d44c-413d-93b3-ad732d011a54 button.colab-df-generate');\n",
              "      buttonEl.style.display =\n",
              "        google.colab.kernel.accessAllowed ? 'block' : 'none';\n",
              "\n",
              "      buttonEl.onclick = () => {\n",
              "        google.colab.notebook.generateWithVariable('NaN_Actual');\n",
              "      }\n",
              "      })();\n",
              "    </script>\n",
              "  </div>\n",
              "\n",
              "    </div>\n",
              "  </div>\n"
            ],
            "application/vnd.google.colaboratory.intrinsic+json": {
              "type": "dataframe",
              "variable_name": "NaN_Actual",
              "repr_error": "0"
            }
          },
          "metadata": {},
          "execution_count": 74
        }
      ],
      "source": [
        "NaN_Actual = train_data[train_data['Actual Arrival Time'].isnull() == True]\n",
        "NaN_Actual"
      ]
    },
    {
      "cell_type": "markdown",
      "metadata": {
        "id": "WAWR-yqQ-e87"
      },
      "source": [
        "This makes the NaN mistake in this column more like an innacuracy, but we should still optimize our data by leaving no NaNs."
      ]
    },
    {
      "cell_type": "code",
      "execution_count": null,
      "metadata": {
        "colab": {
          "base_uri": "https://localhost:8080/"
        },
        "id": "pE_yFk0A-opE",
        "outputId": "35be0778-cc5f-422a-fdae-022213659953"
      },
      "outputs": [
        {
          "output_type": "execute_result",
          "data": {
            "text/plain": [
              "0"
            ]
          },
          "metadata": {},
          "execution_count": 75
        }
      ],
      "source": [
        "train_data['Actual Arrival Time'] = train_data[\"Actual Arrival Time\"].fillna('Journey Cancelled')\n",
        "train_data['Actual Arrival Time'].isnull().sum()"
      ]
    },
    {
      "cell_type": "markdown",
      "metadata": {
        "id": "lStku7VlvSpl"
      },
      "source": [
        "We will be optimizing our data again by leaving no NaNs in the other two columns with NaNs, filling empty cells with a logical and reasonable value."
      ]
    },
    {
      "cell_type": "code",
      "execution_count": null,
      "metadata": {
        "colab": {
          "base_uri": "https://localhost:8080/"
        },
        "id": "AR8EqKkIvbSV",
        "outputId": "6b95e855-9eb9-4d5c-b69f-a4f1b2be8ace"
      },
      "outputs": [
        {
          "output_type": "execute_result",
          "data": {
            "text/plain": [
              "0"
            ]
          },
          "metadata": {},
          "execution_count": 76
        }
      ],
      "source": [
        "train_data['Railcard'] = train_data['Railcard'].fillna(\"No Railcard\")\n",
        "train_data['Railcard'].isnull().sum()"
      ]
    },
    {
      "cell_type": "code",
      "execution_count": null,
      "metadata": {
        "colab": {
          "base_uri": "https://localhost:8080/"
        },
        "id": "a2vT4AUqv7rN",
        "outputId": "a5d8e302-6613-47fb-934e-a7c5ea36eb4a"
      },
      "outputs": [
        {
          "output_type": "execute_result",
          "data": {
            "text/plain": [
              "0"
            ]
          },
          "metadata": {},
          "execution_count": 77
        }
      ],
      "source": [
        "train_data['Reason for Delay'] = train_data['Reason for Delay'].fillna(\"No Delay\")\n",
        "train_data['Reason for Delay'].isnull().sum()"
      ]
    },
    {
      "cell_type": "markdown",
      "metadata": {
        "id": "ead-2mZL0uNe"
      },
      "source": [
        "Now that that's cleared, we can move on from NaN values confidently.\n",
        "\n",
        "---\n"
      ]
    },
    {
      "cell_type": "markdown",
      "source": [
        "## **2-Mixed data types:**"
      ],
      "metadata": {
        "id": "Cuflye2nisAJ"
      }
    },
    {
      "cell_type": "markdown",
      "source": [
        "\n",
        "\n",
        "As we saw in our wrangling section, there are multiple columns in the wrong data type, namingly  both the 'Date of Purchase' and 'Date of Journey' columns.\n",
        "\n",
        "They're both stored in strings in the data, while we want them as date-time type to ensure data accuracy. Pandas has a specific command for this, thankfully."
      ],
      "metadata": {
        "id": "-gJTQOtAisWA"
      }
    },
    {
      "cell_type": "code",
      "execution_count": null,
      "metadata": {
        "colab": {
          "base_uri": "https://localhost:8080/"
        },
        "id": "M2-N-Zeu1Y7s",
        "outputId": "9248f490-44d9-4e91-d04f-7477cb85fc73"
      },
      "outputs": [
        {
          "output_type": "stream",
          "name": "stdout",
          "text": [
            "<class 'pandas.core.frame.DataFrame'>\n",
            "RangeIndex: 31653 entries, 0 to 31652\n",
            "Data columns (total 18 columns):\n",
            " #   Column               Non-Null Count  Dtype         \n",
            "---  ------               --------------  -----         \n",
            " 0   Transaction ID       31653 non-null  object        \n",
            " 1   Date of Purchase     31653 non-null  datetime64[ns]\n",
            " 2   Time of Purchase     31653 non-null  object        \n",
            " 3   Purchase Type        31653 non-null  object        \n",
            " 4   Payment Method       31653 non-null  object        \n",
            " 5   Railcard             31653 non-null  object        \n",
            " 6   Ticket Class         31653 non-null  object        \n",
            " 7   Ticket Type          31653 non-null  object        \n",
            " 8   Price                31653 non-null  int64         \n",
            " 9   Departure Station    31653 non-null  object        \n",
            " 10  Arrival Destination  31653 non-null  object        \n",
            " 11  Date of Journey      31653 non-null  datetime64[ns]\n",
            " 12  Departure Time       31653 non-null  object        \n",
            " 13  Arrival Time         31653 non-null  object        \n",
            " 14  Actual Arrival Time  31653 non-null  object        \n",
            " 15  Journey Status       31653 non-null  object        \n",
            " 16  Reason for Delay     31653 non-null  object        \n",
            " 17  Refund Request       31653 non-null  object        \n",
            "dtypes: datetime64[ns](2), int64(1), object(15)\n",
            "memory usage: 4.3+ MB\n"
          ]
        }
      ],
      "source": [
        "train_data['Date of Purchase'] = pd.to_datetime(train_data['Date of Purchase'], errors='coerce')\n",
        "train_data['Date of Journey'] = pd.to_datetime(train_data['Date of Journey'], errors='coerce')\n",
        "train_data.info()"
      ]
    },
    {
      "cell_type": "markdown",
      "metadata": {
        "id": "VUWgy5_f2YmT"
      },
      "source": [
        "Just with those simple commands, our dataset is clear of any mixed data types.\n",
        "\n",
        "With that, we also have no NaNs or mixed data types, leaving our data clean and ready for analytics.\n"
      ]
    },
    {
      "cell_type": "markdown",
      "metadata": {
        "id": "1mMBrtfX1z2F"
      },
      "source": [
        "\n",
        "---\n",
        "# 3-Data Analysis\n",
        "\n",
        "Now that our data is clean of all errors, its time to pick it apart and reach conclusions!"
      ]
    },
    {
      "cell_type": "markdown",
      "source": [
        "This section will be structured as different questions we need answered as seperate sections seperated by a line, like so.\n",
        "\n",
        "---"
      ],
      "metadata": {
        "id": "tx5YrwNLm-5e"
      }
    },
    {
      "cell_type": "markdown",
      "metadata": {
        "id": "7ngQllPCoG4g"
      },
      "source": [
        "\n",
        "## **1-Does cancelling a journey or delaying it cause more refunds?**"
      ]
    },
    {
      "cell_type": "markdown",
      "source": [
        "\n",
        "To answer this, we're going to create two dataframes, one with the rows including a delayed ride, and one with rows including a cancelled ride."
      ],
      "metadata": {
        "id": "Le4dk7gcjNE6"
      }
    },
    {
      "cell_type": "code",
      "execution_count": null,
      "metadata": {
        "id": "ERjSGrDeiToJ"
      },
      "outputs": [],
      "source": [
        "delay = train_data[train_data['Journey Status'] == 'Delayed']\n",
        "cancelled = train_data[train_data['Journey Status'] == 'Cancelled']"
      ]
    },
    {
      "cell_type": "markdown",
      "metadata": {
        "id": "vQY74B1e8DaE"
      },
      "source": [
        "Now that we've created those dataframes, we can compare the precentage of passangers refunding tickets on a cancelled ride versus the precentage on a delayed ride."
      ]
    },
    {
      "cell_type": "code",
      "execution_count": null,
      "metadata": {
        "colab": {
          "base_uri": "https://localhost:8080/"
        },
        "id": "a-mTStNo3yjM",
        "outputId": "b1a72dff-5431-4ff1-9c24-ca763a3a5e36"
      },
      "outputs": [
        {
          "output_type": "stream",
          "name": "stdout",
          "text": [
            "The percentage of people refunding tickets when a journey is cancelled is  30 %\n"
          ]
        }
      ],
      "source": [
        "cancelled_refunds = cancelled[cancelled['Refund Request'] == 'Yes']\n",
        "p1 = ( cancelled_refunds['Refund Request'].count()/cancelled['Refund Request'].count())*100\n",
        "print('The percentage of people refunding tickets when a journey is cancelled is ',int(np.round(p1)),'%')"
      ]
    },
    {
      "cell_type": "code",
      "execution_count": null,
      "metadata": {
        "colab": {
          "base_uri": "https://localhost:8080/"
        },
        "id": "ievgY6006Bhs",
        "outputId": "0833475a-fc0c-414b-a160-8d008f2f88b2"
      },
      "outputs": [
        {
          "output_type": "stream",
          "name": "stdout",
          "text": [
            "The percentage of people refunding tickets when a journey is delayed is 24 %\n"
          ]
        }
      ],
      "source": [
        "delay_refunds = delay[delay['Refund Request'] == 'Yes']\n",
        "p2 =( delay_refunds['Refund Request'].count()/delay['Refund Request'].count())*100\n",
        "print('The percentage of people refunding tickets when a journey is delayed is',int(np.round(p2)),'%')"
      ]
    },
    {
      "cell_type": "markdown",
      "metadata": {
        "id": "yW4Q5_TzQbFe"
      },
      "source": [
        "As can be seen in the code above, the amount of people refunding when a journey is cancelled is significantly higher than when a journey is delayed, which seems logically intuitive.\n",
        "\n",
        "This proves that when a journey is delayed, it's less optimal to cancel it and give an alternative ticket (as happens with cancelled rides) than it is to just continue on the delayed schedule.\n",
        "\n",
        "---\n",
        "\n"
      ]
    },
    {
      "cell_type": "markdown",
      "metadata": {
        "id": "Lf4oRYwwfnCw"
      },
      "source": [
        "## **2-**"
      ]
    },
    {
      "cell_type": "code",
      "source": [
        "train_data.info()"
      ],
      "metadata": {
        "id": "7Je6xExIkT2I",
        "colab": {
          "base_uri": "https://localhost:8080/"
        },
        "outputId": "a9d676aa-e873-44cb-c8c9-1884525054c4"
      },
      "execution_count": null,
      "outputs": [
        {
          "output_type": "stream",
          "name": "stdout",
          "text": [
            "<class 'pandas.core.frame.DataFrame'>\n",
            "RangeIndex: 31653 entries, 0 to 31652\n",
            "Data columns (total 18 columns):\n",
            " #   Column               Non-Null Count  Dtype         \n",
            "---  ------               --------------  -----         \n",
            " 0   Transaction ID       31653 non-null  object        \n",
            " 1   Date of Purchase     31653 non-null  datetime64[ns]\n",
            " 2   Time of Purchase     31653 non-null  object        \n",
            " 3   Purchase Type        31653 non-null  object        \n",
            " 4   Payment Method       31653 non-null  object        \n",
            " 5   Railcard             31653 non-null  object        \n",
            " 6   Ticket Class         31653 non-null  object        \n",
            " 7   Ticket Type          31653 non-null  object        \n",
            " 8   Price                31653 non-null  int64         \n",
            " 9   Departure Station    31653 non-null  object        \n",
            " 10  Arrival Destination  31653 non-null  object        \n",
            " 11  Date of Journey      31653 non-null  datetime64[ns]\n",
            " 12  Departure Time       31653 non-null  object        \n",
            " 13  Arrival Time         31653 non-null  object        \n",
            " 14  Actual Arrival Time  31653 non-null  object        \n",
            " 15  Journey Status       31653 non-null  object        \n",
            " 16  Reason for Delay     31653 non-null  object        \n",
            " 17  Refund Request       31653 non-null  object        \n",
            "dtypes: datetime64[ns](2), int64(1), object(15)\n",
            "memory usage: 4.3+ MB\n"
          ]
        }
      ]
    },
    {
      "cell_type": "code",
      "source": [],
      "metadata": {
        "colab": {
          "base_uri": "https://localhost:8080/",
          "height": 1000
        },
        "id": "OIOkUGBXnsNI",
        "outputId": "af0b2654-812f-4893-acb8-766e741f3f18"
      },
      "execution_count": null,
      "outputs": [
        {
          "output_type": "execute_result",
          "data": {
            "text/plain": [
              "Arrival Destination\n",
              "Warrington                 15\n",
              "Wakefield                  15\n",
              "Cardiff Central            16\n",
              "Didcot                     48\n",
              "Coventry                   65\n",
              "London Waterloo            68\n",
              "London Kings Cross         84\n",
              "Wolverhampton             115\n",
              "Bristol Temple Meads      144\n",
              "Edinburgh                 154\n",
              "Nottingham                158\n",
              "Edinburgh Waverley        178\n",
              "Stafford                  190\n",
              "Crewe                     193\n",
              "Doncaster                 211\n",
              "Nuneaton                  219\n",
              "Tamworth                  227\n",
              "Swindon                   228\n",
              "Peterborough              242\n",
              "Leeds                     255\n",
              "Durham                    258\n",
              "Sheffield                 272\n",
              "Leicester                 337\n",
              "London Paddington         351\n",
              "Oxford                    623\n",
              "London St Pancras         749\n",
              "London Euston            1567\n",
              "Reading                  3920\n",
              "Manchester Piccadilly    3968\n",
              "York                     4019\n",
              "Liverpool Lime Street    5022\n",
              "Birmingham New Street    7742\n",
              "Name: count, dtype: int64"
            ],
            "text/html": [
              "<div>\n",
              "<style scoped>\n",
              "    .dataframe tbody tr th:only-of-type {\n",
              "        vertical-align: middle;\n",
              "    }\n",
              "\n",
              "    .dataframe tbody tr th {\n",
              "        vertical-align: top;\n",
              "    }\n",
              "\n",
              "    .dataframe thead th {\n",
              "        text-align: right;\n",
              "    }\n",
              "</style>\n",
              "<table border=\"1\" class=\"dataframe\">\n",
              "  <thead>\n",
              "    <tr style=\"text-align: right;\">\n",
              "      <th></th>\n",
              "      <th>count</th>\n",
              "    </tr>\n",
              "    <tr>\n",
              "      <th>Arrival Destination</th>\n",
              "      <th></th>\n",
              "    </tr>\n",
              "  </thead>\n",
              "  <tbody>\n",
              "    <tr>\n",
              "      <th>Warrington</th>\n",
              "      <td>15</td>\n",
              "    </tr>\n",
              "    <tr>\n",
              "      <th>Wakefield</th>\n",
              "      <td>15</td>\n",
              "    </tr>\n",
              "    <tr>\n",
              "      <th>Cardiff Central</th>\n",
              "      <td>16</td>\n",
              "    </tr>\n",
              "    <tr>\n",
              "      <th>Didcot</th>\n",
              "      <td>48</td>\n",
              "    </tr>\n",
              "    <tr>\n",
              "      <th>Coventry</th>\n",
              "      <td>65</td>\n",
              "    </tr>\n",
              "    <tr>\n",
              "      <th>London Waterloo</th>\n",
              "      <td>68</td>\n",
              "    </tr>\n",
              "    <tr>\n",
              "      <th>London Kings Cross</th>\n",
              "      <td>84</td>\n",
              "    </tr>\n",
              "    <tr>\n",
              "      <th>Wolverhampton</th>\n",
              "      <td>115</td>\n",
              "    </tr>\n",
              "    <tr>\n",
              "      <th>Bristol Temple Meads</th>\n",
              "      <td>144</td>\n",
              "    </tr>\n",
              "    <tr>\n",
              "      <th>Edinburgh</th>\n",
              "      <td>154</td>\n",
              "    </tr>\n",
              "    <tr>\n",
              "      <th>Nottingham</th>\n",
              "      <td>158</td>\n",
              "    </tr>\n",
              "    <tr>\n",
              "      <th>Edinburgh Waverley</th>\n",
              "      <td>178</td>\n",
              "    </tr>\n",
              "    <tr>\n",
              "      <th>Stafford</th>\n",
              "      <td>190</td>\n",
              "    </tr>\n",
              "    <tr>\n",
              "      <th>Crewe</th>\n",
              "      <td>193</td>\n",
              "    </tr>\n",
              "    <tr>\n",
              "      <th>Doncaster</th>\n",
              "      <td>211</td>\n",
              "    </tr>\n",
              "    <tr>\n",
              "      <th>Nuneaton</th>\n",
              "      <td>219</td>\n",
              "    </tr>\n",
              "    <tr>\n",
              "      <th>Tamworth</th>\n",
              "      <td>227</td>\n",
              "    </tr>\n",
              "    <tr>\n",
              "      <th>Swindon</th>\n",
              "      <td>228</td>\n",
              "    </tr>\n",
              "    <tr>\n",
              "      <th>Peterborough</th>\n",
              "      <td>242</td>\n",
              "    </tr>\n",
              "    <tr>\n",
              "      <th>Leeds</th>\n",
              "      <td>255</td>\n",
              "    </tr>\n",
              "    <tr>\n",
              "      <th>Durham</th>\n",
              "      <td>258</td>\n",
              "    </tr>\n",
              "    <tr>\n",
              "      <th>Sheffield</th>\n",
              "      <td>272</td>\n",
              "    </tr>\n",
              "    <tr>\n",
              "      <th>Leicester</th>\n",
              "      <td>337</td>\n",
              "    </tr>\n",
              "    <tr>\n",
              "      <th>London Paddington</th>\n",
              "      <td>351</td>\n",
              "    </tr>\n",
              "    <tr>\n",
              "      <th>Oxford</th>\n",
              "      <td>623</td>\n",
              "    </tr>\n",
              "    <tr>\n",
              "      <th>London St Pancras</th>\n",
              "      <td>749</td>\n",
              "    </tr>\n",
              "    <tr>\n",
              "      <th>London Euston</th>\n",
              "      <td>1567</td>\n",
              "    </tr>\n",
              "    <tr>\n",
              "      <th>Reading</th>\n",
              "      <td>3920</td>\n",
              "    </tr>\n",
              "    <tr>\n",
              "      <th>Manchester Piccadilly</th>\n",
              "      <td>3968</td>\n",
              "    </tr>\n",
              "    <tr>\n",
              "      <th>York</th>\n",
              "      <td>4019</td>\n",
              "    </tr>\n",
              "    <tr>\n",
              "      <th>Liverpool Lime Street</th>\n",
              "      <td>5022</td>\n",
              "    </tr>\n",
              "    <tr>\n",
              "      <th>Birmingham New Street</th>\n",
              "      <td>7742</td>\n",
              "    </tr>\n",
              "  </tbody>\n",
              "</table>\n",
              "</div><br><label><b>dtype:</b> int64</label>"
            ]
          },
          "metadata": {},
          "execution_count": 117
        }
      ]
    },
    {
      "cell_type": "code",
      "source": [
        "sns.barplot(train_data['Payment Method'].value_counts());"
      ],
      "metadata": {
        "colab": {
          "base_uri": "https://localhost:8080/",
          "height": 453
        },
        "id": "paLSRE_spZB1",
        "outputId": "da2367c4-7835-44fc-d26a-206e9babd8b1"
      },
      "execution_count": null,
      "outputs": [
        {
          "output_type": "display_data",
          "data": {
            "text/plain": [
              "<Figure size 640x480 with 1 Axes>"
            ],
            "image/png": "[encoded data removed]"
          },
          "metadata": {}
        }
      ]
    }
  ],
  "metadata": {
    "colab": {
      "collapsed_sections": [
        "dPwbYJ6W4x8W",
        "1mMBrtfX1z2F"
      ],
      "provenance": []
    },
    "kernelspec": {
      "display_name": "Python 3",
      "name": "python3"
    },
    "language_info": {
      "name": "python"
    }
  },
  "nbformat": 4,
  "nbformat_minor": 0
}