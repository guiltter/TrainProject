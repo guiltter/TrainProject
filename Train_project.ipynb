{
  "cells": [
    {
      "cell_type": "code",
      "execution_count": 1,
      "metadata": {
        "id": "G_qn4IB2L-lZ"
      },
      "outputs": [],
      "source": [
        "import numpy as np\n",
        "import math\n",
        "import pandas as pd\n",
        "import seaborn as sns\n",
        "import matplotlib.pyplot as plt\n",
        "train_data = pd.read_csv('railway.csv')"
      ]
    },
    {
      "cell_type": "markdown",
      "metadata": {
        "id": "O5qZG00SM62I"
      },
      "source": [
        "# 1-Data Wrangling\n",
        "Now that we've loaded our data, it's time to check the data for errors and clean them, commonly known as 'Data Wrangling'."
      ]
    },
    {
      "cell_type": "markdown",
      "source": [
        "## **0-General Properties:**"
      ],
      "metadata": {
        "id": "dPRfCWsRHi6K"
      }
    },
    {
      "cell_type": "code",
      "execution_count": 2,
      "metadata": {
        "colab": {
          "base_uri": "https://localhost:8080/",
          "height": 0
        },
        "id": "tWSZ7PeONIRi",
        "outputId": "4b36b992-a48d-4cf9-da98-2784c158164d"
      },
      "outputs": [
        {
          "output_type": "execute_result",
          "data": {
            "text/plain": [
              "            Transaction ID Date of Purchase Time of Purchase Purchase Type  \\\n",
              "0  da8a6ba8-b3dc-4677-b176       2023-12-08         12:41:11        Online   \n",
              "1  b0cdd1b0-f214-4197-be53       2023-12-16         11:23:01       Station   \n",
              "2  f3ba7a96-f713-40d9-9629       2023-12-19         19:51:27        Online   \n",
              "3  b2471f11-4fe7-4c87-8ab4       2023-12-20         23:00:36       Station   \n",
              "4  2be00b45-0762-485e-a7a3       2023-12-27         18:22:56        Online   \n",
              "\n",
              "  Payment Method Railcard Ticket Class Ticket Type  Price  \\\n",
              "0    Contactless    Adult     Standard     Advance     43   \n",
              "1    Credit Card    Adult     Standard     Advance     23   \n",
              "2    Credit Card      NaN     Standard     Advance      3   \n",
              "3    Credit Card      NaN     Standard     Advance     13   \n",
              "4    Contactless      NaN     Standard     Advance     76   \n",
              "\n",
              "       Departure Station    Arrival Destination Date of Journey  \\\n",
              "0      London Paddington  Liverpool Lime Street      2024-01-01   \n",
              "1     London Kings Cross                   York      2024-01-01   \n",
              "2  Liverpool Lime Street  Manchester Piccadilly      2024-01-02   \n",
              "3      London Paddington                Reading      2024-01-01   \n",
              "4  Liverpool Lime Street          London Euston      2024-01-01   \n",
              "\n",
              "  Departure Time Arrival Time Actual Arrival Time Journey Status  \\\n",
              "0       11:00:00     13:30:00            13:30:00        On Time   \n",
              "1       09:45:00     11:35:00            11:40:00        Delayed   \n",
              "2       18:15:00     18:45:00            18:45:00        On Time   \n",
              "3       21:30:00     22:30:00            22:30:00        On Time   \n",
              "4       16:45:00     19:00:00            19:00:00        On Time   \n",
              "\n",
              "  Reason for Delay Refund Request  \n",
              "0              NaN             No  \n",
              "1   Signal Failure             No  \n",
              "2              NaN             No  \n",
              "3              NaN             No  \n",
              "4              NaN             No  "
            ],
            "text/html": [
              "\n",
              "  <div id=\"df-6dc972c4-e5a0-4696-9432-2e213637b682\" class=\"colab-df-container\">\n",
              "    <div>\n",
              "<style scoped>\n",
              "    .dataframe tbody tr th:only-of-type {\n",
              "        vertical-align: middle;\n",
              "    }\n",
              "\n",
              "    .dataframe tbody tr th {\n",
              "        vertical-align: top;\n",
              "    }\n",
              "\n",
              "    .dataframe thead th {\n",
              "        text-align: right;\n",
              "    }\n",
              "</style>\n",
              "<table border=\"1\" class=\"dataframe\">\n",
              "  <thead>\n",
              "    <tr style=\"text-align: right;\">\n",
              "      <th></th>\n",
              "      <th>Transaction ID</th>\n",
              "      <th>Date of Purchase</th>\n",
              "      <th>Time of Purchase</th>\n",
              "      <th>Purchase Type</th>\n",
              "      <th>Payment Method</th>\n",
              "      <th>Railcard</th>\n",
              "      <th>Ticket Class</th>\n",
              "      <th>Ticket Type</th>\n",
              "      <th>Price</th>\n",
              "      <th>Departure Station</th>\n",
              "      <th>Arrival Destination</th>\n",
              "      <th>Date of Journey</th>\n",
              "      <th>Departure Time</th>\n",
              "      <th>Arrival Time</th>\n",
              "      <th>Actual Arrival Time</th>\n",
              "      <th>Journey Status</th>\n",
              "      <th>Reason for Delay</th>\n",
              "      <th>Refund Request</th>\n",
              "    </tr>\n",
              "  </thead>\n",
              "  <tbody>\n",
              "    <tr>\n",
              "      <th>0</th>\n",
              "      <td>da8a6ba8-b3dc-4677-b176</td>\n",
              "      <td>2023-12-08</td>\n",
              "      <td>12:41:11</td>\n",
              "      <td>Online</td>\n",
              "      <td>Contactless</td>\n",
              "      <td>Adult</td>\n",
              "      <td>Standard</td>\n",
              "      <td>Advance</td>\n",
              "      <td>43</td>\n",
              "      <td>London Paddington</td>\n",
              "      <td>Liverpool Lime Street</td>\n",
              "      <td>2024-01-01</td>\n",
              "      <td>11:00:00</td>\n",
              "      <td>13:30:00</td>\n",
              "      <td>13:30:00</td>\n",
              "      <td>On Time</td>\n",
              "      <td>NaN</td>\n",
              "      <td>No</td>\n",
              "    </tr>\n",
              "    <tr>\n",
              "      <th>1</th>\n",
              "      <td>b0cdd1b0-f214-4197-be53</td>\n",
              "      <td>2023-12-16</td>\n",
              "      <td>11:23:01</td>\n",
              "      <td>Station</td>\n",
              "      <td>Credit Card</td>\n",
              "      <td>Adult</td>\n",
              "      <td>Standard</td>\n",
              "      <td>Advance</td>\n",
              "      <td>23</td>\n",
              "      <td>London Kings Cross</td>\n",
              "      <td>York</td>\n",
              "      <td>2024-01-01</td>\n",
              "      <td>09:45:00</td>\n",
              "      <td>11:35:00</td>\n",
              "      <td>11:40:00</td>\n",
              "      <td>Delayed</td>\n",
              "      <td>Signal Failure</td>\n",
              "      <td>No</td>\n",
              "    </tr>\n",
              "    <tr>\n",
              "      <th>2</th>\n",
              "      <td>f3ba7a96-f713-40d9-9629</td>\n",
              "      <td>2023-12-19</td>\n",
              "      <td>19:51:27</td>\n",
              "      <td>Online</td>\n",
              "      <td>Credit Card</td>\n",
              "      <td>NaN</td>\n",
              "      <td>Standard</td>\n",
              "      <td>Advance</td>\n",
              "      <td>3</td>\n",
              "      <td>Liverpool Lime Street</td>\n",
              "      <td>Manchester Piccadilly</td>\n",
              "      <td>2024-01-02</td>\n",
              "      <td>18:15:00</td>\n",
              "      <td>18:45:00</td>\n",
              "      <td>18:45:00</td>\n",
              "      <td>On Time</td>\n",
              "      <td>NaN</td>\n",
              "      <td>No</td>\n",
              "    </tr>\n",
              "    <tr>\n",
              "      <th>3</th>\n",
              "      <td>b2471f11-4fe7-4c87-8ab4</td>\n",
              "      <td>2023-12-20</td>\n",
              "      <td>23:00:36</td>\n",
              "      <td>Station</td>\n",
              "      <td>Credit Card</td>\n",
              "      <td>NaN</td>\n",
              "      <td>Standard</td>\n",
              "      <td>Advance</td>\n",
              "      <td>13</td>\n",
              "      <td>London Paddington</td>\n",
              "      <td>Reading</td>\n",
              "      <td>2024-01-01</td>\n",
              "      <td>21:30:00</td>\n",
              "      <td>22:30:00</td>\n",
              "      <td>22:30:00</td>\n",
              "      <td>On Time</td>\n",
              "      <td>NaN</td>\n",
              "      <td>No</td>\n",
              "    </tr>\n",
              "    <tr>\n",
              "      <th>4</th>\n",
              "      <td>2be00b45-0762-485e-a7a3</td>\n",
              "      <td>2023-12-27</td>\n",
              "      <td>18:22:56</td>\n",
              "      <td>Online</td>\n",
              "      <td>Contactless</td>\n",
              "      <td>NaN</td>\n",
              "      <td>Standard</td>\n",
              "      <td>Advance</td>\n",
              "      <td>76</td>\n",
              "      <td>Liverpool Lime Street</td>\n",
              "      <td>London Euston</td>\n",
              "      <td>2024-01-01</td>\n",
              "      <td>16:45:00</td>\n",
              "      <td>19:00:00</td>\n",
              "      <td>19:00:00</td>\n",
              "      <td>On Time</td>\n",
              "      <td>NaN</td>\n",
              "      <td>No</td>\n",
              "    </tr>\n",
              "  </tbody>\n",
              "</table>\n",
              "</div>\n",
              "    <div class=\"colab-df-buttons\">\n",
              "\n",
              "  <div class=\"colab-df-container\">\n",
              "    <button class=\"colab-df-convert\" onclick=\"convertToInteractive('df-6dc972c4-e5a0-4696-9432-2e213637b682')\"\n",
              "            title=\"Convert this dataframe to an interactive table.\"\n",
              "            style=\"display:none;\">\n",
              "\n",
              "  <svg xmlns=\"http://www.w3.org/2000/svg\" height=\"24px\" viewBox=\"0 -960 960 960\">\n",
              "    <path d=\"M120-120v-720h720v720H120Zm60-500h600v-160H180v160Zm220 220h160v-160H400v160Zm0 220h160v-160H400v160ZM180-400h160v-160H180v160Zm440 0h160v-160H620v160ZM180-180h160v-160H180v160Zm440 0h160v-160H620v160Z\"/>\n",
              "  </svg>\n",
              "    </button>\n",
              "\n",
              "  <style>\n",
              "    .colab-df-container {\n",
              "      display:flex;\n",
              "      gap: 12px;\n",
              "    }\n",
              "\n",
              "    .colab-df-convert {\n",
              "      background-color: #E8F0FE;\n",
              "      border: none;\n",
              "      border-radius: 50%;\n",
              "      cursor: pointer;\n",
              "      display: none;\n",
              "      fill: #1967D2;\n",
              "      height: 32px;\n",
              "      padding: 0 0 0 0;\n",
              "      width: 32px;\n",
              "    }\n",
              "\n",
              "    .colab-df-convert:hover {\n",
              "      background-color: #E2EBFA;\n",
              "      box-shadow: 0px 1px 2px rgba(60, 64, 67, 0.3), 0px 1px 3px 1px rgba(60, 64, 67, 0.15);\n",
              "      fill: #174EA6;\n",
              "    }\n",
              "\n",
              "    .colab-df-buttons div {\n",
              "      margin-bottom: 4px;\n",
              "    }\n",
              "\n",
              "    [theme=dark] .colab-df-convert {\n",
              "      background-color: #3B4455;\n",
              "      fill: #D2E3FC;\n",
              "    }\n",
              "\n",
              "    [theme=dark] .colab-df-convert:hover {\n",
              "      background-color: #434B5C;\n",
              "      box-shadow: 0px 1px 3px 1px rgba(0, 0, 0, 0.15);\n",
              "      filter: drop-shadow(0px 1px 2px rgba(0, 0, 0, 0.3));\n",
              "      fill: #FFFFFF;\n",
              "    }\n",
              "  </style>\n",
              "\n",
              "    <script>\n",
              "      const buttonEl =\n",
              "        document.querySelector('#df-6dc972c4-e5a0-4696-9432-2e213637b682 button.colab-df-convert');\n",
              "      buttonEl.style.display =\n",
              "        google.colab.kernel.accessAllowed ? 'block' : 'none';\n",
              "\n",
              "      async function convertToInteractive(key) {\n",
              "        const element = document.querySelector('#df-6dc972c4-e5a0-4696-9432-2e213637b682');\n",
              "        const dataTable =\n",
              "          await google.colab.kernel.invokeFunction('convertToInteractive',\n",
              "                                                    [key], {});\n",
              "        if (!dataTable) return;\n",
              "\n",
              "        const docLinkHtml = 'Like what you see? Visit the ' +\n",
              "          '<a target=\"_blank\" href=https://colab.research.google.com/notebooks/data_table.ipynb>data table notebook</a>'\n",
              "          + ' to learn more about interactive tables.';\n",
              "        element.innerHTML = '';\n",
              "        dataTable['output_type'] = 'display_data';\n",
              "        await google.colab.output.renderOutput(dataTable, element);\n",
              "        const docLink = document.createElement('div');\n",
              "        docLink.innerHTML = docLinkHtml;\n",
              "        element.appendChild(docLink);\n",
              "      }\n",
              "    </script>\n",
              "  </div>\n",
              "\n",
              "\n",
              "<div id=\"df-bd776b34-abb8-4cc5-ba61-b1cfa9f539a9\">\n",
              "  <button class=\"colab-df-quickchart\" onclick=\"quickchart('df-bd776b34-abb8-4cc5-ba61-b1cfa9f539a9')\"\n",
              "            title=\"Suggest charts\"\n",
              "            style=\"display:none;\">\n",
              "\n",
              "<svg xmlns=\"http://www.w3.org/2000/svg\" height=\"24px\"viewBox=\"0 0 24 24\"\n",
              "     width=\"24px\">\n",
              "    <g>\n",
              "        <path d=\"M19 3H5c-1.1 0-2 .9-2 2v14c0 1.1.9 2 2 2h14c1.1 0 2-.9 2-2V5c0-1.1-.9-2-2-2zM9 17H7v-7h2v7zm4 0h-2V7h2v10zm4 0h-2v-4h2v4z\"/>\n",
              "    </g>\n",
              "</svg>\n",
              "  </button>\n",
              "\n",
              "<style>\n",
              "  .colab-df-quickchart {\n",
              "      --bg-color: #E8F0FE;\n",
              "      --fill-color: #1967D2;\n",
              "      --hover-bg-color: #E2EBFA;\n",
              "      --hover-fill-color: #174EA6;\n",
              "      --disabled-fill-color: #AAA;\n",
              "      --disabled-bg-color: #DDD;\n",
              "  }\n",
              "\n",
              "  [theme=dark] .colab-df-quickchart {\n",
              "      --bg-color: #3B4455;\n",
              "      --fill-color: #D2E3FC;\n",
              "      --hover-bg-color: #434B5C;\n",
              "      --hover-fill-color: #FFFFFF;\n",
              "      --disabled-bg-color: #3B4455;\n",
              "      --disabled-fill-color: #666;\n",
              "  }\n",
              "\n",
              "  .colab-df-quickchart {\n",
              "    background-color: var(--bg-color);\n",
              "    border: none;\n",
              "    border-radius: 50%;\n",
              "    cursor: pointer;\n",
              "    display: none;\n",
              "    fill: var(--fill-color);\n",
              "    height: 32px;\n",
              "    padding: 0;\n",
              "    width: 32px;\n",
              "  }\n",
              "\n",
              "  .colab-df-quickchart:hover {\n",
              "    background-color: var(--hover-bg-color);\n",
              "    box-shadow: 0 1px 2px rgba(60, 64, 67, 0.3), 0 1px 3px 1px rgba(60, 64, 67, 0.15);\n",
              "    fill: var(--button-hover-fill-color);\n",
              "  }\n",
              "\n",
              "  .colab-df-quickchart-complete:disabled,\n",
              "  .colab-df-quickchart-complete:disabled:hover {\n",
              "    background-color: var(--disabled-bg-color);\n",
              "    fill: var(--disabled-fill-color);\n",
              "    box-shadow: none;\n",
              "  }\n",
              "\n",
              "  .colab-df-spinner {\n",
              "    border: 2px solid var(--fill-color);\n",
              "    border-color: transparent;\n",
              "    border-bottom-color: var(--fill-color);\n",
              "    animation:\n",
              "      spin 1s steps(1) infinite;\n",
              "  }\n",
              "\n",
              "  @keyframes spin {\n",
              "    0% {\n",
              "      border-color: transparent;\n",
              "      border-bottom-color: var(--fill-color);\n",
              "      border-left-color: var(--fill-color);\n",
              "    }\n",
              "    20% {\n",
              "      border-color: transparent;\n",
              "      border-left-color: var(--fill-color);\n",
              "      border-top-color: var(--fill-color);\n",
              "    }\n",
              "    30% {\n",
              "      border-color: transparent;\n",
              "      border-left-color: var(--fill-color);\n",
              "      border-top-color: var(--fill-color);\n",
              "      border-right-color: var(--fill-color);\n",
              "    }\n",
              "    40% {\n",
              "      border-color: transparent;\n",
              "      border-right-color: var(--fill-color);\n",
              "      border-top-color: var(--fill-color);\n",
              "    }\n",
              "    60% {\n",
              "      border-color: transparent;\n",
              "      border-right-color: var(--fill-color);\n",
              "    }\n",
              "    80% {\n",
              "      border-color: transparent;\n",
              "      border-right-color: var(--fill-color);\n",
              "      border-bottom-color: var(--fill-color);\n",
              "    }\n",
              "    90% {\n",
              "      border-color: transparent;\n",
              "      border-bottom-color: var(--fill-color);\n",
              "    }\n",
              "  }\n",
              "</style>\n",
              "\n",
              "  <script>\n",
              "    async function quickchart(key) {\n",
              "      const quickchartButtonEl =\n",
              "        document.querySelector('#' + key + ' button');\n",
              "      quickchartButtonEl.disabled = true;  // To prevent multiple clicks.\n",
              "      quickchartButtonEl.classList.add('colab-df-spinner');\n",
              "      try {\n",
              "        const charts = await google.colab.kernel.invokeFunction(\n",
              "            'suggestCharts', [key], {});\n",
              "      } catch (error) {\n",
              "        console.error('Error during call to suggestCharts:', error);\n",
              "      }\n",
              "      quickchartButtonEl.classList.remove('colab-df-spinner');\n",
              "      quickchartButtonEl.classList.add('colab-df-quickchart-complete');\n",
              "    }\n",
              "    (() => {\n",
              "      let quickchartButtonEl =\n",
              "        document.querySelector('#df-bd776b34-abb8-4cc5-ba61-b1cfa9f539a9 button');\n",
              "      quickchartButtonEl.style.display =\n",
              "        google.colab.kernel.accessAllowed ? 'block' : 'none';\n",
              "    })();\n",
              "  </script>\n",
              "</div>\n",
              "\n",
              "    </div>\n",
              "  </div>\n"
            ],
            "application/vnd.google.colaboratory.intrinsic+json": {
              "type": "dataframe",
              "variable_name": "train_data",
              "summary": "{\n  \"name\": \"train_data\",\n  \"rows\": 31653,\n  \"fields\": [\n    {\n      \"column\": \"Transaction ID\",\n      \"properties\": {\n        \"dtype\": \"string\",\n        \"num_unique_values\": 31653,\n        \"samples\": [\n          \"5cba8154-329e-4670-805b\",\n          \"cc742a5e-bce6-440e-96f1\",\n          \"2c1cd8e6-031d-498a-9acd\"\n        ],\n        \"semantic_type\": \"\",\n        \"description\": \"\"\n      }\n    },\n    {\n      \"column\": \"Date of Purchase\",\n      \"properties\": {\n        \"dtype\": \"object\",\n        \"num_unique_values\": 128,\n        \"samples\": [\n          \"2024-02-18\",\n          \"2024-02-03\",\n          \"2024-01-13\"\n        ],\n        \"semantic_type\": \"\",\n        \"description\": \"\"\n      }\n    },\n    {\n      \"column\": \"Time of Purchase\",\n      \"properties\": {\n        \"dtype\": \"object\",\n        \"num_unique_values\": 24351,\n        \"samples\": [\n          \"09:39:16\",\n          \"07:46:14\",\n          \"12:46:48\"\n        ],\n        \"semantic_type\": \"\",\n        \"description\": \"\"\n      }\n    },\n    {\n      \"column\": \"Purchase Type\",\n      \"properties\": {\n        \"dtype\": \"category\",\n        \"num_unique_values\": 2,\n        \"samples\": [\n          \"Station\",\n          \"Online\"\n        ],\n        \"semantic_type\": \"\",\n        \"description\": \"\"\n      }\n    },\n    {\n      \"column\": \"Payment Method\",\n      \"properties\": {\n        \"dtype\": \"category\",\n        \"num_unique_values\": 3,\n        \"samples\": [\n          \"Contactless\",\n          \"Credit Card\"\n        ],\n        \"semantic_type\": \"\",\n        \"description\": \"\"\n      }\n    },\n    {\n      \"column\": \"Railcard\",\n      \"properties\": {\n        \"dtype\": \"category\",\n        \"num_unique_values\": 3,\n        \"samples\": [\n          \"Adult\",\n          \"Disabled\"\n        ],\n        \"semantic_type\": \"\",\n        \"description\": \"\"\n      }\n    },\n    {\n      \"column\": \"Ticket Class\",\n      \"properties\": {\n        \"dtype\": \"category\",\n        \"num_unique_values\": 2,\n        \"samples\": [\n          \"First Class\",\n          \"Standard\"\n        ],\n        \"semantic_type\": \"\",\n        \"description\": \"\"\n      }\n    },\n    {\n      \"column\": \"Ticket Type\",\n      \"properties\": {\n        \"dtype\": \"category\",\n        \"num_unique_values\": 3,\n        \"samples\": [\n          \"Advance\",\n          \"Off-Peak\"\n        ],\n        \"semantic_type\": \"\",\n        \"description\": \"\"\n      }\n    },\n    {\n      \"column\": \"Price\",\n      \"properties\": {\n        \"dtype\": \"number\",\n        \"std\": 29,\n        \"min\": 1,\n        \"max\": 267,\n        \"num_unique_values\": 125,\n        \"samples\": [\n          33,\n          22\n        ],\n        \"semantic_type\": \"\",\n        \"description\": \"\"\n      }\n    },\n    {\n      \"column\": \"Departure Station\",\n      \"properties\": {\n        \"dtype\": \"category\",\n        \"num_unique_values\": 12,\n        \"samples\": [\n          \"Edinburgh Waverley\",\n          \"Reading\"\n        ],\n        \"semantic_type\": \"\",\n        \"description\": \"\"\n      }\n    },\n    {\n      \"column\": \"Arrival Destination\",\n      \"properties\": {\n        \"dtype\": \"category\",\n        \"num_unique_values\": 32,\n        \"samples\": [\n          \"Wakefield\",\n          \"Leeds\"\n        ],\n        \"semantic_type\": \"\",\n        \"description\": \"\"\n      }\n    },\n    {\n      \"column\": \"Date of Journey\",\n      \"properties\": {\n        \"dtype\": \"object\",\n        \"num_unique_values\": 121,\n        \"samples\": [\n          \"2024-01-29\",\n          \"2024-02-18\"\n        ],\n        \"semantic_type\": \"\",\n        \"description\": \"\"\n      }\n    },\n    {\n      \"column\": \"Departure Time\",\n      \"properties\": {\n        \"dtype\": \"object\",\n        \"num_unique_values\": 96,\n        \"samples\": [\n          \"10:15:00\",\n          \"04:45:00\"\n        ],\n        \"semantic_type\": \"\",\n        \"description\": \"\"\n      }\n    },\n    {\n      \"column\": \"Arrival Time\",\n      \"properties\": {\n        \"dtype\": \"object\",\n        \"num_unique_values\": 203,\n        \"samples\": [\n          \"08:45:00\",\n          \"02:30:00\"\n        ],\n        \"semantic_type\": \"\",\n        \"description\": \"\"\n      }\n    },\n    {\n      \"column\": \"Actual Arrival Time\",\n      \"properties\": {\n        \"dtype\": \"object\",\n        \"num_unique_values\": 623,\n        \"samples\": [\n          \"12:32:00\",\n          \"11:43:00\"\n        ],\n        \"semantic_type\": \"\",\n        \"description\": \"\"\n      }\n    },\n    {\n      \"column\": \"Journey Status\",\n      \"properties\": {\n        \"dtype\": \"category\",\n        \"num_unique_values\": 3,\n        \"samples\": [\n          \"On Time\",\n          \"Delayed\"\n        ],\n        \"semantic_type\": \"\",\n        \"description\": \"\"\n      }\n    },\n    {\n      \"column\": \"Reason for Delay\",\n      \"properties\": {\n        \"dtype\": \"category\",\n        \"num_unique_values\": 8,\n        \"samples\": [\n          \"Technical Issue\",\n          \"Staff Shortage\"\n        ],\n        \"semantic_type\": \"\",\n        \"description\": \"\"\n      }\n    },\n    {\n      \"column\": \"Refund Request\",\n      \"properties\": {\n        \"dtype\": \"category\",\n        \"num_unique_values\": 2,\n        \"samples\": [\n          \"Yes\",\n          \"No\"\n        ],\n        \"semantic_type\": \"\",\n        \"description\": \"\"\n      }\n    }\n  ]\n}"
            }
          },
          "metadata": {},
          "execution_count": 2
        }
      ],
      "source": [
        "train_data.head()"
      ]
    },
    {
      "cell_type": "code",
      "execution_count": 3,
      "metadata": {
        "colab": {
          "base_uri": "https://localhost:8080/"
        },
        "id": "xBYpE65PPOQI",
        "outputId": "3bd08f08-fb6a-4674-f499-6ae53202c5a2"
      },
      "outputs": [
        {
          "output_type": "stream",
          "name": "stdout",
          "text": [
            "<class 'pandas.core.frame.DataFrame'>\n",
            "RangeIndex: 31653 entries, 0 to 31652\n",
            "Data columns (total 18 columns):\n",
            " #   Column               Non-Null Count  Dtype \n",
            "---  ------               --------------  ----- \n",
            " 0   Transaction ID       31653 non-null  object\n",
            " 1   Date of Purchase     31653 non-null  object\n",
            " 2   Time of Purchase     31653 non-null  object\n",
            " 3   Purchase Type        31653 non-null  object\n",
            " 4   Payment Method       31653 non-null  object\n",
            " 5   Railcard             10735 non-null  object\n",
            " 6   Ticket Class         31653 non-null  object\n",
            " 7   Ticket Type          31653 non-null  object\n",
            " 8   Price                31653 non-null  int64 \n",
            " 9   Departure Station    31653 non-null  object\n",
            " 10  Arrival Destination  31653 non-null  object\n",
            " 11  Date of Journey      31653 non-null  object\n",
            " 12  Departure Time       31653 non-null  object\n",
            " 13  Arrival Time         31653 non-null  object\n",
            " 14  Actual Arrival Time  29773 non-null  object\n",
            " 15  Journey Status       31653 non-null  object\n",
            " 16  Reason for Delay     4172 non-null   object\n",
            " 17  Refund Request       31653 non-null  object\n",
            "dtypes: int64(1), object(17)\n",
            "memory usage: 4.3+ MB\n"
          ]
        }
      ],
      "source": [
        "train_data.info()"
      ]
    },
    {
      "cell_type": "markdown",
      "source": [
        "## **1- Identifying NaNs:**"
      ],
      "metadata": {
        "id": "fckB5XD6H0QB"
      }
    },
    {
      "cell_type": "code",
      "source": [
        "train_data.isnull().sum()"
      ],
      "metadata": {
        "colab": {
          "base_uri": "https://localhost:8080/",
          "height": 0
        },
        "id": "MRrIdXIzIBdJ",
        "outputId": "76125156-1eed-4794-d37d-e57a1d27142b"
      },
      "execution_count": 4,
      "outputs": [
        {
          "output_type": "execute_result",
          "data": {
            "text/plain": [
              "Transaction ID             0\n",
              "Date of Purchase           0\n",
              "Time of Purchase           0\n",
              "Purchase Type              0\n",
              "Payment Method             0\n",
              "Railcard               20918\n",
              "Ticket Class               0\n",
              "Ticket Type                0\n",
              "Price                      0\n",
              "Departure Station          0\n",
              "Arrival Destination        0\n",
              "Date of Journey            0\n",
              "Departure Time             0\n",
              "Arrival Time               0\n",
              "Actual Arrival Time     1880\n",
              "Journey Status             0\n",
              "Reason for Delay       27481\n",
              "Refund Request             0\n",
              "dtype: int64"
            ],
            "text/html": [
              "<div>\n",
              "<style scoped>\n",
              "    .dataframe tbody tr th:only-of-type {\n",
              "        vertical-align: middle;\n",
              "    }\n",
              "\n",
              "    .dataframe tbody tr th {\n",
              "        vertical-align: top;\n",
              "    }\n",
              "\n",
              "    .dataframe thead th {\n",
              "        text-align: right;\n",
              "    }\n",
              "</style>\n",
              "<table border=\"1\" class=\"dataframe\">\n",
              "  <thead>\n",
              "    <tr style=\"text-align: right;\">\n",
              "      <th></th>\n",
              "      <th>0</th>\n",
              "    </tr>\n",
              "  </thead>\n",
              "  <tbody>\n",
              "    <tr>\n",
              "      <th>Transaction ID</th>\n",
              "      <td>0</td>\n",
              "    </tr>\n",
              "    <tr>\n",
              "      <th>Date of Purchase</th>\n",
              "      <td>0</td>\n",
              "    </tr>\n",
              "    <tr>\n",
              "      <th>Time of Purchase</th>\n",
              "      <td>0</td>\n",
              "    </tr>\n",
              "    <tr>\n",
              "      <th>Purchase Type</th>\n",
              "      <td>0</td>\n",
              "    </tr>\n",
              "    <tr>\n",
              "      <th>Payment Method</th>\n",
              "      <td>0</td>\n",
              "    </tr>\n",
              "    <tr>\n",
              "      <th>Railcard</th>\n",
              "      <td>20918</td>\n",
              "    </tr>\n",
              "    <tr>\n",
              "      <th>Ticket Class</th>\n",
              "      <td>0</td>\n",
              "    </tr>\n",
              "    <tr>\n",
              "      <th>Ticket Type</th>\n",
              "      <td>0</td>\n",
              "    </tr>\n",
              "    <tr>\n",
              "      <th>Price</th>\n",
              "      <td>0</td>\n",
              "    </tr>\n",
              "    <tr>\n",
              "      <th>Departure Station</th>\n",
              "      <td>0</td>\n",
              "    </tr>\n",
              "    <tr>\n",
              "      <th>Arrival Destination</th>\n",
              "      <td>0</td>\n",
              "    </tr>\n",
              "    <tr>\n",
              "      <th>Date of Journey</th>\n",
              "      <td>0</td>\n",
              "    </tr>\n",
              "    <tr>\n",
              "      <th>Departure Time</th>\n",
              "      <td>0</td>\n",
              "    </tr>\n",
              "    <tr>\n",
              "      <th>Arrival Time</th>\n",
              "      <td>0</td>\n",
              "    </tr>\n",
              "    <tr>\n",
              "      <th>Actual Arrival Time</th>\n",
              "      <td>1880</td>\n",
              "    </tr>\n",
              "    <tr>\n",
              "      <th>Journey Status</th>\n",
              "      <td>0</td>\n",
              "    </tr>\n",
              "    <tr>\n",
              "      <th>Reason for Delay</th>\n",
              "      <td>27481</td>\n",
              "    </tr>\n",
              "    <tr>\n",
              "      <th>Refund Request</th>\n",
              "      <td>0</td>\n",
              "    </tr>\n",
              "  </tbody>\n",
              "</table>\n",
              "</div><br><label><b>dtype:</b> int64</label>"
            ]
          },
          "metadata": {},
          "execution_count": 4
        }
      ]
    },
    {
      "cell_type": "markdown",
      "metadata": {
        "id": "1vTKgATKz7Pe"
      },
      "source": [
        "\n",
        "\n",
        "As you can see, we have **three** columns with NaN values, specifically the 'Railcard' , 'Reason For delay' and  'Actual Arrival Time' columns. Two of which have logical reasons behind their missing values.\n",
        "\n",
        "First, the Railcard columnis left empty in the case a passanger is not a National Railcard Holder, therefore it makes sense to be have missing values.\n",
        "\n",
        "Second, the Reason For Delay column is left empty in the case of no delays, which is logically reasonable.\n",
        "\n",
        "Finally, the Actual Arrival Time column is left without an excuse for having empty spaces, this will be addressed further in the cleaning section.\n",
        "\n",
        "\n",
        "---"
      ]
    },
    {
      "cell_type": "markdown",
      "source": [
        "## **2-Duplicate Rows:**\n"
      ],
      "metadata": {
        "id": "yvLGitjYIsCC"
      }
    },
    {
      "cell_type": "markdown",
      "source": [
        "Now, we will check for duplicate rows of data."
      ],
      "metadata": {
        "id": "hCQceLmZIwAi"
      }
    },
    {
      "cell_type": "code",
      "execution_count": 5,
      "metadata": {
        "colab": {
          "base_uri": "https://localhost:8080/"
        },
        "id": "U0t_V_to1V6X",
        "outputId": "e98601b0-0f01-43b1-925a-16f3f2485ae5"
      },
      "outputs": [
        {
          "output_type": "execute_result",
          "data": {
            "text/plain": [
              "np.int64(0)"
            ]
          },
          "metadata": {},
          "execution_count": 5
        }
      ],
      "source": [
        "train_data.duplicated().sum()"
      ]
    },
    {
      "cell_type": "markdown",
      "metadata": {
        "id": "oFPCqnAT1nQd"
      },
      "source": [
        "No duplicated rows of data is a sign of a complete, safe datset, but we must keep making sure of that before analysing.\n",
        "\n",
        "---\n"
      ]
    },
    {
      "cell_type": "markdown",
      "source": [
        "## **3-Checking for Mixed Data Types:**\n"
      ],
      "metadata": {
        "id": "7CMOUisni_oS"
      }
    },
    {
      "cell_type": "markdown",
      "source": [
        "Our next step is checking if the data types match."
      ],
      "metadata": {
        "id": "av0y0N3sjClo"
      }
    },
    {
      "cell_type": "code",
      "execution_count": 6,
      "metadata": {
        "colab": {
          "base_uri": "https://localhost:8080/"
        },
        "id": "XQY58SKD15DG",
        "outputId": "a3ce6fca-620f-4b10-bf12-390891d714fb"
      },
      "outputs": [
        {
          "output_type": "stream",
          "name": "stdout",
          "text": [
            "<class 'pandas.core.frame.DataFrame'>\n",
            "RangeIndex: 31653 entries, 0 to 31652\n",
            "Data columns (total 18 columns):\n",
            " #   Column               Non-Null Count  Dtype \n",
            "---  ------               --------------  ----- \n",
            " 0   Transaction ID       31653 non-null  object\n",
            " 1   Date of Purchase     31653 non-null  object\n",
            " 2   Time of Purchase     31653 non-null  object\n",
            " 3   Purchase Type        31653 non-null  object\n",
            " 4   Payment Method       31653 non-null  object\n",
            " 5   Railcard             10735 non-null  object\n",
            " 6   Ticket Class         31653 non-null  object\n",
            " 7   Ticket Type          31653 non-null  object\n",
            " 8   Price                31653 non-null  int64 \n",
            " 9   Departure Station    31653 non-null  object\n",
            " 10  Arrival Destination  31653 non-null  object\n",
            " 11  Date of Journey      31653 non-null  object\n",
            " 12  Departure Time       31653 non-null  object\n",
            " 13  Arrival Time         31653 non-null  object\n",
            " 14  Actual Arrival Time  29773 non-null  object\n",
            " 15  Journey Status       31653 non-null  object\n",
            " 16  Reason for Delay     4172 non-null   object\n",
            " 17  Refund Request       31653 non-null  object\n",
            "dtypes: int64(1), object(17)\n",
            "memory usage: 4.3+ MB\n"
          ]
        }
      ],
      "source": [
        "train_data.info()"
      ]
    },
    {
      "cell_type": "code",
      "execution_count": 7,
      "metadata": {
        "colab": {
          "base_uri": "https://localhost:8080/",
          "height": 0
        },
        "id": "cBH4jPHT17sF",
        "outputId": "d36984aa-1f96-4113-c6ab-a61b3fb25fe9"
      },
      "outputs": [
        {
          "output_type": "execute_result",
          "data": {
            "text/plain": [
              "            Transaction ID Date of Purchase Time of Purchase Purchase Type  \\\n",
              "0  da8a6ba8-b3dc-4677-b176       2023-12-08         12:41:11        Online   \n",
              "1  b0cdd1b0-f214-4197-be53       2023-12-16         11:23:01       Station   \n",
              "2  f3ba7a96-f713-40d9-9629       2023-12-19         19:51:27        Online   \n",
              "3  b2471f11-4fe7-4c87-8ab4       2023-12-20         23:00:36       Station   \n",
              "4  2be00b45-0762-485e-a7a3       2023-12-27         18:22:56        Online   \n",
              "\n",
              "  Payment Method Railcard Ticket Class Ticket Type  Price  \\\n",
              "0    Contactless    Adult     Standard     Advance     43   \n",
              "1    Credit Card    Adult     Standard     Advance     23   \n",
              "2    Credit Card      NaN     Standard     Advance      3   \n",
              "3    Credit Card      NaN     Standard     Advance     13   \n",
              "4    Contactless      NaN     Standard     Advance     76   \n",
              "\n",
              "       Departure Station    Arrival Destination Date of Journey  \\\n",
              "0      London Paddington  Liverpool Lime Street      2024-01-01   \n",
              "1     London Kings Cross                   York      2024-01-01   \n",
              "2  Liverpool Lime Street  Manchester Piccadilly      2024-01-02   \n",
              "3      London Paddington                Reading      2024-01-01   \n",
              "4  Liverpool Lime Street          London Euston      2024-01-01   \n",
              "\n",
              "  Departure Time Arrival Time Actual Arrival Time Journey Status  \\\n",
              "0       11:00:00     13:30:00            13:30:00        On Time   \n",
              "1       09:45:00     11:35:00            11:40:00        Delayed   \n",
              "2       18:15:00     18:45:00            18:45:00        On Time   \n",
              "3       21:30:00     22:30:00            22:30:00        On Time   \n",
              "4       16:45:00     19:00:00            19:00:00        On Time   \n",
              "\n",
              "  Reason for Delay Refund Request  \n",
              "0              NaN             No  \n",
              "1   Signal Failure             No  \n",
              "2              NaN             No  \n",
              "3              NaN             No  \n",
              "4              NaN             No  "
            ],
            "text/html": [
              "\n",
              "  <div id=\"df-2b1e9c82-98b0-4b74-a0e8-fb5428b6ce02\" class=\"colab-df-container\">\n",
              "    <div>\n",
              "<style scoped>\n",
              "    .dataframe tbody tr th:only-of-type {\n",
              "        vertical-align: middle;\n",
              "    }\n",
              "\n",
              "    .dataframe tbody tr th {\n",
              "        vertical-align: top;\n",
              "    }\n",
              "\n",
              "    .dataframe thead th {\n",
              "        text-align: right;\n",
              "    }\n",
              "</style>\n",
              "<table border=\"1\" class=\"dataframe\">\n",
              "  <thead>\n",
              "    <tr style=\"text-align: right;\">\n",
              "      <th></th>\n",
              "      <th>Transaction ID</th>\n",
              "      <th>Date of Purchase</th>\n",
              "      <th>Time of Purchase</th>\n",
              "      <th>Purchase Type</th>\n",
              "      <th>Payment Method</th>\n",
              "      <th>Railcard</th>\n",
              "      <th>Ticket Class</th>\n",
              "      <th>Ticket Type</th>\n",
              "      <th>Price</th>\n",
              "      <th>Departure Station</th>\n",
              "      <th>Arrival Destination</th>\n",
              "      <th>Date of Journey</th>\n",
              "      <th>Departure Time</th>\n",
              "      <th>Arrival Time</th>\n",
              "      <th>Actual Arrival Time</th>\n",
              "      <th>Journey Status</th>\n",
              "      <th>Reason for Delay</th>\n",
              "      <th>Refund Request</th>\n",
              "    </tr>\n",
              "  </thead>\n",
              "  <tbody>\n",
              "    <tr>\n",
              "      <th>0</th>\n",
              "      <td>da8a6ba8-b3dc-4677-b176</td>\n",
              "      <td>2023-12-08</td>\n",
              "      <td>12:41:11</td>\n",
              "      <td>Online</td>\n",
              "      <td>Contactless</td>\n",
              "      <td>Adult</td>\n",
              "      <td>Standard</td>\n",
              "      <td>Advance</td>\n",
              "      <td>43</td>\n",
              "      <td>London Paddington</td>\n",
              "      <td>Liverpool Lime Street</td>\n",
              "      <td>2024-01-01</td>\n",
              "      <td>11:00:00</td>\n",
              "      <td>13:30:00</td>\n",
              "      <td>13:30:00</td>\n",
              "      <td>On Time</td>\n",
              "      <td>NaN</td>\n",
              "      <td>No</td>\n",
              "    </tr>\n",
              "    <tr>\n",
              "      <th>1</th>\n",
              "      <td>b0cdd1b0-f214-4197-be53</td>\n",
              "      <td>2023-12-16</td>\n",
              "      <td>11:23:01</td>\n",
              "      <td>Station</td>\n",
              "      <td>Credit Card</td>\n",
              "      <td>Adult</td>\n",
              "      <td>Standard</td>\n",
              "      <td>Advance</td>\n",
              "      <td>23</td>\n",
              "      <td>London Kings Cross</td>\n",
              "      <td>York</td>\n",
              "      <td>2024-01-01</td>\n",
              "      <td>09:45:00</td>\n",
              "      <td>11:35:00</td>\n",
              "      <td>11:40:00</td>\n",
              "      <td>Delayed</td>\n",
              "      <td>Signal Failure</td>\n",
              "      <td>No</td>\n",
              "    </tr>\n",
              "    <tr>\n",
              "      <th>2</th>\n",
              "      <td>f3ba7a96-f713-40d9-9629</td>\n",
              "      <td>2023-12-19</td>\n",
              "      <td>19:51:27</td>\n",
              "      <td>Online</td>\n",
              "      <td>Credit Card</td>\n",
              "      <td>NaN</td>\n",
              "      <td>Standard</td>\n",
              "      <td>Advance</td>\n",
              "      <td>3</td>\n",
              "      <td>Liverpool Lime Street</td>\n",
              "      <td>Manchester Piccadilly</td>\n",
              "      <td>2024-01-02</td>\n",
              "      <td>18:15:00</td>\n",
              "      <td>18:45:00</td>\n",
              "      <td>18:45:00</td>\n",
              "      <td>On Time</td>\n",
              "      <td>NaN</td>\n",
              "      <td>No</td>\n",
              "    </tr>\n",
              "    <tr>\n",
              "      <th>3</th>\n",
              "      <td>b2471f11-4fe7-4c87-8ab4</td>\n",
              "      <td>2023-12-20</td>\n",
              "      <td>23:00:36</td>\n",
              "      <td>Station</td>\n",
              "      <td>Credit Card</td>\n",
              "      <td>NaN</td>\n",
              "      <td>Standard</td>\n",
              "      <td>Advance</td>\n",
              "      <td>13</td>\n",
              "      <td>London Paddington</td>\n",
              "      <td>Reading</td>\n",
              "      <td>2024-01-01</td>\n",
              "      <td>21:30:00</td>\n",
              "      <td>22:30:00</td>\n",
              "      <td>22:30:00</td>\n",
              "      <td>On Time</td>\n",
              "      <td>NaN</td>\n",
              "      <td>No</td>\n",
              "    </tr>\n",
              "    <tr>\n",
              "      <th>4</th>\n",
              "      <td>2be00b45-0762-485e-a7a3</td>\n",
              "      <td>2023-12-27</td>\n",
              "      <td>18:22:56</td>\n",
              "      <td>Online</td>\n",
              "      <td>Contactless</td>\n",
              "      <td>NaN</td>\n",
              "      <td>Standard</td>\n",
              "      <td>Advance</td>\n",
              "      <td>76</td>\n",
              "      <td>Liverpool Lime Street</td>\n",
              "      <td>London Euston</td>\n",
              "      <td>2024-01-01</td>\n",
              "      <td>16:45:00</td>\n",
              "      <td>19:00:00</td>\n",
              "      <td>19:00:00</td>\n",
              "      <td>On Time</td>\n",
              "      <td>NaN</td>\n",
              "      <td>No</td>\n",
              "    </tr>\n",
              "  </tbody>\n",
              "</table>\n",
              "</div>\n",
              "    <div class=\"colab-df-buttons\">\n",
              "\n",
              "  <div class=\"colab-df-container\">\n",
              "    <button class=\"colab-df-convert\" onclick=\"convertToInteractive('df-2b1e9c82-98b0-4b74-a0e8-fb5428b6ce02')\"\n",
              "            title=\"Convert this dataframe to an interactive table.\"\n",
              "            style=\"display:none;\">\n",
              "\n",
              "  <svg xmlns=\"http://www.w3.org/2000/svg\" height=\"24px\" viewBox=\"0 -960 960 960\">\n",
              "    <path d=\"M120-120v-720h720v720H120Zm60-500h600v-160H180v160Zm220 220h160v-160H400v160Zm0 220h160v-160H400v160ZM180-400h160v-160H180v160Zm440 0h160v-160H620v160ZM180-180h160v-160H180v160Zm440 0h160v-160H620v160Z\"/>\n",
              "  </svg>\n",
              "    </button>\n",
              "\n",
              "  <style>\n",
              "    .colab-df-container {\n",
              "      display:flex;\n",
              "      gap: 12px;\n",
              "    }\n",
              "\n",
              "    .colab-df-convert {\n",
              "      background-color: #E8F0FE;\n",
              "      border: none;\n",
              "      border-radius: 50%;\n",
              "      cursor: pointer;\n",
              "      display: none;\n",
              "      fill: #1967D2;\n",
              "      height: 32px;\n",
              "      padding: 0 0 0 0;\n",
              "      width: 32px;\n",
              "    }\n",
              "\n",
              "    .colab-df-convert:hover {\n",
              "      background-color: #E2EBFA;\n",
              "      box-shadow: 0px 1px 2px rgba(60, 64, 67, 0.3), 0px 1px 3px 1px rgba(60, 64, 67, 0.15);\n",
              "      fill: #174EA6;\n",
              "    }\n",
              "\n",
              "    .colab-df-buttons div {\n",
              "      margin-bottom: 4px;\n",
              "    }\n",
              "\n",
              "    [theme=dark] .colab-df-convert {\n",
              "      background-color: #3B4455;\n",
              "      fill: #D2E3FC;\n",
              "    }\n",
              "\n",
              "    [theme=dark] .colab-df-convert:hover {\n",
              "      background-color: #434B5C;\n",
              "      box-shadow: 0px 1px 3px 1px rgba(0, 0, 0, 0.15);\n",
              "      filter: drop-shadow(0px 1px 2px rgba(0, 0, 0, 0.3));\n",
              "      fill: #FFFFFF;\n",
              "    }\n",
              "  </style>\n",
              "\n",
              "    <script>\n",
              "      const buttonEl =\n",
              "        document.querySelector('#df-2b1e9c82-98b0-4b74-a0e8-fb5428b6ce02 button.colab-df-convert');\n",
              "      buttonEl.style.display =\n",
              "        google.colab.kernel.accessAllowed ? 'block' : 'none';\n",
              "\n",
              "      async function convertToInteractive(key) {\n",
              "        const element = document.querySelector('#df-2b1e9c82-98b0-4b74-a0e8-fb5428b6ce02');\n",
              "        const dataTable =\n",
              "          await google.colab.kernel.invokeFunction('convertToInteractive',\n",
              "                                                    [key], {});\n",
              "        if (!dataTable) return;\n",
              "\n",
              "        const docLinkHtml = 'Like what you see? Visit the ' +\n",
              "          '<a target=\"_blank\" href=https://colab.research.google.com/notebooks/data_table.ipynb>data table notebook</a>'\n",
              "          + ' to learn more about interactive tables.';\n",
              "        element.innerHTML = '';\n",
              "        dataTable['output_type'] = 'display_data';\n",
              "        await google.colab.output.renderOutput(dataTable, element);\n",
              "        const docLink = document.createElement('div');\n",
              "        docLink.innerHTML = docLinkHtml;\n",
              "        element.appendChild(docLink);\n",
              "      }\n",
              "    </script>\n",
              "  </div>\n",
              "\n",
              "\n",
              "<div id=\"df-50db4bd2-fb3c-4bf1-bf4f-ce15fcedeb79\">\n",
              "  <button class=\"colab-df-quickchart\" onclick=\"quickchart('df-50db4bd2-fb3c-4bf1-bf4f-ce15fcedeb79')\"\n",
              "            title=\"Suggest charts\"\n",
              "            style=\"display:none;\">\n",
              "\n",
              "<svg xmlns=\"http://www.w3.org/2000/svg\" height=\"24px\"viewBox=\"0 0 24 24\"\n",
              "     width=\"24px\">\n",
              "    <g>\n",
              "        <path d=\"M19 3H5c-1.1 0-2 .9-2 2v14c0 1.1.9 2 2 2h14c1.1 0 2-.9 2-2V5c0-1.1-.9-2-2-2zM9 17H7v-7h2v7zm4 0h-2V7h2v10zm4 0h-2v-4h2v4z\"/>\n",
              "    </g>\n",
              "</svg>\n",
              "  </button>\n",
              "\n",
              "<style>\n",
              "  .colab-df-quickchart {\n",
              "      --bg-color: #E8F0FE;\n",
              "      --fill-color: #1967D2;\n",
              "      --hover-bg-color: #E2EBFA;\n",
              "      --hover-fill-color: #174EA6;\n",
              "      --disabled-fill-color: #AAA;\n",
              "      --disabled-bg-color: #DDD;\n",
              "  }\n",
              "\n",
              "  [theme=dark] .colab-df-quickchart {\n",
              "      --bg-color: #3B4455;\n",
              "      --fill-color: #D2E3FC;\n",
              "      --hover-bg-color: #434B5C;\n",
              "      --hover-fill-color: #FFFFFF;\n",
              "      --disabled-bg-color: #3B4455;\n",
              "      --disabled-fill-color: #666;\n",
              "  }\n",
              "\n",
              "  .colab-df-quickchart {\n",
              "    background-color: var(--bg-color);\n",
              "    border: none;\n",
              "    border-radius: 50%;\n",
              "    cursor: pointer;\n",
              "    display: none;\n",
              "    fill: var(--fill-color);\n",
              "    height: 32px;\n",
              "    padding: 0;\n",
              "    width: 32px;\n",
              "  }\n",
              "\n",
              "  .colab-df-quickchart:hover {\n",
              "    background-color: var(--hover-bg-color);\n",
              "    box-shadow: 0 1px 2px rgba(60, 64, 67, 0.3), 0 1px 3px 1px rgba(60, 64, 67, 0.15);\n",
              "    fill: var(--button-hover-fill-color);\n",
              "  }\n",
              "\n",
              "  .colab-df-quickchart-complete:disabled,\n",
              "  .colab-df-quickchart-complete:disabled:hover {\n",
              "    background-color: var(--disabled-bg-color);\n",
              "    fill: var(--disabled-fill-color);\n",
              "    box-shadow: none;\n",
              "  }\n",
              "\n",
              "  .colab-df-spinner {\n",
              "    border: 2px solid var(--fill-color);\n",
              "    border-color: transparent;\n",
              "    border-bottom-color: var(--fill-color);\n",
              "    animation:\n",
              "      spin 1s steps(1) infinite;\n",
              "  }\n",
              "\n",
              "  @keyframes spin {\n",
              "    0% {\n",
              "      border-color: transparent;\n",
              "      border-bottom-color: var(--fill-color);\n",
              "      border-left-color: var(--fill-color);\n",
              "    }\n",
              "    20% {\n",
              "      border-color: transparent;\n",
              "      border-left-color: var(--fill-color);\n",
              "      border-top-color: var(--fill-color);\n",
              "    }\n",
              "    30% {\n",
              "      border-color: transparent;\n",
              "      border-left-color: var(--fill-color);\n",
              "      border-top-color: var(--fill-color);\n",
              "      border-right-color: var(--fill-color);\n",
              "    }\n",
              "    40% {\n",
              "      border-color: transparent;\n",
              "      border-right-color: var(--fill-color);\n",
              "      border-top-color: var(--fill-color);\n",
              "    }\n",
              "    60% {\n",
              "      border-color: transparent;\n",
              "      border-right-color: var(--fill-color);\n",
              "    }\n",
              "    80% {\n",
              "      border-color: transparent;\n",
              "      border-right-color: var(--fill-color);\n",
              "      border-bottom-color: var(--fill-color);\n",
              "    }\n",
              "    90% {\n",
              "      border-color: transparent;\n",
              "      border-bottom-color: var(--fill-color);\n",
              "    }\n",
              "  }\n",
              "</style>\n",
              "\n",
              "  <script>\n",
              "    async function quickchart(key) {\n",
              "      const quickchartButtonEl =\n",
              "        document.querySelector('#' + key + ' button');\n",
              "      quickchartButtonEl.disabled = true;  // To prevent multiple clicks.\n",
              "      quickchartButtonEl.classList.add('colab-df-spinner');\n",
              "      try {\n",
              "        const charts = await google.colab.kernel.invokeFunction(\n",
              "            'suggestCharts', [key], {});\n",
              "      } catch (error) {\n",
              "        console.error('Error during call to suggestCharts:', error);\n",
              "      }\n",
              "      quickchartButtonEl.classList.remove('colab-df-spinner');\n",
              "      quickchartButtonEl.classList.add('colab-df-quickchart-complete');\n",
              "    }\n",
              "    (() => {\n",
              "      let quickchartButtonEl =\n",
              "        document.querySelector('#df-50db4bd2-fb3c-4bf1-bf4f-ce15fcedeb79 button');\n",
              "      quickchartButtonEl.style.display =\n",
              "        google.colab.kernel.accessAllowed ? 'block' : 'none';\n",
              "    })();\n",
              "  </script>\n",
              "</div>\n",
              "\n",
              "    </div>\n",
              "  </div>\n"
            ],
            "application/vnd.google.colaboratory.intrinsic+json": {
              "type": "dataframe",
              "variable_name": "train_data",
              "summary": "{\n  \"name\": \"train_data\",\n  \"rows\": 31653,\n  \"fields\": [\n    {\n      \"column\": \"Transaction ID\",\n      \"properties\": {\n        \"dtype\": \"string\",\n        \"num_unique_values\": 31653,\n        \"samples\": [\n          \"5cba8154-329e-4670-805b\",\n          \"cc742a5e-bce6-440e-96f1\",\n          \"2c1cd8e6-031d-498a-9acd\"\n        ],\n        \"semantic_type\": \"\",\n        \"description\": \"\"\n      }\n    },\n    {\n      \"column\": \"Date of Purchase\",\n      \"properties\": {\n        \"dtype\": \"object\",\n        \"num_unique_values\": 128,\n        \"samples\": [\n          \"2024-02-18\",\n          \"2024-02-03\",\n          \"2024-01-13\"\n        ],\n        \"semantic_type\": \"\",\n        \"description\": \"\"\n      }\n    },\n    {\n      \"column\": \"Time of Purchase\",\n      \"properties\": {\n        \"dtype\": \"object\",\n        \"num_unique_values\": 24351,\n        \"samples\": [\n          \"09:39:16\",\n          \"07:46:14\",\n          \"12:46:48\"\n        ],\n        \"semantic_type\": \"\",\n        \"description\": \"\"\n      }\n    },\n    {\n      \"column\": \"Purchase Type\",\n      \"properties\": {\n        \"dtype\": \"category\",\n        \"num_unique_values\": 2,\n        \"samples\": [\n          \"Station\",\n          \"Online\"\n        ],\n        \"semantic_type\": \"\",\n        \"description\": \"\"\n      }\n    },\n    {\n      \"column\": \"Payment Method\",\n      \"properties\": {\n        \"dtype\": \"category\",\n        \"num_unique_values\": 3,\n        \"samples\": [\n          \"Contactless\",\n          \"Credit Card\"\n        ],\n        \"semantic_type\": \"\",\n        \"description\": \"\"\n      }\n    },\n    {\n      \"column\": \"Railcard\",\n      \"properties\": {\n        \"dtype\": \"category\",\n        \"num_unique_values\": 3,\n        \"samples\": [\n          \"Adult\",\n          \"Disabled\"\n        ],\n        \"semantic_type\": \"\",\n        \"description\": \"\"\n      }\n    },\n    {\n      \"column\": \"Ticket Class\",\n      \"properties\": {\n        \"dtype\": \"category\",\n        \"num_unique_values\": 2,\n        \"samples\": [\n          \"First Class\",\n          \"Standard\"\n        ],\n        \"semantic_type\": \"\",\n        \"description\": \"\"\n      }\n    },\n    {\n      \"column\": \"Ticket Type\",\n      \"properties\": {\n        \"dtype\": \"category\",\n        \"num_unique_values\": 3,\n        \"samples\": [\n          \"Advance\",\n          \"Off-Peak\"\n        ],\n        \"semantic_type\": \"\",\n        \"description\": \"\"\n      }\n    },\n    {\n      \"column\": \"Price\",\n      \"properties\": {\n        \"dtype\": \"number\",\n        \"std\": 29,\n        \"min\": 1,\n        \"max\": 267,\n        \"num_unique_values\": 125,\n        \"samples\": [\n          33,\n          22\n        ],\n        \"semantic_type\": \"\",\n        \"description\": \"\"\n      }\n    },\n    {\n      \"column\": \"Departure Station\",\n      \"properties\": {\n        \"dtype\": \"category\",\n        \"num_unique_values\": 12,\n        \"samples\": [\n          \"Edinburgh Waverley\",\n          \"Reading\"\n        ],\n        \"semantic_type\": \"\",\n        \"description\": \"\"\n      }\n    },\n    {\n      \"column\": \"Arrival Destination\",\n      \"properties\": {\n        \"dtype\": \"category\",\n        \"num_unique_values\": 32,\n        \"samples\": [\n          \"Wakefield\",\n          \"Leeds\"\n        ],\n        \"semantic_type\": \"\",\n        \"description\": \"\"\n      }\n    },\n    {\n      \"column\": \"Date of Journey\",\n      \"properties\": {\n        \"dtype\": \"object\",\n        \"num_unique_values\": 121,\n        \"samples\": [\n          \"2024-01-29\",\n          \"2024-02-18\"\n        ],\n        \"semantic_type\": \"\",\n        \"description\": \"\"\n      }\n    },\n    {\n      \"column\": \"Departure Time\",\n      \"properties\": {\n        \"dtype\": \"object\",\n        \"num_unique_values\": 96,\n        \"samples\": [\n          \"10:15:00\",\n          \"04:45:00\"\n        ],\n        \"semantic_type\": \"\",\n        \"description\": \"\"\n      }\n    },\n    {\n      \"column\": \"Arrival Time\",\n      \"properties\": {\n        \"dtype\": \"object\",\n        \"num_unique_values\": 203,\n        \"samples\": [\n          \"08:45:00\",\n          \"02:30:00\"\n        ],\n        \"semantic_type\": \"\",\n        \"description\": \"\"\n      }\n    },\n    {\n      \"column\": \"Actual Arrival Time\",\n      \"properties\": {\n        \"dtype\": \"object\",\n        \"num_unique_values\": 623,\n        \"samples\": [\n          \"12:32:00\",\n          \"11:43:00\"\n        ],\n        \"semantic_type\": \"\",\n        \"description\": \"\"\n      }\n    },\n    {\n      \"column\": \"Journey Status\",\n      \"properties\": {\n        \"dtype\": \"category\",\n        \"num_unique_values\": 3,\n        \"samples\": [\n          \"On Time\",\n          \"Delayed\"\n        ],\n        \"semantic_type\": \"\",\n        \"description\": \"\"\n      }\n    },\n    {\n      \"column\": \"Reason for Delay\",\n      \"properties\": {\n        \"dtype\": \"category\",\n        \"num_unique_values\": 8,\n        \"samples\": [\n          \"Technical Issue\",\n          \"Staff Shortage\"\n        ],\n        \"semantic_type\": \"\",\n        \"description\": \"\"\n      }\n    },\n    {\n      \"column\": \"Refund Request\",\n      \"properties\": {\n        \"dtype\": \"category\",\n        \"num_unique_values\": 2,\n        \"samples\": [\n          \"Yes\",\n          \"No\"\n        ],\n        \"semantic_type\": \"\",\n        \"description\": \"\"\n      }\n    }\n  ]\n}"
            }
          },
          "metadata": {},
          "execution_count": 7
        }
      ],
      "source": [
        "train_data.head()"
      ]
    },
    {
      "cell_type": "markdown",
      "metadata": {
        "id": "v75lMn6W2cg1"
      },
      "source": [
        "As can be seen, multiple rows are in the wrong category. Specifically: Date of Purchase is classified as an object, not date-time, same deal with date of journey.\n",
        "\n",
        "---\n",
        "\n"
      ]
    },
    {
      "cell_type": "markdown",
      "source": [
        "## **4-Categorical Consistency:**"
      ],
      "metadata": {
        "id": "tHX7UM-XjglY"
      }
    },
    {
      "cell_type": "markdown",
      "source": [
        "Now its time to make sure that the categorical data here is consistent, (ie male isnt written as m sometimes, things like that)."
      ],
      "metadata": {
        "id": "YMsEDn4Cjm9Q"
      }
    },
    {
      "cell_type": "code",
      "execution_count": 8,
      "metadata": {
        "colab": {
          "base_uri": "https://localhost:8080/"
        },
        "id": "rCapvngI3GX9",
        "outputId": "01f509d4-b0f1-452c-f731-0f699debe4cf"
      },
      "outputs": [
        {
          "output_type": "execute_result",
          "data": {
            "text/plain": [
              "array(['Adult', nan, 'Disabled', 'Senior'], dtype=object)"
            ]
          },
          "metadata": {},
          "execution_count": 8
        }
      ],
      "source": [
        "train_data['Railcard'].unique()"
      ]
    },
    {
      "cell_type": "code",
      "execution_count": 9,
      "metadata": {
        "colab": {
          "base_uri": "https://localhost:8080/"
        },
        "id": "VEcAuyzr3OQM",
        "outputId": "23aa1868-6f12-4a40-fbc7-035e0087194d"
      },
      "outputs": [
        {
          "output_type": "execute_result",
          "data": {
            "text/plain": [
              "array(['Advance', 'Off-Peak', 'Anytime'], dtype=object)"
            ]
          },
          "metadata": {},
          "execution_count": 9
        }
      ],
      "source": [
        "train_data['Ticket Type'].unique()"
      ]
    },
    {
      "cell_type": "code",
      "execution_count": 10,
      "metadata": {
        "colab": {
          "base_uri": "https://localhost:8080/"
        },
        "id": "HElxUGaB3aYE",
        "outputId": "e94eee0b-5de9-4685-ea14-82aa18c52ab8"
      },
      "outputs": [
        {
          "output_type": "execute_result",
          "data": {
            "text/plain": [
              "array(['Contactless', 'Credit Card', 'Debit Card'], dtype=object)"
            ]
          },
          "metadata": {},
          "execution_count": 10
        }
      ],
      "source": [
        "train_data['Payment Method'].unique()"
      ]
    },
    {
      "cell_type": "code",
      "execution_count": 11,
      "metadata": {
        "colab": {
          "base_uri": "https://localhost:8080/"
        },
        "id": "igteZLxZ3lCt",
        "outputId": "df321c27-f698-4879-9e3d-f30aac7a990c"
      },
      "outputs": [
        {
          "output_type": "execute_result",
          "data": {
            "text/plain": [
              "array(['Standard', 'First Class'], dtype=object)"
            ]
          },
          "metadata": {},
          "execution_count": 11
        }
      ],
      "source": [
        "train_data['Ticket Class'].unique()"
      ]
    },
    {
      "cell_type": "code",
      "execution_count": 12,
      "metadata": {
        "colab": {
          "base_uri": "https://localhost:8080/"
        },
        "id": "8v2XlUaC3tfk",
        "outputId": "ddaacffc-aada-435a-a713-4f347af5302c"
      },
      "outputs": [
        {
          "output_type": "execute_result",
          "data": {
            "text/plain": [
              "array(['No', 'Yes'], dtype=object)"
            ]
          },
          "metadata": {},
          "execution_count": 12
        }
      ],
      "source": [
        "train_data['Refund Request'].unique()"
      ]
    },
    {
      "cell_type": "code",
      "execution_count": 13,
      "metadata": {
        "colab": {
          "base_uri": "https://localhost:8080/"
        },
        "id": "j0hsd6DB4VdW",
        "outputId": "7711fea3-21f9-4c36-b224-64164376adab"
      },
      "outputs": [
        {
          "output_type": "execute_result",
          "data": {
            "text/plain": [
              "array(['On Time', 'Delayed', 'Cancelled'], dtype=object)"
            ]
          },
          "metadata": {},
          "execution_count": 13
        }
      ],
      "source": [
        "train_data['Journey Status'].unique()"
      ]
    },
    {
      "cell_type": "markdown",
      "metadata": {
        "id": "_Q5tLxGh4Y-U"
      },
      "source": [
        "Rest assured, we can confirm that none of our catgeorical data is nuanced in its noting method. This means our data doesn't require any reassignment of any sort when it comes to categorical data."
      ]
    },
    {
      "cell_type": "markdown",
      "metadata": {
        "id": "dPwbYJ6W4x8W"
      },
      "source": [
        "\n",
        "\n",
        "---\n",
        "# 2-Data Cleaning\n",
        "Now that we've identified our problems, it's time to get to clear them of our dataset!\n",
        "\n",
        "---\n",
        "\n",
        "\n",
        "\n"
      ]
    },
    {
      "cell_type": "markdown",
      "metadata": {
        "id": "cfnoD2H12P_M"
      },
      "source": [
        "## **1- NaN values**:\n"
      ]
    },
    {
      "cell_type": "markdown",
      "source": [
        "First off, we can clear our NaN values from the Actual Arrival Time column by logically deducing that if there was no data written, that the journey was cancelled.\n",
        "\n",
        "This hypothesis is confirmed by the code below, where every row without an Actual Arrival Time value has been cancelled."
      ],
      "metadata": {
        "id": "-MaSNJ_FiaFh"
      }
    },
    {
      "cell_type": "code",
      "execution_count": 14,
      "metadata": {
        "colab": {
          "base_uri": "https://localhost:8080/",
          "height": 0
        },
        "id": "XaBFzaKv5qd0",
        "outputId": "e6c4ece0-768f-4361-8fc5-128522f386e1"
      },
      "outputs": [
        {
          "output_type": "execute_result",
          "data": {
            "text/plain": [
              "                Transaction ID Date of Purchase Time of Purchase  \\\n",
              "39     69eaff73-ca3a-4831-905b       2024-01-01         03:52:29   \n",
              "75     a88f097f-bda3-4394-9c7d       2024-01-01         17:43:02   \n",
              "91     8a66ead7-e381-4311-b667       2024-01-02         00:54:33   \n",
              "111    d618c56f-3512-484d-9876       2024-01-02         03:33:32   \n",
              "148    eace2ada-5294-47e6-b4b8       2024-01-02         06:33:00   \n",
              "...                        ...              ...              ...   \n",
              "31639  465e3643-fb67-4deb-8ec9       2024-04-30         17:13:32   \n",
              "31641  2e96cde6-50c1-4311-8089       2024-04-30         17:16:04   \n",
              "31642  09e207d9-db49-4ec0-9c4f       2024-04-30         17:21:14   \n",
              "31644  1eacd955-f539-4c79-adb6       2024-04-30         17:26:33   \n",
              "31645  a0e238b7-1ad1-4bf7-bd6c       2024-04-30         18:11:50   \n",
              "\n",
              "      Purchase Type Payment Method  Railcard Ticket Class Ticket Type  Price  \\\n",
              "39           Online    Credit Card       NaN     Standard     Advance      7   \n",
              "75          Station     Debit Card  Disabled  First Class     Advance     35   \n",
              "91           Online    Credit Card       NaN     Standard    Off-Peak     10   \n",
              "111         Station    Credit Card       NaN     Standard    Off-Peak     12   \n",
              "148         Station    Credit Card       NaN  First Class     Anytime    235   \n",
              "...             ...            ...       ...          ...         ...    ...   \n",
              "31639       Station     Debit Card    Senior  First Class     Anytime    144   \n",
              "31641       Station    Credit Card     Adult     Standard     Anytime     95   \n",
              "31642        Online    Contactless       NaN     Standard     Anytime      5   \n",
              "31644        Online    Credit Card       NaN     Standard     Anytime     16   \n",
              "31645        Online    Credit Card    Senior  First Class     Anytime     13   \n",
              "\n",
              "           Departure Station    Arrival Destination Date of Journey  \\\n",
              "39             London Euston  Birmingham New Street      2024-01-02   \n",
              "75             London Euston  Birmingham New Street      2024-01-02   \n",
              "91             London Euston  Birmingham New Street      2024-01-02   \n",
              "111        London St Pancras  Birmingham New Street      2024-01-02   \n",
              "148    Liverpool Lime Street          London Euston      2024-01-02   \n",
              "...                      ...                    ...             ...   \n",
              "31639          London Euston  Manchester Piccadilly      2024-04-30   \n",
              "31641          London Euston  Manchester Piccadilly      2024-04-30   \n",
              "31642  Manchester Piccadilly  Liverpool Lime Street      2024-04-30   \n",
              "31644      London St Pancras  Birmingham New Street      2024-04-30   \n",
              "31645  Manchester Piccadilly  Liverpool Lime Street      2024-04-30   \n",
              "\n",
              "      Departure Time Arrival Time Actual Arrival Time Journey Status  \\\n",
              "39          02:15:00     03:35:00                 NaN      Cancelled   \n",
              "75          16:00:00     17:20:00                 NaN      Cancelled   \n",
              "91          02:15:00     03:35:00                 NaN      Cancelled   \n",
              "111         05:00:00     06:20:00                 NaN      Cancelled   \n",
              "148         08:00:00     10:15:00                 NaN      Cancelled   \n",
              "...              ...          ...                 ...            ...   \n",
              "31639       18:45:00     20:35:00                 NaN      Cancelled   \n",
              "31641       18:45:00     20:35:00                 NaN      Cancelled   \n",
              "31642       18:45:00     19:15:00                 NaN      Cancelled   \n",
              "31644       18:45:00     20:05:00                 NaN      Cancelled   \n",
              "31645       18:45:00     19:15:00                 NaN      Cancelled   \n",
              "\n",
              "         Reason for Delay Refund Request  \n",
              "39        Technical Issue             No  \n",
              "75        Technical Issue             No  \n",
              "91        Technical Issue            Yes  \n",
              "111              Staffing            Yes  \n",
              "148        Staff Shortage             No  \n",
              "...                   ...            ...  \n",
              "31639      Signal failure             No  \n",
              "31641      Signal failure            Yes  \n",
              "31642  Weather Conditions             No  \n",
              "31644      Signal Failure             No  \n",
              "31645  Weather Conditions             No  \n",
              "\n",
              "[1880 rows x 18 columns]"
            ],
            "text/html": [
              "\n",
              "  <div id=\"df-cfe2deb1-8e3f-43b8-8a25-52295d08aa0f\" class=\"colab-df-container\">\n",
              "    <div>\n",
              "<style scoped>\n",
              "    .dataframe tbody tr th:only-of-type {\n",
              "        vertical-align: middle;\n",
              "    }\n",
              "\n",
              "    .dataframe tbody tr th {\n",
              "        vertical-align: top;\n",
              "    }\n",
              "\n",
              "    .dataframe thead th {\n",
              "        text-align: right;\n",
              "    }\n",
              "</style>\n",
              "<table border=\"1\" class=\"dataframe\">\n",
              "  <thead>\n",
              "    <tr style=\"text-align: right;\">\n",
              "      <th></th>\n",
              "      <th>Transaction ID</th>\n",
              "      <th>Date of Purchase</th>\n",
              "      <th>Time of Purchase</th>\n",
              "      <th>Purchase Type</th>\n",
              "      <th>Payment Method</th>\n",
              "      <th>Railcard</th>\n",
              "      <th>Ticket Class</th>\n",
              "      <th>Ticket Type</th>\n",
              "      <th>Price</th>\n",
              "      <th>Departure Station</th>\n",
              "      <th>Arrival Destination</th>\n",
              "      <th>Date of Journey</th>\n",
              "      <th>Departure Time</th>\n",
              "      <th>Arrival Time</th>\n",
              "      <th>Actual Arrival Time</th>\n",
              "      <th>Journey Status</th>\n",
              "      <th>Reason for Delay</th>\n",
              "      <th>Refund Request</th>\n",
              "    </tr>\n",
              "  </thead>\n",
              "  <tbody>\n",
              "    <tr>\n",
              "      <th>39</th>\n",
              "      <td>69eaff73-ca3a-4831-905b</td>\n",
              "      <td>2024-01-01</td>\n",
              "      <td>03:52:29</td>\n",
              "      <td>Online</td>\n",
              "      <td>Credit Card</td>\n",
              "      <td>NaN</td>\n",
              "      <td>Standard</td>\n",
              "      <td>Advance</td>\n",
              "      <td>7</td>\n",
              "      <td>London Euston</td>\n",
              "      <td>Birmingham New Street</td>\n",
              "      <td>2024-01-02</td>\n",
              "      <td>02:15:00</td>\n",
              "      <td>03:35:00</td>\n",
              "      <td>NaN</td>\n",
              "      <td>Cancelled</td>\n",
              "      <td>Technical Issue</td>\n",
              "      <td>No</td>\n",
              "    </tr>\n",
              "    <tr>\n",
              "      <th>75</th>\n",
              "      <td>a88f097f-bda3-4394-9c7d</td>\n",
              "      <td>2024-01-01</td>\n",
              "      <td>17:43:02</td>\n",
              "      <td>Station</td>\n",
              "      <td>Debit Card</td>\n",
              "      <td>Disabled</td>\n",
              "      <td>First Class</td>\n",
              "      <td>Advance</td>\n",
              "      <td>35</td>\n",
              "      <td>London Euston</td>\n",
              "      <td>Birmingham New Street</td>\n",
              "      <td>2024-01-02</td>\n",
              "      <td>16:00:00</td>\n",
              "      <td>17:20:00</td>\n",
              "      <td>NaN</td>\n",
              "      <td>Cancelled</td>\n",
              "      <td>Technical Issue</td>\n",
              "      <td>No</td>\n",
              "    </tr>\n",
              "    <tr>\n",
              "      <th>91</th>\n",
              "      <td>8a66ead7-e381-4311-b667</td>\n",
              "      <td>2024-01-02</td>\n",
              "      <td>00:54:33</td>\n",
              "      <td>Online</td>\n",
              "      <td>Credit Card</td>\n",
              "      <td>NaN</td>\n",
              "      <td>Standard</td>\n",
              "      <td>Off-Peak</td>\n",
              "      <td>10</td>\n",
              "      <td>London Euston</td>\n",
              "      <td>Birmingham New Street</td>\n",
              "      <td>2024-01-02</td>\n",
              "      <td>02:15:00</td>\n",
              "      <td>03:35:00</td>\n",
              "      <td>NaN</td>\n",
              "      <td>Cancelled</td>\n",
              "      <td>Technical Issue</td>\n",
              "      <td>Yes</td>\n",
              "    </tr>\n",
              "    <tr>\n",
              "      <th>111</th>\n",
              "      <td>d618c56f-3512-484d-9876</td>\n",
              "      <td>2024-01-02</td>\n",
              "      <td>03:33:32</td>\n",
              "      <td>Station</td>\n",
              "      <td>Credit Card</td>\n",
              "      <td>NaN</td>\n",
              "      <td>Standard</td>\n",
              "      <td>Off-Peak</td>\n",
              "      <td>12</td>\n",
              "      <td>London St Pancras</td>\n",
              "      <td>Birmingham New Street</td>\n",
              "      <td>2024-01-02</td>\n",
              "      <td>05:00:00</td>\n",
              "      <td>06:20:00</td>\n",
              "      <td>NaN</td>\n",
              "      <td>Cancelled</td>\n",
              "      <td>Staffing</td>\n",
              "      <td>Yes</td>\n",
              "    </tr>\n",
              "    <tr>\n",
              "      <th>148</th>\n",
              "      <td>eace2ada-5294-47e6-b4b8</td>\n",
              "      <td>2024-01-02</td>\n",
              "      <td>06:33:00</td>\n",
              "      <td>Station</td>\n",
              "      <td>Credit Card</td>\n",
              "      <td>NaN</td>\n",
              "      <td>First Class</td>\n",
              "      <td>Anytime</td>\n",
              "      <td>235</td>\n",
              "      <td>Liverpool Lime Street</td>\n",
              "      <td>London Euston</td>\n",
              "      <td>2024-01-02</td>\n",
              "      <td>08:00:00</td>\n",
              "      <td>10:15:00</td>\n",
              "      <td>NaN</td>\n",
              "      <td>Cancelled</td>\n",
              "      <td>Staff Shortage</td>\n",
              "      <td>No</td>\n",
              "    </tr>\n",
              "    <tr>\n",
              "      <th>...</th>\n",
              "      <td>...</td>\n",
              "      <td>...</td>\n",
              "      <td>...</td>\n",
              "      <td>...</td>\n",
              "      <td>...</td>\n",
              "      <td>...</td>\n",
              "      <td>...</td>\n",
              "      <td>...</td>\n",
              "      <td>...</td>\n",
              "      <td>...</td>\n",
              "      <td>...</td>\n",
              "      <td>...</td>\n",
              "      <td>...</td>\n",
              "      <td>...</td>\n",
              "      <td>...</td>\n",
              "      <td>...</td>\n",
              "      <td>...</td>\n",
              "      <td>...</td>\n",
              "    </tr>\n",
              "    <tr>\n",
              "      <th>31639</th>\n",
              "      <td>465e3643-fb67-4deb-8ec9</td>\n",
              "      <td>2024-04-30</td>\n",
              "      <td>17:13:32</td>\n",
              "      <td>Station</td>\n",
              "      <td>Debit Card</td>\n",
              "      <td>Senior</td>\n",
              "      <td>First Class</td>\n",
              "      <td>Anytime</td>\n",
              "      <td>144</td>\n",
              "      <td>London Euston</td>\n",
              "      <td>Manchester Piccadilly</td>\n",
              "      <td>2024-04-30</td>\n",
              "      <td>18:45:00</td>\n",
              "      <td>20:35:00</td>\n",
              "      <td>NaN</td>\n",
              "      <td>Cancelled</td>\n",
              "      <td>Signal failure</td>\n",
              "      <td>No</td>\n",
              "    </tr>\n",
              "    <tr>\n",
              "      <th>31641</th>\n",
              "      <td>2e96cde6-50c1-4311-8089</td>\n",
              "      <td>2024-04-30</td>\n",
              "      <td>17:16:04</td>\n",
              "      <td>Station</td>\n",
              "      <td>Credit Card</td>\n",
              "      <td>Adult</td>\n",
              "      <td>Standard</td>\n",
              "      <td>Anytime</td>\n",
              "      <td>95</td>\n",
              "      <td>London Euston</td>\n",
              "      <td>Manchester Piccadilly</td>\n",
              "      <td>2024-04-30</td>\n",
              "      <td>18:45:00</td>\n",
              "      <td>20:35:00</td>\n",
              "      <td>NaN</td>\n",
              "      <td>Cancelled</td>\n",
              "      <td>Signal failure</td>\n",
              "      <td>Yes</td>\n",
              "    </tr>\n",
              "    <tr>\n",
              "      <th>31642</th>\n",
              "      <td>09e207d9-db49-4ec0-9c4f</td>\n",
              "      <td>2024-04-30</td>\n",
              "      <td>17:21:14</td>\n",
              "      <td>Online</td>\n",
              "      <td>Contactless</td>\n",
              "      <td>NaN</td>\n",
              "      <td>Standard</td>\n",
              "      <td>Anytime</td>\n",
              "      <td>5</td>\n",
              "      <td>Manchester Piccadilly</td>\n",
              "      <td>Liverpool Lime Street</td>\n",
              "      <td>2024-04-30</td>\n",
              "      <td>18:45:00</td>\n",
              "      <td>19:15:00</td>\n",
              "      <td>NaN</td>\n",
              "      <td>Cancelled</td>\n",
              "      <td>Weather Conditions</td>\n",
              "      <td>No</td>\n",
              "    </tr>\n",
              "    <tr>\n",
              "      <th>31644</th>\n",
              "      <td>1eacd955-f539-4c79-adb6</td>\n",
              "      <td>2024-04-30</td>\n",
              "      <td>17:26:33</td>\n",
              "      <td>Online</td>\n",
              "      <td>Credit Card</td>\n",
              "      <td>NaN</td>\n",
              "      <td>Standard</td>\n",
              "      <td>Anytime</td>\n",
              "      <td>16</td>\n",
              "      <td>London St Pancras</td>\n",
              "      <td>Birmingham New Street</td>\n",
              "      <td>2024-04-30</td>\n",
              "      <td>18:45:00</td>\n",
              "      <td>20:05:00</td>\n",
              "      <td>NaN</td>\n",
              "      <td>Cancelled</td>\n",
              "      <td>Signal Failure</td>\n",
              "      <td>No</td>\n",
              "    </tr>\n",
              "    <tr>\n",
              "      <th>31645</th>\n",
              "      <td>a0e238b7-1ad1-4bf7-bd6c</td>\n",
              "      <td>2024-04-30</td>\n",
              "      <td>18:11:50</td>\n",
              "      <td>Online</td>\n",
              "      <td>Credit Card</td>\n",
              "      <td>Senior</td>\n",
              "      <td>First Class</td>\n",
              "      <td>Anytime</td>\n",
              "      <td>13</td>\n",
              "      <td>Manchester Piccadilly</td>\n",
              "      <td>Liverpool Lime Street</td>\n",
              "      <td>2024-04-30</td>\n",
              "      <td>18:45:00</td>\n",
              "      <td>19:15:00</td>\n",
              "      <td>NaN</td>\n",
              "      <td>Cancelled</td>\n",
              "      <td>Weather Conditions</td>\n",
              "      <td>No</td>\n",
              "    </tr>\n",
              "  </tbody>\n",
              "</table>\n",
              "<p>1880 rows × 18 columns</p>\n",
              "</div>\n",
              "    <div class=\"colab-df-buttons\">\n",
              "\n",
              "  <div class=\"colab-df-container\">\n",
              "    <button class=\"colab-df-convert\" onclick=\"convertToInteractive('df-cfe2deb1-8e3f-43b8-8a25-52295d08aa0f')\"\n",
              "            title=\"Convert this dataframe to an interactive table.\"\n",
              "            style=\"display:none;\">\n",
              "\n",
              "  <svg xmlns=\"http://www.w3.org/2000/svg\" height=\"24px\" viewBox=\"0 -960 960 960\">\n",
              "    <path d=\"M120-120v-720h720v720H120Zm60-500h600v-160H180v160Zm220 220h160v-160H400v160Zm0 220h160v-160H400v160ZM180-400h160v-160H180v160Zm440 0h160v-160H620v160ZM180-180h160v-160H180v160Zm440 0h160v-160H620v160Z\"/>\n",
              "  </svg>\n",
              "    </button>\n",
              "\n",
              "  <style>\n",
              "    .colab-df-container {\n",
              "      display:flex;\n",
              "      gap: 12px;\n",
              "    }\n",
              "\n",
              "    .colab-df-convert {\n",
              "      background-color: #E8F0FE;\n",
              "      border: none;\n",
              "      border-radius: 50%;\n",
              "      cursor: pointer;\n",
              "      display: none;\n",
              "      fill: #1967D2;\n",
              "      height: 32px;\n",
              "      padding: 0 0 0 0;\n",
              "      width: 32px;\n",
              "    }\n",
              "\n",
              "    .colab-df-convert:hover {\n",
              "      background-color: #E2EBFA;\n",
              "      box-shadow: 0px 1px 2px rgba(60, 64, 67, 0.3), 0px 1px 3px 1px rgba(60, 64, 67, 0.15);\n",
              "      fill: #174EA6;\n",
              "    }\n",
              "\n",
              "    .colab-df-buttons div {\n",
              "      margin-bottom: 4px;\n",
              "    }\n",
              "\n",
              "    [theme=dark] .colab-df-convert {\n",
              "      background-color: #3B4455;\n",
              "      fill: #D2E3FC;\n",
              "    }\n",
              "\n",
              "    [theme=dark] .colab-df-convert:hover {\n",
              "      background-color: #434B5C;\n",
              "      box-shadow: 0px 1px 3px 1px rgba(0, 0, 0, 0.15);\n",
              "      filter: drop-shadow(0px 1px 2px rgba(0, 0, 0, 0.3));\n",
              "      fill: #FFFFFF;\n",
              "    }\n",
              "  </style>\n",
              "\n",
              "    <script>\n",
              "      const buttonEl =\n",
              "        document.querySelector('#df-cfe2deb1-8e3f-43b8-8a25-52295d08aa0f button.colab-df-convert');\n",
              "      buttonEl.style.display =\n",
              "        google.colab.kernel.accessAllowed ? 'block' : 'none';\n",
              "\n",
              "      async function convertToInteractive(key) {\n",
              "        const element = document.querySelector('#df-cfe2deb1-8e3f-43b8-8a25-52295d08aa0f');\n",
              "        const dataTable =\n",
              "          await google.colab.kernel.invokeFunction('convertToInteractive',\n",
              "                                                    [key], {});\n",
              "        if (!dataTable) return;\n",
              "\n",
              "        const docLinkHtml = 'Like what you see? Visit the ' +\n",
              "          '<a target=\"_blank\" href=https://colab.research.google.com/notebooks/data_table.ipynb>data table notebook</a>'\n",
              "          + ' to learn more about interactive tables.';\n",
              "        element.innerHTML = '';\n",
              "        dataTable['output_type'] = 'display_data';\n",
              "        await google.colab.output.renderOutput(dataTable, element);\n",
              "        const docLink = document.createElement('div');\n",
              "        docLink.innerHTML = docLinkHtml;\n",
              "        element.appendChild(docLink);\n",
              "      }\n",
              "    </script>\n",
              "  </div>\n",
              "\n",
              "\n",
              "<div id=\"df-c1e479d4-f8a2-4143-8ff5-dc7d9048e70d\">\n",
              "  <button class=\"colab-df-quickchart\" onclick=\"quickchart('df-c1e479d4-f8a2-4143-8ff5-dc7d9048e70d')\"\n",
              "            title=\"Suggest charts\"\n",
              "            style=\"display:none;\">\n",
              "\n",
              "<svg xmlns=\"http://www.w3.org/2000/svg\" height=\"24px\"viewBox=\"0 0 24 24\"\n",
              "     width=\"24px\">\n",
              "    <g>\n",
              "        <path d=\"M19 3H5c-1.1 0-2 .9-2 2v14c0 1.1.9 2 2 2h14c1.1 0 2-.9 2-2V5c0-1.1-.9-2-2-2zM9 17H7v-7h2v7zm4 0h-2V7h2v10zm4 0h-2v-4h2v4z\"/>\n",
              "    </g>\n",
              "</svg>\n",
              "  </button>\n",
              "\n",
              "<style>\n",
              "  .colab-df-quickchart {\n",
              "      --bg-color: #E8F0FE;\n",
              "      --fill-color: #1967D2;\n",
              "      --hover-bg-color: #E2EBFA;\n",
              "      --hover-fill-color: #174EA6;\n",
              "      --disabled-fill-color: #AAA;\n",
              "      --disabled-bg-color: #DDD;\n",
              "  }\n",
              "\n",
              "  [theme=dark] .colab-df-quickchart {\n",
              "      --bg-color: #3B4455;\n",
              "      --fill-color: #D2E3FC;\n",
              "      --hover-bg-color: #434B5C;\n",
              "      --hover-fill-color: #FFFFFF;\n",
              "      --disabled-bg-color: #3B4455;\n",
              "      --disabled-fill-color: #666;\n",
              "  }\n",
              "\n",
              "  .colab-df-quickchart {\n",
              "    background-color: var(--bg-color);\n",
              "    border: none;\n",
              "    border-radius: 50%;\n",
              "    cursor: pointer;\n",
              "    display: none;\n",
              "    fill: var(--fill-color);\n",
              "    height: 32px;\n",
              "    padding: 0;\n",
              "    width: 32px;\n",
              "  }\n",
              "\n",
              "  .colab-df-quickchart:hover {\n",
              "    background-color: var(--hover-bg-color);\n",
              "    box-shadow: 0 1px 2px rgba(60, 64, 67, 0.3), 0 1px 3px 1px rgba(60, 64, 67, 0.15);\n",
              "    fill: var(--button-hover-fill-color);\n",
              "  }\n",
              "\n",
              "  .colab-df-quickchart-complete:disabled,\n",
              "  .colab-df-quickchart-complete:disabled:hover {\n",
              "    background-color: var(--disabled-bg-color);\n",
              "    fill: var(--disabled-fill-color);\n",
              "    box-shadow: none;\n",
              "  }\n",
              "\n",
              "  .colab-df-spinner {\n",
              "    border: 2px solid var(--fill-color);\n",
              "    border-color: transparent;\n",
              "    border-bottom-color: var(--fill-color);\n",
              "    animation:\n",
              "      spin 1s steps(1) infinite;\n",
              "  }\n",
              "\n",
              "  @keyframes spin {\n",
              "    0% {\n",
              "      border-color: transparent;\n",
              "      border-bottom-color: var(--fill-color);\n",
              "      border-left-color: var(--fill-color);\n",
              "    }\n",
              "    20% {\n",
              "      border-color: transparent;\n",
              "      border-left-color: var(--fill-color);\n",
              "      border-top-color: var(--fill-color);\n",
              "    }\n",
              "    30% {\n",
              "      border-color: transparent;\n",
              "      border-left-color: var(--fill-color);\n",
              "      border-top-color: var(--fill-color);\n",
              "      border-right-color: var(--fill-color);\n",
              "    }\n",
              "    40% {\n",
              "      border-color: transparent;\n",
              "      border-right-color: var(--fill-color);\n",
              "      border-top-color: var(--fill-color);\n",
              "    }\n",
              "    60% {\n",
              "      border-color: transparent;\n",
              "      border-right-color: var(--fill-color);\n",
              "    }\n",
              "    80% {\n",
              "      border-color: transparent;\n",
              "      border-right-color: var(--fill-color);\n",
              "      border-bottom-color: var(--fill-color);\n",
              "    }\n",
              "    90% {\n",
              "      border-color: transparent;\n",
              "      border-bottom-color: var(--fill-color);\n",
              "    }\n",
              "  }\n",
              "</style>\n",
              "\n",
              "  <script>\n",
              "    async function quickchart(key) {\n",
              "      const quickchartButtonEl =\n",
              "        document.querySelector('#' + key + ' button');\n",
              "      quickchartButtonEl.disabled = true;  // To prevent multiple clicks.\n",
              "      quickchartButtonEl.classList.add('colab-df-spinner');\n",
              "      try {\n",
              "        const charts = await google.colab.kernel.invokeFunction(\n",
              "            'suggestCharts', [key], {});\n",
              "      } catch (error) {\n",
              "        console.error('Error during call to suggestCharts:', error);\n",
              "      }\n",
              "      quickchartButtonEl.classList.remove('colab-df-spinner');\n",
              "      quickchartButtonEl.classList.add('colab-df-quickchart-complete');\n",
              "    }\n",
              "    (() => {\n",
              "      let quickchartButtonEl =\n",
              "        document.querySelector('#df-c1e479d4-f8a2-4143-8ff5-dc7d9048e70d button');\n",
              "      quickchartButtonEl.style.display =\n",
              "        google.colab.kernel.accessAllowed ? 'block' : 'none';\n",
              "    })();\n",
              "  </script>\n",
              "</div>\n",
              "\n",
              "  <div id=\"id_477c6417-3f23-449e-ac39-93e04d0346c5\">\n",
              "    <style>\n",
              "      .colab-df-generate {\n",
              "        background-color: #E8F0FE;\n",
              "        border: none;\n",
              "        border-radius: 50%;\n",
              "        cursor: pointer;\n",
              "        display: none;\n",
              "        fill: #1967D2;\n",
              "        height: 32px;\n",
              "        padding: 0 0 0 0;\n",
              "        width: 32px;\n",
              "      }\n",
              "\n",
              "      .colab-df-generate:hover {\n",
              "        background-color: #E2EBFA;\n",
              "        box-shadow: 0px 1px 2px rgba(60, 64, 67, 0.3), 0px 1px 3px 1px rgba(60, 64, 67, 0.15);\n",
              "        fill: #174EA6;\n",
              "      }\n",
              "\n",
              "      [theme=dark] .colab-df-generate {\n",
              "        background-color: #3B4455;\n",
              "        fill: #D2E3FC;\n",
              "      }\n",
              "\n",
              "      [theme=dark] .colab-df-generate:hover {\n",
              "        background-color: #434B5C;\n",
              "        box-shadow: 0px 1px 3px 1px rgba(0, 0, 0, 0.15);\n",
              "        filter: drop-shadow(0px 1px 2px rgba(0, 0, 0, 0.3));\n",
              "        fill: #FFFFFF;\n",
              "      }\n",
              "    </style>\n",
              "    <button class=\"colab-df-generate\" onclick=\"generateWithVariable('NaN_Actual')\"\n",
              "            title=\"Generate code using this dataframe.\"\n",
              "            style=\"display:none;\">\n",
              "\n",
              "  <svg xmlns=\"http://www.w3.org/2000/svg\" height=\"24px\"viewBox=\"0 0 24 24\"\n",
              "       width=\"24px\">\n",
              "    <path d=\"M7,19H8.4L18.45,9,17,7.55,7,17.6ZM5,21V16.75L18.45,3.32a2,2,0,0,1,2.83,0l1.4,1.43a1.91,1.91,0,0,1,.58,1.4,1.91,1.91,0,0,1-.58,1.4L9.25,21ZM18.45,9,17,7.55Zm-12,3A5.31,5.31,0,0,0,4.9,8.1,5.31,5.31,0,0,0,1,6.5,5.31,5.31,0,0,0,4.9,4.9,5.31,5.31,0,0,0,6.5,1,5.31,5.31,0,0,0,8.1,4.9,5.31,5.31,0,0,0,12,6.5,5.46,5.46,0,0,0,6.5,12Z\"/>\n",
              "  </svg>\n",
              "    </button>\n",
              "    <script>\n",
              "      (() => {\n",
              "      const buttonEl =\n",
              "        document.querySelector('#id_477c6417-3f23-449e-ac39-93e04d0346c5 button.colab-df-generate');\n",
              "      buttonEl.style.display =\n",
              "        google.colab.kernel.accessAllowed ? 'block' : 'none';\n",
              "\n",
              "      buttonEl.onclick = () => {\n",
              "        google.colab.notebook.generateWithVariable('NaN_Actual');\n",
              "      }\n",
              "      })();\n",
              "    </script>\n",
              "  </div>\n",
              "\n",
              "    </div>\n",
              "  </div>\n"
            ],
            "application/vnd.google.colaboratory.intrinsic+json": {
              "type": "dataframe",
              "variable_name": "NaN_Actual",
              "repr_error": "0"
            }
          },
          "metadata": {},
          "execution_count": 14
        }
      ],
      "source": [
        "NaN_Actual = train_data[train_data['Actual Arrival Time'].isnull() == True]\n",
        "NaN_Actual"
      ]
    },
    {
      "cell_type": "markdown",
      "metadata": {
        "id": "WAWR-yqQ-e87"
      },
      "source": [
        "This makes the NaN mistake in this column more like an innacuracy, but we should still optimize our data by leaving no NaNs."
      ]
    },
    {
      "cell_type": "code",
      "execution_count": 15,
      "metadata": {
        "colab": {
          "base_uri": "https://localhost:8080/"
        },
        "id": "pE_yFk0A-opE",
        "outputId": "9af22dc2-a94e-472d-d2aa-b3487167b851"
      },
      "outputs": [
        {
          "output_type": "execute_result",
          "data": {
            "text/plain": [
              "np.int64(0)"
            ]
          },
          "metadata": {},
          "execution_count": 15
        }
      ],
      "source": [
        "train_data['Actual Arrival Time'] = train_data[\"Actual Arrival Time\"].fillna('Journey Cancelled')\n",
        "train_data['Actual Arrival Time'].isnull().sum()"
      ]
    },
    {
      "cell_type": "markdown",
      "metadata": {
        "id": "lStku7VlvSpl"
      },
      "source": [
        "We will be optimizing our data again by leaving no NaNs in the other two columns with NaNs, filling empty cells with a logical and reasonable value."
      ]
    },
    {
      "cell_type": "code",
      "execution_count": 16,
      "metadata": {
        "colab": {
          "base_uri": "https://localhost:8080/"
        },
        "id": "AR8EqKkIvbSV",
        "outputId": "aa64635a-a5aa-4c8d-ed08-7f995eaf2edc"
      },
      "outputs": [
        {
          "output_type": "execute_result",
          "data": {
            "text/plain": [
              "np.int64(0)"
            ]
          },
          "metadata": {},
          "execution_count": 16
        }
      ],
      "source": [
        "train_data['Railcard'] = train_data['Railcard'].fillna(\"No Railcard\")\n",
        "train_data['Railcard'].isnull().sum()"
      ]
    },
    {
      "cell_type": "code",
      "execution_count": 17,
      "metadata": {
        "colab": {
          "base_uri": "https://localhost:8080/"
        },
        "id": "a2vT4AUqv7rN",
        "outputId": "3b9c616d-abf4-4dd7-eed5-2e4de8aeb6a6"
      },
      "outputs": [
        {
          "output_type": "execute_result",
          "data": {
            "text/plain": [
              "np.int64(0)"
            ]
          },
          "metadata": {},
          "execution_count": 17
        }
      ],
      "source": [
        "train_data['Reason for Delay'] = train_data['Reason for Delay'].fillna(\"No Delay\")\n",
        "train_data['Reason for Delay'].isnull().sum()"
      ]
    },
    {
      "cell_type": "markdown",
      "metadata": {
        "id": "ead-2mZL0uNe"
      },
      "source": [
        "Now that that's cleared, we can move on from NaN values confidently.\n",
        "\n",
        "---\n"
      ]
    },
    {
      "cell_type": "markdown",
      "source": [
        "## **2-Mixed data types:**"
      ],
      "metadata": {
        "id": "Cuflye2nisAJ"
      }
    },
    {
      "cell_type": "markdown",
      "source": [
        "\n",
        "\n",
        "As we saw in our wrangling section, there are multiple columns in the wrong data type, namingly  both the 'Date of Purchase' and 'Date of Journey' columns.\n",
        "\n",
        "They're both stored in strings in the data, while we want them as date-time type to ensure data accuracy. Pandas has a specific command for this, thankfully."
      ],
      "metadata": {
        "id": "-gJTQOtAisWA"
      }
    },
    {
      "cell_type": "code",
      "execution_count": 18,
      "metadata": {
        "colab": {
          "base_uri": "https://localhost:8080/"
        },
        "id": "M2-N-Zeu1Y7s",
        "outputId": "83ebb50e-1fd2-4857-c2c6-9dc364c24338"
      },
      "outputs": [
        {
          "output_type": "stream",
          "name": "stdout",
          "text": [
            "<class 'pandas.core.frame.DataFrame'>\n",
            "RangeIndex: 31653 entries, 0 to 31652\n",
            "Data columns (total 18 columns):\n",
            " #   Column               Non-Null Count  Dtype         \n",
            "---  ------               --------------  -----         \n",
            " 0   Transaction ID       31653 non-null  object        \n",
            " 1   Date of Purchase     31653 non-null  datetime64[ns]\n",
            " 2   Time of Purchase     31653 non-null  object        \n",
            " 3   Purchase Type        31653 non-null  object        \n",
            " 4   Payment Method       31653 non-null  object        \n",
            " 5   Railcard             31653 non-null  object        \n",
            " 6   Ticket Class         31653 non-null  object        \n",
            " 7   Ticket Type          31653 non-null  object        \n",
            " 8   Price                31653 non-null  int64         \n",
            " 9   Departure Station    31653 non-null  object        \n",
            " 10  Arrival Destination  31653 non-null  object        \n",
            " 11  Date of Journey      31653 non-null  datetime64[ns]\n",
            " 12  Departure Time       31653 non-null  object        \n",
            " 13  Arrival Time         31653 non-null  object        \n",
            " 14  Actual Arrival Time  31653 non-null  object        \n",
            " 15  Journey Status       31653 non-null  object        \n",
            " 16  Reason for Delay     31653 non-null  object        \n",
            " 17  Refund Request       31653 non-null  object        \n",
            "dtypes: datetime64[ns](2), int64(1), object(15)\n",
            "memory usage: 4.3+ MB\n"
          ]
        }
      ],
      "source": [
        "train_data['Date of Purchase'] = pd.to_datetime(train_data['Date of Purchase'], errors='coerce')\n",
        "train_data['Date of Journey'] = pd.to_datetime(train_data['Date of Journey'], errors='coerce')\n",
        "train_data.info()"
      ]
    },
    {
      "cell_type": "markdown",
      "metadata": {
        "id": "VUWgy5_f2YmT"
      },
      "source": [
        "Just with those simple commands, our dataset is clear of any mixed data types.\n",
        "\n",
        "With that, we also have no NaNs or mixed data types, leaving our data clean and ready for analytics.\n"
      ]
    },
    {
      "cell_type": "markdown",
      "metadata": {
        "id": "1mMBrtfX1z2F"
      },
      "source": [
        "\n",
        "---\n",
        "# 3-Data Analysis\n",
        "\n",
        "Now that our data is clean of all errors, its time to pick it apart and reach conclusions!"
      ]
    },
    {
      "cell_type": "markdown",
      "source": [
        "This section will be structured as different questions we need answered as seperate sections seperated by a line, like so.\n",
        "\n",
        "---"
      ],
      "metadata": {
        "id": "tx5YrwNLm-5e"
      }
    },
    {
      "cell_type": "markdown",
      "metadata": {
        "id": "7ngQllPCoG4g"
      },
      "source": [
        "\n",
        "## **1-Does cancelling a journey or delaying it cause more refunds?**"
      ]
    },
    {
      "cell_type": "markdown",
      "source": [
        "\n",
        "To answer this, we're going to create two dataframes, one with the rows including a delayed ride, and one with rows including a cancelled ride."
      ],
      "metadata": {
        "id": "Le4dk7gcjNE6"
      }
    },
    {
      "cell_type": "code",
      "execution_count": 19,
      "metadata": {
        "id": "ERjSGrDeiToJ"
      },
      "outputs": [],
      "source": [
        "delay = train_data[train_data['Journey Status'] == 'Delayed']\n",
        "cancelled = train_data[train_data['Journey Status'] == 'Cancelled']"
      ]
    },
    {
      "cell_type": "markdown",
      "metadata": {
        "id": "vQY74B1e8DaE"
      },
      "source": [
        "Now that we've created those dataframes, we can compare the precentage of passangers refunding tickets on a cancelled ride versus the precentage on a delayed ride."
      ]
    },
    {
      "cell_type": "code",
      "execution_count": 20,
      "metadata": {
        "colab": {
          "base_uri": "https://localhost:8080/"
        },
        "id": "a-mTStNo3yjM",
        "outputId": "db9b4a45-9f37-4656-d94c-e92b58c6624a"
      },
      "outputs": [
        {
          "output_type": "stream",
          "name": "stdout",
          "text": [
            "The percentage of people refunding tickets when a journey is cancelled is  30 %\n"
          ]
        }
      ],
      "source": [
        "cancelled_refunds = cancelled[cancelled['Refund Request'] == 'Yes']\n",
        "p1 = ( cancelled_refunds['Refund Request'].count()/cancelled['Refund Request'].count())*100\n",
        "print('The percentage of people refunding tickets when a journey is cancelled is ',int(np.round(p1)),'%')"
      ]
    },
    {
      "cell_type": "code",
      "execution_count": 21,
      "metadata": {
        "colab": {
          "base_uri": "https://localhost:8080/"
        },
        "id": "ievgY6006Bhs",
        "outputId": "353405c0-2d65-46be-b953-e122fad966bf"
      },
      "outputs": [
        {
          "output_type": "stream",
          "name": "stdout",
          "text": [
            "The percentage of people refunding tickets when a journey is delayed is 24 %\n"
          ]
        }
      ],
      "source": [
        "delay_refunds = delay[delay['Refund Request'] == 'Yes']\n",
        "p2 =( delay_refunds['Refund Request'].count()/delay['Refund Request'].count())*100\n",
        "print('The percentage of people refunding tickets when a journey is delayed is',int(np.round(p2)),'%')"
      ]
    },
    {
      "cell_type": "markdown",
      "metadata": {
        "id": "yW4Q5_TzQbFe"
      },
      "source": [
        "As can be seen in the code above, the amount of people refunding when a journey is cancelled is significantly higher than when a journey is delayed, which seems logically intuitive.\n",
        "\n",
        "This proves that when a journey is delayed, it's less optimal to cancel it and give an alternative ticket (as happens with cancelled rides) than it is to just continue on the delayed schedule.\n",
        "\n",
        "---\n",
        "\n"
      ]
    },
    {
      "cell_type": "markdown",
      "metadata": {
        "id": "Lf4oRYwwfnCw"
      },
      "source": [
        "## **2-Which arrival destination is the most expensive?**"
      ]
    },
    {
      "cell_type": "markdown",
      "source": [
        "For this question, we'll have to take a look at the 'Arrival Destination' column next to the 'Price' column in a bar plot."
      ],
      "metadata": {
        "id": "6PXeRyf4J5EG"
      }
    },
    {
      "cell_type": "code",
      "source": [
        "# Calculate average price for each arrival destination\n",
        "avg_prices = train_data.groupby('Arrival Destination')['Price'].mean().sort_values(ascending = False)\n",
        "\n",
        "# Get the order of arrival destinations based on average price\n",
        "y_order = avg_prices.index\n",
        "\n",
        "\n",
        "# Create the barplot, specifying the order of y-axis categories\n",
        "sns.barplot(data=train_data, x=\"Price\", y=\"Arrival Destination\", order=y_order, errorbar = None);\n",
        "plt.title(\"Price vs Arrival Destination\");\n",
        "plt.ylabel(\"Arrival Destination\");\n",
        "plt.xlabel(\"Price\");\n",
        "plt.show();"
      ],
      "metadata": {
        "colab": {
          "base_uri": "https://localhost:8080/",
          "height": 472
        },
        "id": "OIOkUGBXnsNI",
        "outputId": "659c91ae-1f7d-4319-9966-a2895c7c972f"
      },
      "execution_count": 109,
      "outputs": [
        {
          "output_type": "display_data",
          "data": {
            "text/plain": [
              "<Figure size 640x480 with 1 Axes>"
            ],
            "image/png": "[encoded data removed]"
          },
          "metadata": {}
        }
      ]
    },
    {
      "cell_type": "markdown",
      "source": [
        "As you can see, it seems that London Euston has our highest price for a destination, with Warrington on the other end of the spectrum.\n",
        "\n",
        "However, there is another factor to take into consideration when looking at this question: Frequency. You see, if we barely sent out trains to London Euston, then we'll barely get any money for it. Therefore, we'll have to see which destination is the most frequent."
      ],
      "metadata": {
        "id": "QLAbRmraJu1-"
      }
    },
    {
      "cell_type": "code",
      "source": [
        "sns.barplot(x = train_data[\"Arrival Destination\"].value_counts(), y = train_data[\"Arrival Destination\"].unique());\n",
        "plt.title(\"Appearance In Our Data\");\n",
        "plt.xlabel(\"Appearance\");\n",
        "plt.ylabel(\"Destination\");\n",
        "plt.show();"
      ],
      "metadata": {
        "colab": {
          "base_uri": "https://localhost:8080/",
          "height": 472
        },
        "id": "m4IwVOhbKuO-",
        "outputId": "39a86029-a5b1-4c7a-e7d1-5e0ac2d7d97b"
      },
      "execution_count": 104,
      "outputs": [
        {
          "output_type": "display_data",
          "data": {
            "text/plain": [
              "<Figure size 640x480 with 1 Axes>"
            ],
            "image/png": "[encoded data removed]"
          },
          "metadata": {}
        }
      ]
    },
    {
      "cell_type": "markdown",
      "source": [
        "Interestingly, London Euston is still relatively high, while Warrington continues to fail. However, to get the one that's gotten us the highest profits, we must do some mathematics.\n",
        "\n",
        "The mathematics I mean is by getting how much each destination appeared (how many tickets were bought to that place) and the average prices we got earlier by it to get an average revenue to see how much each location gets us on average."
      ],
      "metadata": {
        "id": "Ildkl_5-LgV9"
      }
    },
    {
      "cell_type": "code",
      "source": [
        "# Calculate the count of each arrival destination\n",
        "destination_counts = train_data.groupby('Arrival Destination')[\"Arrival Destination\"].value_counts()\n",
        "\n",
        "# Here, I make the average revenue by dividing average prices by the destination counts\n",
        "# You may notice the times ten to the power of four, and that was an aesthetic choice so that the graph isnt showing decimals\n",
        "#(0.043 for example)\n",
        "avg_revenue = ((avg_prices/destination_counts)*10**4).sort_values(ascending = False)\n",
        "\n",
        "# Creating the plot\n",
        "sns.barplot(y= avg_revenue.index, x = avg_revenue);\n",
        "plt.title(\"Each place's average revenue\");\n",
        "plt.xlabel(\"Revenue\");\n",
        "plt.ylabel(\"Destination\");\n",
        "plt.show();"
      ],
      "metadata": {
        "colab": {
          "base_uri": "https://localhost:8080/",
          "height": 472
        },
        "id": "FabnJsEKLvfx",
        "outputId": "bf8e179d-d555-4e17-bb53-4617185dca2a"
      },
      "execution_count": 105,
      "outputs": [
        {
          "output_type": "display_data",
          "data": {
            "text/plain": [
              "<Figure size 640x480 with 1 Axes>"
            ],
            "image/png": "[encoded data removed]"
          },
          "metadata": {}
        }
      ]
    },
    {
      "cell_type": "markdown",
      "source": [
        "Here, in a twist of events, its clear that **Wakefield** is at the top of our list! This indicates we should schedule more trips there to increase profits and do more advertising for our Wakefield trips! As for our lowest, **Liverpool Lime Street**, we should decrease our spending of resources on trips there, as they seem to be quite unfruitful."
      ],
      "metadata": {
        "id": "KrnmljL5ndrN"
      }
    },
    {
      "cell_type": "markdown",
      "source": [
        "###ignore"
      ],
      "metadata": {
        "id": "2A6u4BtfLw_c"
      }
    },
    {
      "cell_type": "code",
      "source": [
        "%%shell\n",
        "jupyter nbconvert --to html /content/Train_project.ipynb"
      ],
      "metadata": {
        "colab": {
          "base_uri": "https://localhost:8080/",
          "height": 1000
        },
        "id": "_XjYH1IcF5Oo",
        "outputId": "b885bb72-8459-4c5c-c03b-d6e20f73a14f"
      },
      "execution_count": 27,
      "outputs": [
        {
          "output_type": "stream",
          "name": "stdout",
          "text": [
            "[NbConvertApp] WARNING | pattern '/content/Train_project.ipynb' matched no files\n",
            "This application is used to convert notebook files (*.ipynb)\n",
            "        to various other formats.\n",
            "\n",
            "        WARNING: THE COMMANDLINE INTERFACE MAY CHANGE IN FUTURE RELEASES.\n",
            "\n",
            "Options\n",
            "=======\n",
            "The options below are convenience aliases to configurable class-options,\n",
            "as listed in the \"Equivalent to\" description-line of the aliases.\n",
            "To see all configurable class-options for some <cmd>, use:\n",
            "    <cmd> --help-all\n",
            "\n",
            "--debug\n",
            "    set log level to logging.DEBUG (maximize logging output)\n",
            "    Equivalent to: [--Application.log_level=10]\n",
            "--show-config\n",
            "    Show the application's configuration (human-readable format)\n",
            "    Equivalent to: [--Application.show_config=True]\n",
            "--show-config-json\n",
            "    Show the application's configuration (json format)\n",
            "    Equivalent to: [--Application.show_config_json=True]\n",
            "--generate-config\n",
            "    generate default config file\n",
            "    Equivalent to: [--JupyterApp.generate_config=True]\n",
            "-y\n",
            "    Answer yes to any questions instead of prompting.\n",
            "    Equivalent to: [--JupyterApp.answer_yes=True]\n",
            "--execute\n",
            "    Execute the notebook prior to export.\n",
            "    Equivalent to: [--ExecutePreprocessor.enabled=True]\n",
            "--allow-errors\n",
            "    Continue notebook execution even if one of the cells throws an error and include the error message in the cell output (the default behaviour is to abort conversion). This flag is only relevant if '--execute' was specified, too.\n",
            "    Equivalent to: [--ExecutePreprocessor.allow_errors=True]\n",
            "--stdin\n",
            "    read a single notebook file from stdin. Write the resulting notebook with default basename 'notebook.*'\n",
            "    Equivalent to: [--NbConvertApp.from_stdin=True]\n",
            "--stdout\n",
            "    Write notebook output to stdout instead of files.\n",
            "    Equivalent to: [--NbConvertApp.writer_class=StdoutWriter]\n",
            "--inplace\n",
            "    Run nbconvert in place, overwriting the existing notebook (only\n",
            "            relevant when converting to notebook format)\n",
            "    Equivalent to: [--NbConvertApp.use_output_suffix=False --NbConvertApp.export_format=notebook --FilesWriter.build_directory=]\n",
            "--clear-output\n",
            "    Clear output of current file and save in place,\n",
            "            overwriting the existing notebook.\n",
            "    Equivalent to: [--NbConvertApp.use_output_suffix=False --NbConvertApp.export_format=notebook --FilesWriter.build_directory= --ClearOutputPreprocessor.enabled=True]\n",
            "--coalesce-streams\n",
            "    Coalesce consecutive stdout and stderr outputs into one stream (within each cell).\n",
            "    Equivalent to: [--NbConvertApp.use_output_suffix=False --NbConvertApp.export_format=notebook --FilesWriter.build_directory= --CoalesceStreamsPreprocessor.enabled=True]\n",
            "--no-prompt\n",
            "    Exclude input and output prompts from converted document.\n",
            "    Equivalent to: [--TemplateExporter.exclude_input_prompt=True --TemplateExporter.exclude_output_prompt=True]\n",
            "--no-input\n",
            "    Exclude input cells and output prompts from converted document.\n",
            "            This mode is ideal for generating code-free reports.\n",
            "    Equivalent to: [--TemplateExporter.exclude_output_prompt=True --TemplateExporter.exclude_input=True --TemplateExporter.exclude_input_prompt=True]\n",
            "--allow-chromium-download\n",
            "    Whether to allow downloading chromium if no suitable version is found on the system.\n",
            "    Equivalent to: [--WebPDFExporter.allow_chromium_download=True]\n",
            "--disable-chromium-sandbox\n",
            "    Disable chromium security sandbox when converting to PDF..\n",
            "    Equivalent to: [--WebPDFExporter.disable_sandbox=True]\n",
            "--show-input\n",
            "    Shows code input. This flag is only useful for dejavu users.\n",
            "    Equivalent to: [--TemplateExporter.exclude_input=False]\n",
            "--embed-images\n",
            "    Embed the images as base64 dataurls in the output. This flag is only useful for the HTML/WebPDF/Slides exports.\n",
            "    Equivalent to: [--HTMLExporter.embed_images=True]\n",
            "--sanitize-html\n",
            "    Whether the HTML in Markdown cells and cell outputs should be sanitized..\n",
            "    Equivalent to: [--HTMLExporter.sanitize_html=True]\n",
            "--log-level=<Enum>\n",
            "    Set the log level by value or name.\n",
            "    Choices: any of [0, 10, 20, 30, 40, 50, 'DEBUG', 'INFO', 'WARN', 'ERROR', 'CRITICAL']\n",
            "    Default: 30\n",
            "    Equivalent to: [--Application.log_level]\n",
            "--config=<Unicode>\n",
            "    Full path of a config file.\n",
            "    Default: ''\n",
            "    Equivalent to: [--JupyterApp.config_file]\n",
            "--to=<Unicode>\n",
            "    The export format to be used, either one of the built-in formats\n",
            "            ['asciidoc', 'custom', 'html', 'latex', 'markdown', 'notebook', 'pdf', 'python', 'qtpdf', 'qtpng', 'rst', 'script', 'slides', 'webpdf']\n",
            "            or a dotted object name that represents the import path for an\n",
            "            ``Exporter`` class\n",
            "    Default: ''\n",
            "    Equivalent to: [--NbConvertApp.export_format]\n",
            "--template=<Unicode>\n",
            "    Name of the template to use\n",
            "    Default: ''\n",
            "    Equivalent to: [--TemplateExporter.template_name]\n",
            "--template-file=<Unicode>\n",
            "    Name of the template file to use\n",
            "    Default: None\n",
            "    Equivalent to: [--TemplateExporter.template_file]\n",
            "--theme=<Unicode>\n",
            "    Template specific theme(e.g. the name of a JupyterLab CSS theme distributed\n",
            "    as prebuilt extension for the lab template)\n",
            "    Default: 'light'\n",
            "    Equivalent to: [--HTMLExporter.theme]\n",
            "--sanitize_html=<Bool>\n",
            "    Whether the HTML in Markdown cells and cell outputs should be sanitized.This\n",
            "    should be set to True by nbviewer or similar tools.\n",
            "    Default: False\n",
            "    Equivalent to: [--HTMLExporter.sanitize_html]\n",
            "--writer=<DottedObjectName>\n",
            "    Writer class used to write the\n",
            "                                        results of the conversion\n",
            "    Default: 'FilesWriter'\n",
            "    Equivalent to: [--NbConvertApp.writer_class]\n",
            "--post=<DottedOrNone>\n",
            "    PostProcessor class used to write the\n",
            "                                        results of the conversion\n",
            "    Default: ''\n",
            "    Equivalent to: [--NbConvertApp.postprocessor_class]\n",
            "--output=<Unicode>\n",
            "    Overwrite base name use for output files.\n",
            "                Supports pattern replacements '{notebook_name}'.\n",
            "    Default: '{notebook_name}'\n",
            "    Equivalent to: [--NbConvertApp.output_base]\n",
            "--output-dir=<Unicode>\n",
            "    Directory to write output(s) to. Defaults\n",
            "                                  to output to the directory of each notebook. To recover\n",
            "                                  previous default behaviour (outputting to the current\n",
            "                                  working directory) use . as the flag value.\n",
            "    Default: ''\n",
            "    Equivalent to: [--FilesWriter.build_directory]\n",
            "--reveal-prefix=<Unicode>\n",
            "    The URL prefix for reveal.js (version 3.x).\n",
            "            This defaults to the reveal CDN, but can be any url pointing to a copy\n",
            "            of reveal.js.\n",
            "            For speaker notes to work, this must be a relative path to a local\n",
            "            copy of reveal.js: e.g., \"reveal.js\".\n",
            "            If a relative path is given, it must be a subdirectory of the\n",
            "            current directory (from which the server is run).\n",
            "            See the usage documentation\n",
            "            (https://nbconvert.readthedocs.io/en/latest/usage.html#reveal-js-html-slideshow)\n",
            "            for more details.\n",
            "    Default: ''\n",
            "    Equivalent to: [--SlidesExporter.reveal_url_prefix]\n",
            "--nbformat=<Enum>\n",
            "    The nbformat version to write.\n",
            "            Use this to downgrade notebooks.\n",
            "    Choices: any of [1, 2, 3, 4]\n",
            "    Default: 4\n",
            "    Equivalent to: [--NotebookExporter.nbformat_version]\n",
            "\n",
            "Examples\n",
            "--------\n",
            "\n",
            "    The simplest way to use nbconvert is\n",
            "\n",
            "            > jupyter nbconvert mynotebook.ipynb --to html\n",
            "\n",
            "            Options include ['asciidoc', 'custom', 'html', 'latex', 'markdown', 'notebook', 'pdf', 'python', 'qtpdf', 'qtpng', 'rst', 'script', 'slides', 'webpdf'].\n",
            "\n",
            "            > jupyter nbconvert --to latex mynotebook.ipynb\n",
            "\n",
            "            Both HTML and LaTeX support multiple output templates. LaTeX includes\n",
            "            'base', 'article' and 'report'.  HTML includes 'basic', 'lab' and\n",
            "            'classic'. You can specify the flavor of the format used.\n",
            "\n",
            "            > jupyter nbconvert --to html --template lab mynotebook.ipynb\n",
            "\n",
            "            You can also pipe the output to stdout, rather than a file\n",
            "\n",
            "            > jupyter nbconvert mynotebook.ipynb --stdout\n",
            "\n",
            "            PDF is generated via latex\n",
            "\n",
            "            > jupyter nbconvert mynotebook.ipynb --to pdf\n",
            "\n",
            "            You can get (and serve) a Reveal.js-powered slideshow\n",
            "\n",
            "            > jupyter nbconvert myslides.ipynb --to slides --post serve\n",
            "\n",
            "            Multiple notebooks can be given at the command line in a couple of\n",
            "            different ways:\n",
            "\n",
            "            > jupyter nbconvert notebook*.ipynb\n",
            "            > jupyter nbconvert notebook1.ipynb notebook2.ipynb\n",
            "\n",
            "            or you can specify the notebooks list in a config file, containing::\n",
            "\n",
            "                c.NbConvertApp.notebooks = [\"my_notebook.ipynb\"]\n",
            "\n",
            "            > jupyter nbconvert --config mycfg.py\n",
            "\n",
            "To see all available configurables, use `--help-all`.\n",
            "\n"
          ]
        },
        {
          "output_type": "error",
          "ename": "CalledProcessError",
          "evalue": "Command 'jupyter nbconvert --to html /content/Train_project.ipynb\n' returned non-zero exit status 255.",
          "traceback": [
            "\u001b[0;31m---------------------------------------------------------------------------\u001b[0m",
            "\u001b[0;31mCalledProcessError\u001b[0m                        Traceback (most recent call last)",
            "\u001b[0;32m<ipython-input-27-354c6a17fc4d>\u001b[0m in \u001b[0;36m<cell line: 0>\u001b[0;34m()\u001b[0m\n\u001b[0;32m----> 1\u001b[0;31m \u001b[0mget_ipython\u001b[0m\u001b[0;34m(\u001b[0m\u001b[0;34m)\u001b[0m\u001b[0;34m.\u001b[0m\u001b[0mrun_cell_magic\u001b[0m\u001b[0;34m(\u001b[0m\u001b[0;34m'shell'\u001b[0m\u001b[0;34m,\u001b[0m \u001b[0;34m''\u001b[0m\u001b[0;34m,\u001b[0m \u001b[0;34m'jupyter nbconvert --to html /content/Train_project.ipynb\\n'\u001b[0m\u001b[0;34m)\u001b[0m\u001b[0;34m\u001b[0m\u001b[0;34m\u001b[0m\u001b[0m\n\u001b[0m",
            "\u001b[0;32m/usr/local/lib/python3.11/dist-packages/google/colab/_shell.py\u001b[0m in \u001b[0;36mrun_cell_magic\u001b[0;34m(self, magic_name, line, cell)\u001b[0m\n\u001b[1;32m    356\u001b[0m     \u001b[0;32mif\u001b[0m \u001b[0mline\u001b[0m \u001b[0;32mand\u001b[0m \u001b[0;32mnot\u001b[0m \u001b[0mcell\u001b[0m\u001b[0;34m:\u001b[0m\u001b[0;34m\u001b[0m\u001b[0;34m\u001b[0m\u001b[0m\n\u001b[1;32m    357\u001b[0m       \u001b[0mcell\u001b[0m \u001b[0;34m=\u001b[0m \u001b[0;34m' '\u001b[0m\u001b[0;34m\u001b[0m\u001b[0;34m\u001b[0m\u001b[0m\n\u001b[0;32m--> 358\u001b[0;31m     \u001b[0;32mreturn\u001b[0m \u001b[0msuper\u001b[0m\u001b[0;34m(\u001b[0m\u001b[0;34m)\u001b[0m\u001b[0;34m.\u001b[0m\u001b[0mrun_cell_magic\u001b[0m\u001b[0;34m(\u001b[0m\u001b[0mmagic_name\u001b[0m\u001b[0;34m,\u001b[0m \u001b[0mline\u001b[0m\u001b[0;34m,\u001b[0m \u001b[0mcell\u001b[0m\u001b[0;34m)\u001b[0m\u001b[0;34m\u001b[0m\u001b[0;34m\u001b[0m\u001b[0m\n\u001b[0m\u001b[1;32m    359\u001b[0m \u001b[0;34m\u001b[0m\u001b[0m\n\u001b[1;32m    360\u001b[0m \u001b[0;34m\u001b[0m\u001b[0m\n",
            "\u001b[0;32m/usr/local/lib/python3.11/dist-packages/IPython/core/interactiveshell.py\u001b[0m in \u001b[0;36mrun_cell_magic\u001b[0;34m(self, magic_name, line, cell)\u001b[0m\n\u001b[1;32m   2471\u001b[0m             \u001b[0;32mwith\u001b[0m \u001b[0mself\u001b[0m\u001b[0;34m.\u001b[0m\u001b[0mbuiltin_trap\u001b[0m\u001b[0;34m:\u001b[0m\u001b[0;34m\u001b[0m\u001b[0;34m\u001b[0m\u001b[0m\n\u001b[1;32m   2472\u001b[0m                 \u001b[0margs\u001b[0m \u001b[0;34m=\u001b[0m \u001b[0;34m(\u001b[0m\u001b[0mmagic_arg_s\u001b[0m\u001b[0;34m,\u001b[0m \u001b[0mcell\u001b[0m\u001b[0;34m)\u001b[0m\u001b[0;34m\u001b[0m\u001b[0;34m\u001b[0m\u001b[0m\n\u001b[0;32m-> 2473\u001b[0;31m                 \u001b[0mresult\u001b[0m \u001b[0;34m=\u001b[0m \u001b[0mfn\u001b[0m\u001b[0;34m(\u001b[0m\u001b[0;34m*\u001b[0m\u001b[0margs\u001b[0m\u001b[0;34m,\u001b[0m \u001b[0;34m**\u001b[0m\u001b[0mkwargs\u001b[0m\u001b[0;34m)\u001b[0m\u001b[0;34m\u001b[0m\u001b[0;34m\u001b[0m\u001b[0m\n\u001b[0m\u001b[1;32m   2474\u001b[0m             \u001b[0;32mreturn\u001b[0m \u001b[0mresult\u001b[0m\u001b[0;34m\u001b[0m\u001b[0;34m\u001b[0m\u001b[0m\n\u001b[1;32m   2475\u001b[0m \u001b[0;34m\u001b[0m\u001b[0m\n",
            "\u001b[0;32m/usr/local/lib/python3.11/dist-packages/google/colab/_system_commands.py\u001b[0m in \u001b[0;36m_shell_cell_magic\u001b[0;34m(args, cmd)\u001b[0m\n\u001b[1;32m    110\u001b[0m   \u001b[0mresult\u001b[0m \u001b[0;34m=\u001b[0m \u001b[0m_run_command\u001b[0m\u001b[0;34m(\u001b[0m\u001b[0mcmd\u001b[0m\u001b[0;34m,\u001b[0m \u001b[0mclear_streamed_output\u001b[0m\u001b[0;34m=\u001b[0m\u001b[0;32mFalse\u001b[0m\u001b[0;34m)\u001b[0m\u001b[0;34m\u001b[0m\u001b[0;34m\u001b[0m\u001b[0m\n\u001b[1;32m    111\u001b[0m   \u001b[0;32mif\u001b[0m \u001b[0;32mnot\u001b[0m \u001b[0mparsed_args\u001b[0m\u001b[0;34m.\u001b[0m\u001b[0mignore_errors\u001b[0m\u001b[0;34m:\u001b[0m\u001b[0;34m\u001b[0m\u001b[0;34m\u001b[0m\u001b[0m\n\u001b[0;32m--> 112\u001b[0;31m     \u001b[0mresult\u001b[0m\u001b[0;34m.\u001b[0m\u001b[0mcheck_returncode\u001b[0m\u001b[0;34m(\u001b[0m\u001b[0;34m)\u001b[0m\u001b[0;34m\u001b[0m\u001b[0;34m\u001b[0m\u001b[0m\n\u001b[0m\u001b[1;32m    113\u001b[0m   \u001b[0;32mreturn\u001b[0m \u001b[0mresult\u001b[0m\u001b[0;34m\u001b[0m\u001b[0;34m\u001b[0m\u001b[0m\n\u001b[1;32m    114\u001b[0m \u001b[0;34m\u001b[0m\u001b[0m\n",
            "\u001b[0;32m/usr/local/lib/python3.11/dist-packages/google/colab/_system_commands.py\u001b[0m in \u001b[0;36mcheck_returncode\u001b[0;34m(self)\u001b[0m\n\u001b[1;32m    135\u001b[0m   \u001b[0;32mdef\u001b[0m \u001b[0mcheck_returncode\u001b[0m\u001b[0;34m(\u001b[0m\u001b[0mself\u001b[0m\u001b[0;34m)\u001b[0m\u001b[0;34m:\u001b[0m\u001b[0;34m\u001b[0m\u001b[0;34m\u001b[0m\u001b[0m\n\u001b[1;32m    136\u001b[0m     \u001b[0;32mif\u001b[0m \u001b[0mself\u001b[0m\u001b[0;34m.\u001b[0m\u001b[0mreturncode\u001b[0m\u001b[0;34m:\u001b[0m\u001b[0;34m\u001b[0m\u001b[0;34m\u001b[0m\u001b[0m\n\u001b[0;32m--> 137\u001b[0;31m       raise subprocess.CalledProcessError(\n\u001b[0m\u001b[1;32m    138\u001b[0m           \u001b[0mreturncode\u001b[0m\u001b[0;34m=\u001b[0m\u001b[0mself\u001b[0m\u001b[0;34m.\u001b[0m\u001b[0mreturncode\u001b[0m\u001b[0;34m,\u001b[0m \u001b[0mcmd\u001b[0m\u001b[0;34m=\u001b[0m\u001b[0mself\u001b[0m\u001b[0;34m.\u001b[0m\u001b[0margs\u001b[0m\u001b[0;34m,\u001b[0m \u001b[0moutput\u001b[0m\u001b[0;34m=\u001b[0m\u001b[0mself\u001b[0m\u001b[0;34m.\u001b[0m\u001b[0moutput\u001b[0m\u001b[0;34m\u001b[0m\u001b[0;34m\u001b[0m\u001b[0m\n\u001b[1;32m    139\u001b[0m       )\n",
            "\u001b[0;31mCalledProcessError\u001b[0m: Command 'jupyter nbconvert --to html /content/Train_project.ipynb\n' returned non-zero exit status 255."
          ]
        }
      ]
    }
  ],
  "metadata": {
    "colab": {
      "collapsed_sections": [
        "O5qZG00SM62I",
        "dPwbYJ6W4x8W",
        "cfnoD2H12P_M"
      ],
      "provenance": []
    },
    "kernelspec": {
      "display_name": "Python 3",
      "name": "python3"
    },
    "language_info": {
      "name": "python"
    }
  },
  "nbformat": 4,
  "nbformat_minor": 0
}